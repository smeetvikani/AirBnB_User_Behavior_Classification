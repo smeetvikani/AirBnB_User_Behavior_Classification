{
 "cells": [
  {
   "cell_type": "markdown",
   "metadata": {},
   "source": [
    "### Import Packages"
   ]
  },
  {
   "cell_type": "code",
   "execution_count": 1,
   "metadata": {
    "ExecuteTime": {
     "end_time": "2018-05-21T23:07:53.843087Z",
     "start_time": "2018-05-21T23:07:52.433124Z"
    },
    "collapsed": true
   },
   "outputs": [],
   "source": [
    "import pandas as pd\n",
    "import seaborn\n",
    "import math\n",
    "import sklearn\n",
    "import datetime\n",
    "from sklearn.metrics import roc_curve\n",
    "from sklearn.metrics import auc\n",
    "import matplotlib.pyplot as plt\n",
    "from sklearn.ensemble import RandomForestClassifier\n",
    "from sklearn import metrics\n",
    "import pandas\n",
    "from sklearn import model_selection\n",
    "from sklearn.linear_model import LogisticRegression\n",
    "from sklearn.tree import DecisionTreeClassifier\n",
    "from sklearn.neighbors import KNeighborsClassifier\n",
    "from sklearn.discriminant_analysis import LinearDiscriminantAnalysis\n",
    "from sklearn.naive_bayes import GaussianNB\n",
    "from sklearn.svm import SVC\n",
    "\n",
    "%matplotlib inline"
   ]
  },
  {
   "cell_type": "markdown",
   "metadata": {
    "ExecuteTime": {
     "end_time": "2018-05-11T02:11:48.182430Z",
     "start_time": "2018-05-11T02:11:48.180320Z"
    }
   },
   "source": [
    "### Import Data and Prep for Modeling\n",
    "#### Relabel Dependent variable to Binary"
   ]
  },
  {
   "cell_type": "code",
   "execution_count": 2,
   "metadata": {
    "ExecuteTime": {
     "end_time": "2018-05-21T23:07:57.375862Z",
     "start_time": "2018-05-21T23:07:53.845024Z"
    },
    "collapsed": true
   },
   "outputs": [],
   "source": [
    "model_data_v2 = pd.read_csv('data/all_data_Model4.csv')\n",
    "model_data_v3 = model_data_v2.replace({\n",
    "    'AU': 'other',\n",
    "    'CA': 'other',\n",
    "    'DE': 'other',\n",
    "    'ES': 'other',\n",
    "    'FR': 'other',\n",
    "    'GB': 'other',\n",
    "    'IT': 'other',\n",
    "    'NL': 'other',\n",
    "    'PT': 'other',\n",
    "    'NDF': 'other'\n",
    "})"
   ]
  },
  {
   "cell_type": "code",
   "execution_count": 3,
   "metadata": {
    "ExecuteTime": {
     "end_time": "2018-05-21T23:07:57.412758Z",
     "start_time": "2018-05-21T23:07:57.378676Z"
    },
    "collapsed": true
   },
   "outputs": [],
   "source": [
    "df_dummified_y = model_data_v3['country_destination']\n",
    "model_data_x_dummy_prep=model_data_v3.drop([\"country_destination\",\"Unnamed: 0\"], axis=1)"
   ]
  },
  {
   "cell_type": "markdown",
   "metadata": {},
   "source": [
    "### Dummify Features"
   ]
  },
  {
   "cell_type": "code",
   "execution_count": 4,
   "metadata": {
    "ExecuteTime": {
     "end_time": "2018-05-21T23:07:57.616404Z",
     "start_time": "2018-05-21T23:07:57.419839Z"
    },
    "collapsed": true
   },
   "outputs": [],
   "source": [
    "df_dummified_x = pd.get_dummies(\n",
    "    model_data_x_dummy_prep,\n",
    "    columns=['Age_Over40', 'Age_31-39',\n",
    "       'Age_Under31', 'Age_unknown', 'Month_account_created','gender', 'signup_method', 'signup_flow',\n",
    "       'language', 'affiliate_channel', 'affiliate_provider',\n",
    "       'first_affiliate_tracked', 'signup_app', 'first_device_type',\n",
    "       'first_browser'\n",
    "],\n",
    "    drop_first=True)"
   ]
  },
  {
   "cell_type": "markdown",
   "metadata": {},
   "source": [
    "### Update Syntax from string to  binary so model is classified as bivariate. "
   ]
  },
  {
   "cell_type": "code",
   "execution_count": 5,
   "metadata": {
    "ExecuteTime": {
     "end_time": "2018-05-21T23:07:57.658697Z",
     "start_time": "2018-05-21T23:07:57.623210Z"
    },
    "collapsed": true
   },
   "outputs": [],
   "source": [
    "df_dummified_y_2=df_dummified_y.replace({'other':0,'US':1})"
   ]
  },
  {
   "cell_type": "markdown",
   "metadata": {},
   "source": [
    "### Visualize new variables"
   ]
  },
  {
   "cell_type": "code",
   "execution_count": 6,
   "metadata": {
    "ExecuteTime": {
     "end_time": "2018-05-21T23:07:57.695272Z",
     "start_time": "2018-05-21T23:07:57.661717Z"
    }
   },
   "outputs": [
    {
     "data": {
      "text/plain": [
       "[0, 1]"
      ]
     },
     "execution_count": 6,
     "metadata": {},
     "output_type": "execute_result"
    }
   ],
   "source": [
    "list_col=[i for i in df_dummified_y_2.values]\n",
    "list_col2=list(set(list_col))\n",
    "list_col2"
   ]
  },
  {
   "cell_type": "markdown",
   "metadata": {},
   "source": [
    "### Split into Train and Test"
   ]
  },
  {
   "cell_type": "code",
   "execution_count": 7,
   "metadata": {
    "ExecuteTime": {
     "end_time": "2018-05-21T23:07:57.973850Z",
     "start_time": "2018-05-21T23:07:57.698108Z"
    }
   },
   "outputs": [
    {
     "data": {
      "text/plain": [
       "51670"
      ]
     },
     "execution_count": 7,
     "metadata": {},
     "output_type": "execute_result"
    }
   ],
   "source": [
    "\n",
    "X_train, X_test, y_train, y_test = model_selection.train_test_split(df_dummified_x, df_dummified_y_2, test_size=0.3, stratify=df_dummified_y,)\n",
    "X_trained_notscaled=X_train.copy()\n",
    "len(y_train)"
   ]
  },
  {
   "cell_type": "markdown",
   "metadata": {},
   "source": [
    "### Smote to fix class imbalance"
   ]
  },
  {
   "cell_type": "code",
   "execution_count": 8,
   "metadata": {
    "ExecuteTime": {
     "end_time": "2018-05-21T23:07:58.063513Z",
     "start_time": "2018-05-21T23:07:57.976993Z"
    },
    "collapsed": true
   },
   "outputs": [],
   "source": [
    "from collections import Counter\n",
    "from sklearn.datasets import make_classification\n",
    "from imblearn.over_sampling import SMOTE \n"
   ]
  },
  {
   "cell_type": "code",
   "execution_count": 9,
   "metadata": {
    "ExecuteTime": {
     "end_time": "2018-05-21T23:08:23.668861Z",
     "start_time": "2018-05-21T23:07:58.070039Z"
    },
    "collapsed": true
   },
   "outputs": [],
   "source": [
    "sm = SMOTE(random_state=42)\n",
    "X_smote, y_smote = sm.fit_sample(X_train, y_train)\n",
    "\n",
    "Xy_smote=X_smote,X_smote"
   ]
  },
  {
   "cell_type": "code",
   "execution_count": 10,
   "metadata": {
    "ExecuteTime": {
     "end_time": "2018-05-21T23:08:23.681950Z",
     "start_time": "2018-05-21T23:08:23.671570Z"
    }
   },
   "outputs": [
    {
     "data": {
      "text/plain": [
       "75208"
      ]
     },
     "execution_count": 10,
     "metadata": {},
     "output_type": "execute_result"
    }
   ],
   "source": [
    "len(y_smote)"
   ]
  },
  {
   "cell_type": "markdown",
   "metadata": {},
   "source": [
    "### Scale the Train and Dataset for LR"
   ]
  },
  {
   "cell_type": "code",
   "execution_count": 11,
   "metadata": {
    "ExecuteTime": {
     "end_time": "2018-05-21T23:08:24.615769Z",
     "start_time": "2018-05-21T23:08:23.686743Z"
    }
   },
   "outputs": [
    {
     "data": {
      "text/plain": [
       "75208"
      ]
     },
     "execution_count": 11,
     "metadata": {},
     "output_type": "execute_result"
    }
   ],
   "source": [
    "from sklearn.preprocessing import StandardScaler\n",
    "scaler = StandardScaler()\n",
    "X_smote = scaler.fit_transform(X_smote)\n",
    "X_test = scaler.transform(X_test)\n",
    "len(X_smote)"
   ]
  },
  {
   "cell_type": "markdown",
   "metadata": {},
   "source": [
    "### Tuple For Easy Reference"
   ]
  },
  {
   "cell_type": "code",
   "execution_count": 12,
   "metadata": {
    "ExecuteTime": {
     "end_time": "2018-05-21T23:08:24.653670Z",
     "start_time": "2018-05-21T23:08:24.646579Z"
    },
    "collapsed": true
   },
   "outputs": [],
   "source": [
    "skip_size = 10 # skip every n examples"
   ]
  },
  {
   "cell_type": "code",
   "execution_count": 13,
   "metadata": {
    "ExecuteTime": {
     "end_time": "2018-05-21T23:08:24.711905Z",
     "start_time": "2018-05-21T23:08:24.670878Z"
    }
   },
   "outputs": [
    {
     "data": {
      "text/plain": [
       "51670"
      ]
     },
     "execution_count": 13,
     "metadata": {},
     "output_type": "execute_result"
    }
   ],
   "source": [
    "Xy_train=X_train,y_train\n",
    "Xy_train_skip=X_train[::skip_size],y_train[::skip_size]\n",
    "\n",
    "X_train_skip=X_train[::skip_size]\n",
    "y_train_skip=y_train[::skip_size]\n",
    "\n",
    "Xy_test=X_test,y_test\n",
    "Xy_test_skip=X_test[::skip_size],y_test[::skip_size]\n",
    "\n",
    "X_smote_skip=X_smote[::skip_size]\n",
    "y_smote_skip=y_smote[::skip_size]\n",
    "Xy_smote_skip=Xy_smote[::skip_size]\n",
    "\n",
    "len(y_train)"
   ]
  },
  {
   "cell_type": "markdown",
   "metadata": {},
   "source": [
    "### Functions Defined that will be used for analysis (Methods)"
   ]
  },
  {
   "cell_type": "code",
   "execution_count": 14,
   "metadata": {
    "ExecuteTime": {
     "end_time": "2018-05-21T23:08:25.065589Z",
     "start_time": "2018-05-21T23:08:24.714484Z"
    },
    "collapsed": true
   },
   "outputs": [],
   "source": [
    "def classify(model,X_test,X_train,y_train):\n",
    "    \"\"\"predicts y first, classify, \"\"\"\n",
    "    y_pred = model.predict(X_test)\n",
    "    print(metrics.classification_report(y_test,y_pred))\n",
    "    print(model.score(*Xy_test))\n",
    "    print(metrics.confusion_matrix(y_test, y_pred))\n",
    "    \n",
    "\n",
    "def plot_roc_curve(model, x_test, y_test):\n",
    "\n",
    "    y_score=model.predict_proba(x_test)[:,1]\n",
    "\n",
    "    fpr, tpr,_ = roc_curve(y_test, y_score)\n",
    "    roc_auc = auc(fpr, tpr)\n",
    "\n",
    "    plt.figure(figsize=(10,8))\n",
    "    # Plotting our Baseline..\n",
    "    plt.plot([0,1],[0,1])\n",
    "    plt.plot(fpr,tpr,color='green')\n",
    "    plt.xlabel('FPR')\n",
    "    plt.ylabel('TPR')\n",
    "    plt.title('ROC Curve (AUC = ' + str(roc_auc)+ ')')\n",
    "\n",
    "def analyze_coef(df_with_cols,model,num_points):\n",
    "    feat = df_with_cols.columns\n",
    "    coef = model.coef_.flatten()\n",
    "    sort_i = np.argsort(-np.abs(coef))\n",
    "\n",
    "\n",
    "    n_plot = num_points\n",
    "    ind = np.arange(n_plot)\n",
    "    plt.figure(figsize=(40,10))\n",
    "    plt.xticks(rotation=90)\n",
    "    plt.scatter(ind, coef[sort_i][:n_plot])\n",
    "    plt.xticks(ind, feat[sort_i][:n_plot], rotation=90);\n",
    "    plt.title(\"Top coefficients for CV-optimized lasso model\")\n",
    "    plt.ylabel(\"coefficient\");\n",
    "\n",
    "    \n",
    "import itertools\n",
    "def plot_confusion_matrix(cm, classes,\n",
    "                          normalize=False,\n",
    "                          title='Confusion matrix',\n",
    "                          cmap=plt.cm.Blues):\n",
    "    \"\"\"\n",
    "    This function prints and plots the confusion matrix.\n",
    "    Normalization can be applied by setting `normalize=True`.\n",
    "    \"\"\"\n",
    "    if normalize:\n",
    "        cm = cm.astype('float') / cm.sum(axis=1)[:, np.newaxis]\n",
    "        print(\"Normalized confusion matrix\")\n",
    "    else:\n",
    "        print('Confusion matrix, without normalization')\n",
    "\n",
    "    print(cm)\n",
    "\n",
    "    plt.imshow(cm, interpolation='nearest', cmap=cmap)\n",
    "    plt.title(title)\n",
    "\n",
    "    plt.colorbar()\n",
    "    tick_marks = np.arange(len(classes))\n",
    "    plt.xticks(tick_marks, classes, rotation=45)\n",
    "    plt.yticks(tick_marks, classes)\n",
    "\n",
    "    fmt = '.2f' if normalize else 'd'\n",
    "    thresh = cm.max() / 2.\n",
    "    for i, j in itertools.product(range(cm.shape[0]), range(cm.shape[1])):\n",
    "        plt.text(j, i, format(cm[i, j], fmt),\n",
    "                 horizontalalignment=\"center\",\n",
    "                 color=\"white\" if cm[i, j] > thresh else \"black\")\n",
    "\n",
    "    plt.tight_layout()\n",
    "    plt.ylabel('True label')\n",
    "    plt.xlabel('Predicted label')\n",
    "    "
   ]
  },
  {
   "cell_type": "markdown",
   "metadata": {
    "ExecuteTime": {
     "end_time": "2018-05-07T01:26:45.027749Z",
     "start_time": "2018-05-07T01:26:44.802821Z"
    }
   },
   "source": [
    "### Establish Baseline\n",
    "#### 27% For TruePositives"
   ]
  },
  {
   "cell_type": "code",
   "execution_count": 15,
   "metadata": {
    "ExecuteTime": {
     "end_time": "2018-05-21T23:08:25.085332Z",
     "start_time": "2018-05-21T23:08:25.068117Z"
    }
   },
   "outputs": [
    {
     "data": {
      "text/plain": [
       "0    0.727749\n",
       "1    0.272251\n",
       "Name: country_destination, dtype: float64"
      ]
     },
     "execution_count": 15,
     "metadata": {},
     "output_type": "execute_result"
    }
   ],
   "source": [
    "y_test.value_counts()/len(y_test)"
   ]
  },
  {
   "cell_type": "markdown",
   "metadata": {
    "ExecuteTime": {
     "end_time": "2018-05-04T20:05:29.764260Z",
     "start_time": "2018-05-04T20:05:29.724195Z"
    }
   },
   "source": [
    "### Model Using Sklearns - Random Forest Classifier "
   ]
  },
  {
   "cell_type": "code",
   "execution_count": 16,
   "metadata": {
    "ExecuteTime": {
     "end_time": "2018-05-21T23:08:29.530830Z",
     "start_time": "2018-05-21T23:08:25.091160Z"
    }
   },
   "outputs": [
    {
     "data": {
      "text/plain": [
       "0.73912847143824789"
      ]
     },
     "execution_count": 16,
     "metadata": {},
     "output_type": "execute_result"
    }
   ],
   "source": [
    "rfc = RandomForestClassifier(max_depth=6.5,min_samples_split=48,verbose=0,max_features=60,class_weight='balanced')\n",
    "rfc.fit(X_smote,y_smote)\n",
    "rfc.score(X_test,y_test)"
   ]
  },
  {
   "cell_type": "code",
   "execution_count": 17,
   "metadata": {
    "ExecuteTime": {
     "end_time": "2018-05-21T23:08:29.636032Z",
     "start_time": "2018-05-21T23:08:29.537400Z"
    }
   },
   "outputs": [
    {
     "name": "stdout",
     "output_type": "stream",
     "text": [
      "             precision    recall  f1-score   support\n",
      "\n",
      "          0       0.84      0.79      0.81     16116\n",
      "          1       0.52      0.61      0.56      6029\n",
      "\n",
      "avg / total       0.76      0.74      0.75     22145\n",
      "\n",
      "0.739128471438\n",
      "[[12663  3453]\n",
      " [ 2324  3705]]\n"
     ]
    }
   ],
   "source": [
    "classify(rfc,X_test,X_smote,y_smote)"
   ]
  },
  {
   "cell_type": "markdown",
   "metadata": {
    "ExecuteTime": {
     "end_time": "2018-05-21T21:01:57.755934Z",
     "start_time": "2018-05-21T21:01:57.753303Z"
    }
   },
   "source": [
    "### Visualize the ROC Curve"
   ]
  },
  {
   "cell_type": "code",
   "execution_count": 18,
   "metadata": {
    "ExecuteTime": {
     "end_time": "2018-05-21T23:08:30.045025Z",
     "start_time": "2018-05-21T23:08:29.642833Z"
    }
   },
   "outputs": [
    {
     "data": {
      "image/png": "[encoded data removed]",
      "text/plain": [
       "<matplotlib.figure.Figure at 0x1a10a41f28>"
      ]
     },
     "metadata": {},
     "output_type": "display_data"
    }
   ],
   "source": [
    "plot_roc_curve(rfc,X_test,y_test)"
   ]
  },
  {
   "cell_type": "markdown",
   "metadata": {},
   "source": [
    "## Test Additional Models using the pipeline"
   ]
  },
  {
   "cell_type": "code",
   "execution_count": 19,
   "metadata": {
    "ExecuteTime": {
     "end_time": "2018-05-21T23:08:38.749364Z",
     "start_time": "2018-05-21T23:08:30.048549Z"
    },
    "scrolled": false
   },
   "outputs": [
    {
     "name": "stdout",
     "output_type": "stream",
     "text": [
      "LR: 0.676872 (0.113460)\n"
     ]
    },
    {
     "name": "stderr",
     "output_type": "stream",
     "text": [
      "/Users/honeybadger4/anaconda3/lib/python3.6/site-packages/sklearn/discriminant_analysis.py:388: UserWarning: Variables are collinear.\n",
      "  warnings.warn(\"Variables are collinear.\")\n",
      "/Users/honeybadger4/anaconda3/lib/python3.6/site-packages/sklearn/discriminant_analysis.py:388: UserWarning: Variables are collinear.\n",
      "  warnings.warn(\"Variables are collinear.\")\n"
     ]
    },
    {
     "name": "stdout",
     "output_type": "stream",
     "text": [
      "LDA: 0.348624 (0.125478)\n",
      "KNN: 0.443463 (0.048331)\n"
     ]
    },
    {
     "name": "stderr",
     "output_type": "stream",
     "text": [
      "/Users/honeybadger4/anaconda3/lib/python3.6/site-packages/sklearn/ensemble/forest.py:453: UserWarning: Some inputs do not have OOB scores. This probably means too few trees were used to compute any reliable oob estimates.\n",
      "  warn(\"Some inputs do not have OOB scores. \"\n",
      "/Users/honeybadger4/anaconda3/lib/python3.6/site-packages/sklearn/ensemble/forest.py:458: RuntimeWarning: invalid value encountered in true_divide\n",
      "  predictions[k].sum(axis=1)[:, np.newaxis])\n",
      "/Users/honeybadger4/anaconda3/lib/python3.6/site-packages/sklearn/ensemble/forest.py:453: UserWarning: Some inputs do not have OOB scores. This probably means too few trees were used to compute any reliable oob estimates.\n",
      "  warn(\"Some inputs do not have OOB scores. \"\n",
      "/Users/honeybadger4/anaconda3/lib/python3.6/site-packages/sklearn/ensemble/forest.py:458: RuntimeWarning: invalid value encountered in true_divide\n",
      "  predictions[k].sum(axis=1)[:, np.newaxis])\n"
     ]
    },
    {
     "name": "stdout",
     "output_type": "stream",
     "text": [
      "RFC: 0.544492 (0.038163)\n"
     ]
    },
    {
     "data": {
      "image/png": "[encoded data removed]",
      "text/plain": [
       "<matplotlib.figure.Figure at 0x1a13a8a0f0>"
      ]
     },
     "metadata": {},
     "output_type": "display_data"
    }
   ],
   "source": [
    "seed = 7\n",
    "# prepare models\n",
    "models = []\n",
    "models.append(('LR', LogisticRegression(penalty='l2', class_weight='balanced')))\n",
    "models.append(('LDA', LinearDiscriminantAnalysis()))\n",
    "models.append(('KNN', KNeighborsClassifier()))\n",
    "# models.append(('SVM', SVC()))\n",
    "models.append(('RFC',\n",
    "               RandomForestClassifier(\n",
    "                   max_depth=6.5,\n",
    "                   min_samples_split=48,\n",
    "     \n",
    "                   max_features=60,\n",
    "                   oob_score=True)))\n",
    "#\n",
    "# evaluate each model in turn\n",
    "results = []\n",
    "names = []\n",
    "scoring = 'f1'\n",
    "for name, model in models:\n",
    "    kfold = model_selection.KFold(n_splits=2, random_state=seed)\n",
    "    cv_results = model_selection.cross_val_score(\n",
    "        model,\n",
    "        X_smote[::skip_size],y_smote[::skip_size],\n",
    "\n",
    "        cv=kfold,\n",
    "        scoring=scoring)\n",
    "    results.append(cv_results)\n",
    "    names.append(name)\n",
    "    msg = \"%s: %f (%f)\" % (name, cv_results.mean(), cv_results.std())\n",
    "    print(msg)\n",
    "# boxplot algorithm comparison\n",
    "fig = plt.figure()\n",
    "fig.suptitle('Algorithm Comparison')\n",
    "ax = fig.add_subplot(111)\n",
    "plt.boxplot(results)\n",
    "ax.set_xticklabels(names)\n",
    "plt.show()"
   ]
  },
  {
   "cell_type": "markdown",
   "metadata": {
    "ExecuteTime": {
     "end_time": "2018-05-11T01:36:44.340902Z",
     "start_time": "2018-05-11T01:36:44.337399Z"
    }
   },
   "source": [
    "###  Confusion Matrix of the best model: Logistic Regression"
   ]
  },
  {
   "cell_type": "code",
   "execution_count": 20,
   "metadata": {
    "ExecuteTime": {
     "end_time": "2018-05-21T23:08:58.008280Z",
     "start_time": "2018-05-21T23:08:38.752299Z"
    },
    "scrolled": true
   },
   "outputs": [
    {
     "name": "stdout",
     "output_type": "stream",
     "text": [
      "             precision    recall  f1-score   support\n",
      "\n",
      "          0       0.88      0.70      0.78     16116\n",
      "          1       0.48      0.73      0.58      6029\n",
      "\n",
      "avg / total       0.77      0.71      0.72     22145\n",
      "\n",
      "0.707112214947\n",
      "[[11235  4881]\n",
      " [ 1605  4424]]\n"
     ]
    }
   ],
   "source": [
    "logic_r_model=LogisticRegression(penalty='l2', class_weight='balanced')\n",
    "logic_r_model.fit(X_smote,y_smote)\n",
    "logic_r_model.score(X_test,y_test)\n",
    "classify(logic_r_model,X_test,X_smote,y_smote)"
   ]
  },
  {
   "cell_type": "markdown",
   "metadata": {},
   "source": [
    "###  Coefs of the best model: Logistic Regression"
   ]
  },
  {
   "cell_type": "code",
   "execution_count": 21,
   "metadata": {
    "ExecuteTime": {
     "end_time": "2018-05-21T23:08:58.461512Z",
     "start_time": "2018-05-21T23:08:58.010791Z"
    },
    "scrolled": true
   },
   "outputs": [
    {
     "data": {
      "image/png": "[encoded data removed]",
      "text/plain": [
       "<matplotlib.figure.Figure at 0x1a10a1c668>"
      ]
     },
     "metadata": {},
     "output_type": "display_data"
    }
   ],
   "source": [
    "analyze_coef(X_trained_notscaled,logic_r_model,30)"
   ]
  },
  {
   "cell_type": "markdown",
   "metadata": {
    "ExecuteTime": {
     "end_time": "2018-05-21T21:10:26.988574Z",
     "start_time": "2018-05-21T21:10:26.985348Z"
    }
   },
   "source": [
    "### Perform Grid Search to optimize the model"
   ]
  },
  {
   "cell_type": "code",
   "execution_count": 22,
   "metadata": {
    "ExecuteTime": {
     "end_time": "2018-05-21T23:08:58.477360Z",
     "start_time": "2018-05-21T23:08:58.464560Z"
    },
    "collapsed": true
   },
   "outputs": [],
   "source": [
    "#Declare Grid\n",
    "param_grid2 = {\n",
    "    \"solver\": ['saga'],\n",
    "    \"multi_class\": ['ovr', 'multinomial']\n",
    "}\n"
   ]
  },
  {
   "cell_type": "markdown",
   "metadata": {
    "ExecuteTime": {
     "end_time": "2018-05-21T21:12:16.020073Z",
     "start_time": "2018-05-21T21:12:16.017079Z"
    }
   },
   "source": [
    "### Attach Grid to the model"
   ]
  },
  {
   "cell_type": "code",
   "execution_count": 23,
   "metadata": {
    "ExecuteTime": {
     "end_time": "2018-05-21T23:08:58.494167Z",
     "start_time": "2018-05-21T23:08:58.483628Z"
    }
   },
   "outputs": [
    {
     "data": {
      "text/plain": [
       "dict_keys(['cv', 'error_score', 'estimator__C', 'estimator__class_weight', 'estimator__dual', 'estimator__fit_intercept', 'estimator__intercept_scaling', 'estimator__max_iter', 'estimator__multi_class', 'estimator__n_jobs', 'estimator__penalty', 'estimator__random_state', 'estimator__solver', 'estimator__tol', 'estimator__verbose', 'estimator__warm_start', 'estimator', 'fit_params', 'iid', 'n_jobs', 'param_grid', 'pre_dispatch', 'refit', 'return_train_score', 'scoring', 'verbose'])"
      ]
     },
     "execution_count": 23,
     "metadata": {},
     "output_type": "execute_result"
    }
   ],
   "source": [
    "rbf_grid2 = model_selection.GridSearchCV(logic_r_model, param_grid2, cv=3, scoring='f1')\n",
    "\n",
    "rbf_grid2.get_params().keys()"
   ]
  },
  {
   "cell_type": "markdown",
   "metadata": {
    "ExecuteTime": {
     "end_time": "2018-05-21T21:12:28.521583Z",
     "start_time": "2018-05-21T21:12:28.517429Z"
    }
   },
   "source": [
    "### Perform Grid Search"
   ]
  },
  {
   "cell_type": "code",
   "execution_count": 24,
   "metadata": {
    "ExecuteTime": {
     "end_time": "2018-05-21T23:09:07.517961Z",
     "start_time": "2018-05-21T23:08:58.499464Z"
    }
   },
   "outputs": [
    {
     "name": "stderr",
     "output_type": "stream",
     "text": [
      "/Users/honeybadger4/anaconda3/lib/python3.6/site-packages/sklearn/linear_model/sag.py:326: ConvergenceWarning: The max_iter was reached which means the coef_ did not converge\n",
      "  \"the coef_ did not converge\", ConvergenceWarning)\n",
      "/Users/honeybadger4/anaconda3/lib/python3.6/site-packages/sklearn/linear_model/sag.py:326: ConvergenceWarning: The max_iter was reached which means the coef_ did not converge\n",
      "  \"the coef_ did not converge\", ConvergenceWarning)\n",
      "/Users/honeybadger4/anaconda3/lib/python3.6/site-packages/sklearn/linear_model/sag.py:326: ConvergenceWarning: The max_iter was reached which means the coef_ did not converge\n",
      "  \"the coef_ did not converge\", ConvergenceWarning)\n",
      "/Users/honeybadger4/anaconda3/lib/python3.6/site-packages/sklearn/linear_model/sag.py:326: ConvergenceWarning: The max_iter was reached which means the coef_ did not converge\n",
      "  \"the coef_ did not converge\", ConvergenceWarning)\n",
      "/Users/honeybadger4/anaconda3/lib/python3.6/site-packages/sklearn/linear_model/sag.py:326: ConvergenceWarning: The max_iter was reached which means the coef_ did not converge\n",
      "  \"the coef_ did not converge\", ConvergenceWarning)\n",
      "/Users/honeybadger4/anaconda3/lib/python3.6/site-packages/sklearn/linear_model/sag.py:326: ConvergenceWarning: The max_iter was reached which means the coef_ did not converge\n",
      "  \"the coef_ did not converge\", ConvergenceWarning)\n",
      "/Users/honeybadger4/anaconda3/lib/python3.6/site-packages/sklearn/linear_model/sag.py:326: ConvergenceWarning: The max_iter was reached which means the coef_ did not converge\n",
      "  \"the coef_ did not converge\", ConvergenceWarning)\n"
     ]
    },
    {
     "data": {
      "text/plain": [
       "GridSearchCV(cv=3, error_score='raise',\n",
       "       estimator=LogisticRegression(C=1.0, class_weight='balanced', dual=False,\n",
       "          fit_intercept=True, intercept_scaling=1, max_iter=100,\n",
       "          multi_class='ovr', n_jobs=1, penalty='l2', random_state=None,\n",
       "          solver='liblinear', tol=0.0001, verbose=0, warm_start=False),\n",
       "       fit_params=None, iid=True, n_jobs=1,\n",
       "       param_grid={'solver': ['saga'], 'multi_class': ['ovr', 'multinomial']},\n",
       "       pre_dispatch='2*n_jobs', refit=True, return_train_score='warn',\n",
       "       scoring='f1', verbose=0)"
      ]
     },
     "execution_count": 24,
     "metadata": {},
     "output_type": "execute_result"
    }
   ],
   "source": [
    "rbf_grid2.fit(X_smote_skip,y_smote_skip)"
   ]
  },
  {
   "cell_type": "code",
   "execution_count": 25,
   "metadata": {
    "ExecuteTime": {
     "end_time": "2018-05-21T23:09:07.539439Z",
     "start_time": "2018-05-21T23:09:07.520381Z"
    }
   },
   "outputs": [
    {
     "data": {
      "text/plain": [
       "0.73794170750580346"
      ]
     },
     "execution_count": 25,
     "metadata": {},
     "output_type": "execute_result"
    }
   ],
   "source": [
    "rbf_grid2.score(X_smote_skip,y_smote_skip)"
   ]
  },
  {
   "cell_type": "markdown",
   "metadata": {},
   "source": [
    "### Extract the best model"
   ]
  },
  {
   "cell_type": "code",
   "execution_count": 26,
   "metadata": {
    "ExecuteTime": {
     "end_time": "2018-05-21T23:09:07.556365Z",
     "start_time": "2018-05-21T23:09:07.543242Z"
    }
   },
   "outputs": [
    {
     "data": {
      "text/plain": [
       "LogisticRegression(C=1.0, class_weight='balanced', dual=False,\n",
       "          fit_intercept=True, intercept_scaling=1, max_iter=100,\n",
       "          multi_class='ovr', n_jobs=1, penalty='l2', random_state=None,\n",
       "          solver='saga', tol=0.0001, verbose=0, warm_start=False)"
      ]
     },
     "execution_count": 26,
     "metadata": {},
     "output_type": "execute_result"
    }
   ],
   "source": [
    "new_model=rbf_grid2.best_estimator_\n",
    "rbf_grid2.best_estimator_"
   ]
  },
  {
   "cell_type": "code",
   "execution_count": 27,
   "metadata": {
    "ExecuteTime": {
     "end_time": "2018-05-21T23:09:09.129427Z",
     "start_time": "2018-05-21T23:09:07.563343Z"
    }
   },
   "outputs": [
    {
     "name": "stderr",
     "output_type": "stream",
     "text": [
      "/Users/honeybadger4/anaconda3/lib/python3.6/site-packages/sklearn/linear_model/sag.py:326: ConvergenceWarning: The max_iter was reached which means the coef_ did not converge\n",
      "  \"the coef_ did not converge\", ConvergenceWarning)\n"
     ]
    },
    {
     "data": {
      "text/plain": [
       "0.69907428313389031"
      ]
     },
     "execution_count": 27,
     "metadata": {},
     "output_type": "execute_result"
    }
   ],
   "source": [
    "new_model.fit(X_smote_skip,y_smote_skip)\n",
    "new_model.score(X_test,y_test)"
   ]
  },
  {
   "cell_type": "markdown",
   "metadata": {},
   "source": [
    "### Classify the best model"
   ]
  },
  {
   "cell_type": "code",
   "execution_count": 28,
   "metadata": {
    "ExecuteTime": {
     "end_time": "2018-05-21T23:09:09.170232Z",
     "start_time": "2018-05-21T23:09:09.132232Z"
    }
   },
   "outputs": [
    {
     "name": "stdout",
     "output_type": "stream",
     "text": [
      "             precision    recall  f1-score   support\n",
      "\n",
      "          0       0.88      0.68      0.77     16116\n",
      "          1       0.47      0.74      0.57      6029\n",
      "\n",
      "avg / total       0.77      0.70      0.71     22145\n",
      "\n",
      "0.699074283134\n",
      "[[10993  5123]\n",
      " [ 1541  4488]]\n"
     ]
    }
   ],
   "source": [
    "classify(new_model,X_test,X_smote_skip,y_smote_skip)"
   ]
  },
  {
   "cell_type": "markdown",
   "metadata": {
    "ExecuteTime": {
     "end_time": "2018-05-15T13:35:28.701512Z",
     "start_time": "2018-05-15T13:35:28.698359Z"
    }
   },
   "source": [
    "### Establish the best threshold for the class:\n",
    "#### Step 1: Plot Precision Recall Curve"
   ]
  },
  {
   "cell_type": "code",
   "execution_count": 29,
   "metadata": {
    "ExecuteTime": {
     "end_time": "2018-05-21T23:09:09.298276Z",
     "start_time": "2018-05-21T23:09:09.172322Z"
    }
   },
   "outputs": [
    {
     "data": {
      "image/png": "[encoded data removed]",
      "text/plain": [
       "<matplotlib.figure.Figure at 0x1a13b53fd0>"
      ]
     },
     "metadata": {},
     "output_type": "display_data"
    }
   ],
   "source": [
    "### Plot the precision recall curve to determine the threshold.\n",
    "from  sklearn.metrics import precision_recall_curve\n",
    "\n",
    "y_score_pr_curve=logic_r_model.predict_proba(X_test)[:,1]\n",
    "p,r,t=precision_recall_curve(y_test,y_score_pr_curve)\n",
    "\n",
    "# adding last threshold of '1' to threshold list\n",
    "t=np.vstack([t.reshape([-1,1]),1])\n",
    "\n",
    "plt.plot(t,p)\n",
    "plt.plot(t,r);\n",
    "plt.grid()\n",
    "plt.axvline(x=.640589566 , color='red');\n",
    "plt.title('Precision Recall Curve');"
   ]
  },
  {
   "cell_type": "markdown",
   "metadata": {
    "ExecuteTime": {
     "end_time": "2018-05-21T21:28:46.979622Z",
     "start_time": "2018-05-21T21:28:46.976337Z"
    }
   },
   "source": [
    "## Step 2: Plot a custom cost function  \n",
    "### Helps optimize the curve\n",
    "* True Positive = gain 1 Dollar\n",
    "* False Positive = loss 50 cents\n",
    "* False Negative = loss 50 cents"
   ]
  },
  {
   "cell_type": "code",
   "execution_count": 30,
   "metadata": {
    "ExecuteTime": {
     "end_time": "2018-05-21T23:09:09.413235Z",
     "start_time": "2018-05-21T23:09:09.300860Z"
    },
    "scrolled": true
   },
   "outputs": [
    {
     "name": "stderr",
     "output_type": "stream",
     "text": [
      "/Users/honeybadger4/anaconda3/lib/python3.6/site-packages/ipykernel_launcher.py:4: RuntimeWarning: invalid value encountered in true_divide\n",
      "  after removing the cwd from sys.path.\n"
     ]
    },
    {
     "data": {
      "image/png": "[encoded data removed]",
      "text/plain": [
       "<matplotlib.figure.Figure at 0x1a13a9aa58>"
      ]
     },
     "metadata": {},
     "output_type": "display_data"
    }
   ],
   "source": [
    "n_pos = np.sum(y_test)\n",
    "true_pos = r*n_pos\n",
    "false_neg = n_pos - true_pos\n",
    "false_pos = true_pos/p-true_pos\n",
    "smeet_cost = 1.5*true_pos -.5*false_neg -.5*false_pos\n",
    "plt.plot(t, smeet_cost)\n",
    "plt.axvline(x=.35 , color='red');"
   ]
  },
  {
   "cell_type": "markdown",
   "metadata": {},
   "source": [
    "### Plot Cost Function and Precision Recall Curve Side by Side"
   ]
  },
  {
   "cell_type": "code",
   "execution_count": 31,
   "metadata": {
    "ExecuteTime": {
     "end_time": "2018-05-21T23:09:09.622356Z",
     "start_time": "2018-05-21T23:09:09.415642Z"
    }
   },
   "outputs": [
    {
     "data": {
      "image/png": "[encoded data removed]",
      "text/plain": [
       "<matplotlib.figure.Figure at 0x1a1421a390>"
      ]
     },
     "metadata": {},
     "output_type": "display_data"
    }
   ],
   "source": [
    "x=[i for i in range(20)]\n",
    "y=[i*5 for i in range(20)]\n",
    "x2=[i for i in range(20)]\n",
    "y2=[(i)*.5 for i in range(20)]\n",
    "\n",
    "f, axarr = plt.subplots(2,figsize=(12,6),sharex=True)\n",
    "\n",
    "f.suptitle('Sharing X axis')\n",
    "axarr[0].plot(t, smeet_cost)\n",
    "axarr[1].plot(t,p)\n",
    "axarr[1].plot(t,r)\n",
    "axarr[1].set_title('Cost Function')\n",
    "axarr[1].set_title('Precision Recall Curve')\n",
    "axarr[1].axvline(x=.35 , color='red');\n",
    "axarr[0].axvline(x=.35 , color='red');"
   ]
  },
  {
   "cell_type": "markdown",
   "metadata": {},
   "source": [
    "### Plot Confusion Matrix and Analyze results for the new threshold.\n",
    "* This is the final Model. \n",
    "* Threshold of .35\n",
    "* Precision of .42\n",
    "* Recall of .86\n"
   ]
  },
  {
   "cell_type": "code",
   "execution_count": 32,
   "metadata": {
    "ExecuteTime": {
     "end_time": "2018-05-21T23:09:09.635478Z",
     "start_time": "2018-05-21T23:09:09.624707Z"
    },
    "collapsed": true
   },
   "outputs": [],
   "source": [
    "y_predict_proba=logic_r_model.predict_proba(X_test)[:,1]"
   ]
  },
  {
   "cell_type": "code",
   "execution_count": 33,
   "metadata": {
    "ExecuteTime": {
     "end_time": "2018-05-21T23:09:09.647706Z",
     "start_time": "2018-05-21T23:09:09.638734Z"
    }
   },
   "outputs": [
    {
     "data": {
      "text/plain": [
       "array([False,  True, False, ...,  True, False, False], dtype=bool)"
      ]
     },
     "execution_count": 33,
     "metadata": {},
     "output_type": "execute_result"
    }
   ],
   "source": [
    "y_pred_threshold=y_predict_proba > .35\n",
    "y_pred_threshold"
   ]
  },
  {
   "cell_type": "code",
   "execution_count": 34,
   "metadata": {
    "ExecuteTime": {
     "end_time": "2018-05-21T23:09:09.717771Z",
     "start_time": "2018-05-21T23:09:09.651039Z"
    },
    "collapsed": true
   },
   "outputs": [],
   "source": [
    "t=metrics.confusion_matrix(y_test,y_pred_threshold) \n"
   ]
  },
  {
   "cell_type": "code",
   "execution_count": 35,
   "metadata": {
    "ExecuteTime": {
     "end_time": "2018-05-21T23:09:09.873878Z",
     "start_time": "2018-05-21T23:09:09.719802Z"
    }
   },
   "outputs": [
    {
     "name": "stdout",
     "output_type": "stream",
     "text": [
      "Confusion matrix, without normalization\n",
      "[[9084 7032]\n",
      " [ 874 5155]]\n"
     ]
    },
    {
     "data": {
      "image/png": "[encoded data removed]",
      "text/plain": [
       "<matplotlib.figure.Figure at 0x1a1402e198>"
      ]
     },
     "metadata": {},
     "output_type": "display_data"
    }
   ],
   "source": [
    "plot_confusion_matrix(t,[0,1])"
   ]
  },
  {
   "cell_type": "code",
   "execution_count": 36,
   "metadata": {
    "ExecuteTime": {
     "end_time": "2018-05-21T23:09:09.896211Z",
     "start_time": "2018-05-21T23:09:09.877204Z"
    }
   },
   "outputs": [
    {
     "name": "stdout",
     "output_type": "stream",
     "text": [
      "             precision    recall  f1-score   support\n",
      "\n",
      "          0       0.91      0.56      0.70     16116\n",
      "          1       0.42      0.86      0.57      6029\n",
      "\n",
      "avg / total       0.78      0.64      0.66     22145\n",
      "\n"
     ]
    }
   ],
   "source": [
    "print(metrics.classification_report(y_test,y_pred_threshold))"
   ]
  },
  {
   "cell_type": "code",
   "execution_count": null,
   "metadata": {
    "collapsed": true
   },
   "outputs": [],
   "source": []
  }
 ],
 "metadata": {
  "kernelspec": {
   "display_name": "Python 3",
   "language": "python",
   "name": "python3"
  },
  "language_info": {
   "codemirror_mode": {
    "name": "ipython",
    "version": 3
   },
   "file_extension": ".py",
   "mimetype": "text/x-python",
   "name": "python",
   "nbconvert_exporter": "python",
   "pygments_lexer": "ipython3",
   "version": "3.6.3"
  },
  "varInspector": {
   "cols": {
    "lenName": 16,
    "lenType": 16,
    "lenVar": 40
   },
   "kernels_config": {
    "python": {
     "delete_cmd_postfix": "",
     "delete_cmd_prefix": "del ",
     "library": "var_list.py",
     "varRefreshCmd": "print(var_dic_list())"
    },
    "r": {
     "delete_cmd_postfix": ") ",
     "delete_cmd_prefix": "rm(",
     "library": "var_list.r",
     "varRefreshCmd": "cat(var_dic_list()) "
    }
   },
   "types_to_exclude": [
    "module",
    "function",
    "builtin_function_or_method",
    "instance",
    "_Feature"
   ],
   "window_display": false
  }
 },
 "nbformat": 4,
 "nbformat_minor": 2
}
