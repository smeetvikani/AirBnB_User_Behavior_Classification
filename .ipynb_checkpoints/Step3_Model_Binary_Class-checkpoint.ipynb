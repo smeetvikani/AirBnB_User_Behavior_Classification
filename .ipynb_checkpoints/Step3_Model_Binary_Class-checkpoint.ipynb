{
 "cells": [
  {
   "cell_type": "markdown",
   "metadata": {},
   "source": [
    "### Import Packages"
   ]
  },
  {
   "cell_type": "code",
   "execution_count": 1,
   "metadata": {
    "ExecuteTime": {
     "end_time": "2018-05-21T19:48:14.632707Z",
     "start_time": "2018-05-21T19:48:12.546632Z"
    },
    "collapsed": true
   },
   "outputs": [],
   "source": [
    "import pandas as pd\n",
    "import seaborn\n",
    "import math\n",
    "import sklearn\n",
    "import datetime\n",
    "from sklearn.metrics import roc_curve\n",
    "from sklearn.metrics import auc\n",
    "import matplotlib.pyplot as plt\n",
    "from sklearn.ensemble import RandomForestClassifier\n",
    "from sklearn import metrics\n",
    "import pandas\n",
    "from sklearn import model_selection\n",
    "from sklearn.linear_model import LogisticRegression\n",
    "from sklearn.tree import DecisionTreeClassifier\n",
    "from sklearn.neighbors import KNeighborsClassifier\n",
    "from sklearn.discriminant_analysis import LinearDiscriminantAnalysis\n",
    "from sklearn.naive_bayes import GaussianNB\n",
    "from sklearn.svm import SVC\n",
    "\n",
    "%matplotlib inline"
   ]
  },
  {
   "cell_type": "markdown",
   "metadata": {
    "ExecuteTime": {
     "end_time": "2018-05-11T02:11:48.182430Z",
     "start_time": "2018-05-11T02:11:48.180320Z"
    }
   },
   "source": [
    "### Import Data and Prep for Modeling"
   ]
  },
  {
   "cell_type": "code",
   "execution_count": 2,
   "metadata": {
    "ExecuteTime": {
     "end_time": "2018-05-21T19:48:14.922295Z",
     "start_time": "2018-05-21T19:48:14.650022Z"
    }
   },
   "outputs": [
    {
     "ename": "FileNotFoundError",
     "evalue": "File b'all_data_Model4.csv' does not exist",
     "output_type": "error",
     "traceback": [
      "\u001b[0;31m---------------------------------------------------------------------------\u001b[0m",
      "\u001b[0;31mFileNotFoundError\u001b[0m                         Traceback (most recent call last)",
      "\u001b[0;32m<ipython-input-2-af043f2936d7>\u001b[0m in \u001b[0;36m<module>\u001b[0;34m()\u001b[0m\n\u001b[0;32m----> 1\u001b[0;31m \u001b[0mmodel_data_v2\u001b[0m \u001b[0;34m=\u001b[0m \u001b[0mpd\u001b[0m\u001b[0;34m.\u001b[0m\u001b[0mread_csv\u001b[0m\u001b[0;34m(\u001b[0m\u001b[0;34m'all_data_Model4.csv'\u001b[0m\u001b[0;34m)\u001b[0m\u001b[0;34m\u001b[0m\u001b[0m\n\u001b[0m\u001b[1;32m      2\u001b[0m model_data_v3 = model_data_v2.replace({\n\u001b[1;32m      3\u001b[0m     \u001b[0;34m'AU'\u001b[0m\u001b[0;34m:\u001b[0m \u001b[0;34m'other'\u001b[0m\u001b[0;34m,\u001b[0m\u001b[0;34m\u001b[0m\u001b[0m\n\u001b[1;32m      4\u001b[0m     \u001b[0;34m'CA'\u001b[0m\u001b[0;34m:\u001b[0m \u001b[0;34m'other'\u001b[0m\u001b[0;34m,\u001b[0m\u001b[0;34m\u001b[0m\u001b[0m\n\u001b[1;32m      5\u001b[0m     \u001b[0;34m'DE'\u001b[0m\u001b[0;34m:\u001b[0m \u001b[0;34m'other'\u001b[0m\u001b[0;34m,\u001b[0m\u001b[0;34m\u001b[0m\u001b[0m\n",
      "\u001b[0;32m~/anaconda3/lib/python3.6/site-packages/pandas/io/parsers.py\u001b[0m in \u001b[0;36mparser_f\u001b[0;34m(filepath_or_buffer, sep, delimiter, header, names, index_col, usecols, squeeze, prefix, mangle_dupe_cols, dtype, engine, converters, true_values, false_values, skipinitialspace, skiprows, nrows, na_values, keep_default_na, na_filter, verbose, skip_blank_lines, parse_dates, infer_datetime_format, keep_date_col, date_parser, dayfirst, iterator, chunksize, compression, thousands, decimal, lineterminator, quotechar, quoting, escapechar, comment, encoding, dialect, tupleize_cols, error_bad_lines, warn_bad_lines, skipfooter, skip_footer, doublequote, delim_whitespace, as_recarray, compact_ints, use_unsigned, low_memory, buffer_lines, memory_map, float_precision)\u001b[0m\n\u001b[1;32m    653\u001b[0m                     skip_blank_lines=skip_blank_lines)\n\u001b[1;32m    654\u001b[0m \u001b[0;34m\u001b[0m\u001b[0m\n\u001b[0;32m--> 655\u001b[0;31m         \u001b[0;32mreturn\u001b[0m \u001b[0m_read\u001b[0m\u001b[0;34m(\u001b[0m\u001b[0mfilepath_or_buffer\u001b[0m\u001b[0;34m,\u001b[0m \u001b[0mkwds\u001b[0m\u001b[0;34m)\u001b[0m\u001b[0;34m\u001b[0m\u001b[0m\n\u001b[0m\u001b[1;32m    656\u001b[0m \u001b[0;34m\u001b[0m\u001b[0m\n\u001b[1;32m    657\u001b[0m     \u001b[0mparser_f\u001b[0m\u001b[0;34m.\u001b[0m\u001b[0m__name__\u001b[0m \u001b[0;34m=\u001b[0m \u001b[0mname\u001b[0m\u001b[0;34m\u001b[0m\u001b[0m\n",
      "\u001b[0;32m~/anaconda3/lib/python3.6/site-packages/pandas/io/parsers.py\u001b[0m in \u001b[0;36m_read\u001b[0;34m(filepath_or_buffer, kwds)\u001b[0m\n\u001b[1;32m    403\u001b[0m \u001b[0;34m\u001b[0m\u001b[0m\n\u001b[1;32m    404\u001b[0m     \u001b[0;31m# Create the parser.\u001b[0m\u001b[0;34m\u001b[0m\u001b[0;34m\u001b[0m\u001b[0m\n\u001b[0;32m--> 405\u001b[0;31m     \u001b[0mparser\u001b[0m \u001b[0;34m=\u001b[0m \u001b[0mTextFileReader\u001b[0m\u001b[0;34m(\u001b[0m\u001b[0mfilepath_or_buffer\u001b[0m\u001b[0;34m,\u001b[0m \u001b[0;34m**\u001b[0m\u001b[0mkwds\u001b[0m\u001b[0;34m)\u001b[0m\u001b[0;34m\u001b[0m\u001b[0m\n\u001b[0m\u001b[1;32m    406\u001b[0m \u001b[0;34m\u001b[0m\u001b[0m\n\u001b[1;32m    407\u001b[0m     \u001b[0;32mif\u001b[0m \u001b[0mchunksize\u001b[0m \u001b[0;32mor\u001b[0m \u001b[0miterator\u001b[0m\u001b[0;34m:\u001b[0m\u001b[0;34m\u001b[0m\u001b[0m\n",
      "\u001b[0;32m~/anaconda3/lib/python3.6/site-packages/pandas/io/parsers.py\u001b[0m in \u001b[0;36m__init__\u001b[0;34m(self, f, engine, **kwds)\u001b[0m\n\u001b[1;32m    762\u001b[0m             \u001b[0mself\u001b[0m\u001b[0;34m.\u001b[0m\u001b[0moptions\u001b[0m\u001b[0;34m[\u001b[0m\u001b[0;34m'has_index_names'\u001b[0m\u001b[0;34m]\u001b[0m \u001b[0;34m=\u001b[0m \u001b[0mkwds\u001b[0m\u001b[0;34m[\u001b[0m\u001b[0;34m'has_index_names'\u001b[0m\u001b[0;34m]\u001b[0m\u001b[0;34m\u001b[0m\u001b[0m\n\u001b[1;32m    763\u001b[0m \u001b[0;34m\u001b[0m\u001b[0m\n\u001b[0;32m--> 764\u001b[0;31m         \u001b[0mself\u001b[0m\u001b[0;34m.\u001b[0m\u001b[0m_make_engine\u001b[0m\u001b[0;34m(\u001b[0m\u001b[0mself\u001b[0m\u001b[0;34m.\u001b[0m\u001b[0mengine\u001b[0m\u001b[0;34m)\u001b[0m\u001b[0;34m\u001b[0m\u001b[0m\n\u001b[0m\u001b[1;32m    765\u001b[0m \u001b[0;34m\u001b[0m\u001b[0m\n\u001b[1;32m    766\u001b[0m     \u001b[0;32mdef\u001b[0m \u001b[0mclose\u001b[0m\u001b[0;34m(\u001b[0m\u001b[0mself\u001b[0m\u001b[0;34m)\u001b[0m\u001b[0;34m:\u001b[0m\u001b[0;34m\u001b[0m\u001b[0m\n",
      "\u001b[0;32m~/anaconda3/lib/python3.6/site-packages/pandas/io/parsers.py\u001b[0m in \u001b[0;36m_make_engine\u001b[0;34m(self, engine)\u001b[0m\n\u001b[1;32m    983\u001b[0m     \u001b[0;32mdef\u001b[0m \u001b[0m_make_engine\u001b[0m\u001b[0;34m(\u001b[0m\u001b[0mself\u001b[0m\u001b[0;34m,\u001b[0m \u001b[0mengine\u001b[0m\u001b[0;34m=\u001b[0m\u001b[0;34m'c'\u001b[0m\u001b[0;34m)\u001b[0m\u001b[0;34m:\u001b[0m\u001b[0;34m\u001b[0m\u001b[0m\n\u001b[1;32m    984\u001b[0m         \u001b[0;32mif\u001b[0m \u001b[0mengine\u001b[0m \u001b[0;34m==\u001b[0m \u001b[0;34m'c'\u001b[0m\u001b[0;34m:\u001b[0m\u001b[0;34m\u001b[0m\u001b[0m\n\u001b[0;32m--> 985\u001b[0;31m             \u001b[0mself\u001b[0m\u001b[0;34m.\u001b[0m\u001b[0m_engine\u001b[0m \u001b[0;34m=\u001b[0m \u001b[0mCParserWrapper\u001b[0m\u001b[0;34m(\u001b[0m\u001b[0mself\u001b[0m\u001b[0;34m.\u001b[0m\u001b[0mf\u001b[0m\u001b[0;34m,\u001b[0m \u001b[0;34m**\u001b[0m\u001b[0mself\u001b[0m\u001b[0;34m.\u001b[0m\u001b[0moptions\u001b[0m\u001b[0;34m)\u001b[0m\u001b[0;34m\u001b[0m\u001b[0m\n\u001b[0m\u001b[1;32m    986\u001b[0m         \u001b[0;32melse\u001b[0m\u001b[0;34m:\u001b[0m\u001b[0;34m\u001b[0m\u001b[0m\n\u001b[1;32m    987\u001b[0m             \u001b[0;32mif\u001b[0m \u001b[0mengine\u001b[0m \u001b[0;34m==\u001b[0m \u001b[0;34m'python'\u001b[0m\u001b[0;34m:\u001b[0m\u001b[0;34m\u001b[0m\u001b[0m\n",
      "\u001b[0;32m~/anaconda3/lib/python3.6/site-packages/pandas/io/parsers.py\u001b[0m in \u001b[0;36m__init__\u001b[0;34m(self, src, **kwds)\u001b[0m\n\u001b[1;32m   1603\u001b[0m         \u001b[0mkwds\u001b[0m\u001b[0;34m[\u001b[0m\u001b[0;34m'allow_leading_cols'\u001b[0m\u001b[0;34m]\u001b[0m \u001b[0;34m=\u001b[0m \u001b[0mself\u001b[0m\u001b[0;34m.\u001b[0m\u001b[0mindex_col\u001b[0m \u001b[0;32mis\u001b[0m \u001b[0;32mnot\u001b[0m \u001b[0;32mFalse\u001b[0m\u001b[0;34m\u001b[0m\u001b[0m\n\u001b[1;32m   1604\u001b[0m \u001b[0;34m\u001b[0m\u001b[0m\n\u001b[0;32m-> 1605\u001b[0;31m         \u001b[0mself\u001b[0m\u001b[0;34m.\u001b[0m\u001b[0m_reader\u001b[0m \u001b[0;34m=\u001b[0m \u001b[0mparsers\u001b[0m\u001b[0;34m.\u001b[0m\u001b[0mTextReader\u001b[0m\u001b[0;34m(\u001b[0m\u001b[0msrc\u001b[0m\u001b[0;34m,\u001b[0m \u001b[0;34m**\u001b[0m\u001b[0mkwds\u001b[0m\u001b[0;34m)\u001b[0m\u001b[0;34m\u001b[0m\u001b[0m\n\u001b[0m\u001b[1;32m   1606\u001b[0m \u001b[0;34m\u001b[0m\u001b[0m\n\u001b[1;32m   1607\u001b[0m         \u001b[0;31m# XXX\u001b[0m\u001b[0;34m\u001b[0m\u001b[0;34m\u001b[0m\u001b[0m\n",
      "\u001b[0;32mpandas/_libs/parsers.pyx\u001b[0m in \u001b[0;36mpandas._libs.parsers.TextReader.__cinit__ (pandas/_libs/parsers.c:4209)\u001b[0;34m()\u001b[0m\n",
      "\u001b[0;32mpandas/_libs/parsers.pyx\u001b[0m in \u001b[0;36mpandas._libs.parsers.TextReader._setup_parser_source (pandas/_libs/parsers.c:8873)\u001b[0;34m()\u001b[0m\n",
      "\u001b[0;31mFileNotFoundError\u001b[0m: File b'all_data_Model4.csv' does not exist"
     ]
    }
   ],
   "source": [
    "model_data_v2 = pd.read_csv('all_data_Model4.csv')\n",
    "model_data_v3 = model_data_v2.replace({\n",
    "    'AU': 'other',\n",
    "    'CA': 'other',\n",
    "    'DE': 'other',\n",
    "    'ES': 'other',\n",
    "    'FR': 'other',\n",
    "    'GB': 'other',\n",
    "    'IT': 'other',\n",
    "    'NL': 'other',\n",
    "    'PT': 'other',\n",
    "    'NDF': 'other'\n",
    "})"
   ]
  },
  {
   "cell_type": "code",
   "execution_count": 3,
   "metadata": {
    "ExecuteTime": {
     "end_time": "2018-05-15T18:47:47.170588Z",
     "start_time": "2018-05-15T18:47:47.147412Z"
    },
    "collapsed": true
   },
   "outputs": [],
   "source": [
    "df_dummified_y = model_data_v3['country_destination']\n",
    "model_data_x_dummy_prep=model_data_v3.drop([\"country_destination\",\"Unnamed: 0\"], axis=1)"
   ]
  },
  {
   "cell_type": "markdown",
   "metadata": {},
   "source": [
    "### Dimmify Features (one hot encoder) "
   ]
  },
  {
   "cell_type": "code",
   "execution_count": 4,
   "metadata": {
    "ExecuteTime": {
     "end_time": "2018-05-15T18:47:47.535312Z",
     "start_time": "2018-05-15T18:47:47.399591Z"
    },
    "collapsed": true
   },
   "outputs": [],
   "source": [
    "df_dummified_x = pd.get_dummies(\n",
    "    model_data_x_dummy_prep,\n",
    "    columns=['Age_Over40', 'Age_31-39',\n",
    "       'Age_Under31', 'Age_unknown', 'Month_account_created','gender', 'signup_method', 'signup_flow',\n",
    "       'language', 'affiliate_channel', 'affiliate_provider',\n",
    "       'first_affiliate_tracked', 'signup_app', 'first_device_type',\n",
    "       'first_browser'\n",
    "],\n",
    "    drop_first=True)"
   ]
  },
  {
   "cell_type": "markdown",
   "metadata": {},
   "source": [
    "### Update Syntax so model is classified as bivariate. "
   ]
  },
  {
   "cell_type": "code",
   "execution_count": 5,
   "metadata": {
    "ExecuteTime": {
     "end_time": "2018-05-15T18:47:47.879754Z",
     "start_time": "2018-05-15T18:47:47.856254Z"
    },
    "collapsed": true
   },
   "outputs": [],
   "source": [
    "df_dummified_y_2=df_dummified_y.replace({'other':0,'US':1})"
   ]
  },
  {
   "cell_type": "code",
   "execution_count": 6,
   "metadata": {
    "ExecuteTime": {
     "end_time": "2018-05-15T18:47:48.175895Z",
     "start_time": "2018-05-15T18:47:48.158731Z"
    }
   },
   "outputs": [
    {
     "data": {
      "text/plain": [
       "[0, 1]"
      ]
     },
     "execution_count": 6,
     "metadata": {},
     "output_type": "execute_result"
    }
   ],
   "source": [
    "list_col=[i for i in df_dummified_y_2.values]\n",
    "list_col2=list(set(list_col))\n",
    "list_col2"
   ]
  },
  {
   "cell_type": "markdown",
   "metadata": {},
   "source": [
    "### Split into Train and Test"
   ]
  },
  {
   "cell_type": "code",
   "execution_count": 7,
   "metadata": {
    "ExecuteTime": {
     "end_time": "2018-05-15T18:47:48.842180Z",
     "start_time": "2018-05-15T18:47:48.682382Z"
    }
   },
   "outputs": [
    {
     "data": {
      "text/plain": [
       "51670"
      ]
     },
     "execution_count": 7,
     "metadata": {},
     "output_type": "execute_result"
    }
   ],
   "source": [
    "\n",
    "X_train, X_test, y_train, y_test = model_selection.train_test_split(df_dummified_x, df_dummified_y_2, test_size=0.3, stratify=df_dummified_y,)\n",
    "X_trained_notscaled=X_train.copy()\n",
    "len(y_train)"
   ]
  },
  {
   "cell_type": "markdown",
   "metadata": {},
   "source": [
    "### Smote to fix class imbalance"
   ]
  },
  {
   "cell_type": "code",
   "execution_count": 8,
   "metadata": {
    "ExecuteTime": {
     "end_time": "2018-05-15T18:47:49.579824Z",
     "start_time": "2018-05-15T18:47:49.509525Z"
    },
    "collapsed": true
   },
   "outputs": [],
   "source": [
    "from collections import Counter\n",
    "from sklearn.datasets import make_classification\n",
    "from imblearn.over_sampling import SMOTE \n"
   ]
  },
  {
   "cell_type": "code",
   "execution_count": 9,
   "metadata": {
    "ExecuteTime": {
     "end_time": "2018-05-15T18:48:10.964398Z",
     "start_time": "2018-05-15T18:47:50.219187Z"
    },
    "collapsed": true
   },
   "outputs": [],
   "source": [
    "sm = SMOTE(random_state=42)\n",
    "X_smote, y_smote = sm.fit_sample(X_train, y_train)\n",
    "\n",
    "Xy_smote=X_smote,X_smote"
   ]
  },
  {
   "cell_type": "code",
   "execution_count": 10,
   "metadata": {
    "ExecuteTime": {
     "end_time": "2018-05-15T18:48:11.830753Z",
     "start_time": "2018-05-15T18:48:11.823691Z"
    }
   },
   "outputs": [
    {
     "data": {
      "text/plain": [
       "75208"
      ]
     },
     "execution_count": 10,
     "metadata": {},
     "output_type": "execute_result"
    }
   ],
   "source": [
    "len(y_smote)"
   ]
  },
  {
   "cell_type": "markdown",
   "metadata": {},
   "source": [
    "### Scale the Train and Dataset for LR"
   ]
  },
  {
   "cell_type": "code",
   "execution_count": 11,
   "metadata": {
    "ExecuteTime": {
     "end_time": "2018-05-15T18:48:12.934977Z",
     "start_time": "2018-05-15T18:48:12.535326Z"
    }
   },
   "outputs": [
    {
     "data": {
      "text/plain": [
       "75208"
      ]
     },
     "execution_count": 11,
     "metadata": {},
     "output_type": "execute_result"
    }
   ],
   "source": [
    "from sklearn.preprocessing import StandardScaler\n",
    "scaler = StandardScaler()\n",
    "X_smote = scaler.fit_transform(X_smote)\n",
    "X_test = scaler.transform(X_test)\n",
    "len(X_smote)"
   ]
  },
  {
   "cell_type": "markdown",
   "metadata": {},
   "source": [
    "### Tuple For Easy Reference"
   ]
  },
  {
   "cell_type": "code",
   "execution_count": 12,
   "metadata": {
    "ExecuteTime": {
     "end_time": "2018-05-15T18:48:13.592902Z",
     "start_time": "2018-05-15T18:48:13.589020Z"
    },
    "collapsed": true
   },
   "outputs": [],
   "source": [
    "skip_size = 10 # skip every n examples"
   ]
  },
  {
   "cell_type": "code",
   "execution_count": 54,
   "metadata": {
    "ExecuteTime": {
     "end_time": "2018-05-15T18:58:53.399998Z",
     "start_time": "2018-05-15T18:58:53.386322Z"
    }
   },
   "outputs": [
    {
     "data": {
      "text/plain": [
       "51670"
      ]
     },
     "execution_count": 54,
     "metadata": {},
     "output_type": "execute_result"
    }
   ],
   "source": [
    "Xy_train=X_train,y_train\n",
    "Xy_train_skip=X_train[::skip_size],y_train[::skip_size]\n",
    "\n",
    "X_train_skip=X_train[::skip_size]\n",
    "y_train_skip=y_train[::skip_size]\n",
    "\n",
    "Xy_test=X_test,y_test\n",
    "Xy_test_skip=X_test[::skip_size],y_test[::skip_size]\n",
    "\n",
    "X_smote_skip=X_smote[::skip_size]\n",
    "y_smote_skip=y_smote[::skip_size]\n",
    "Xy_smote_skip=Xy_smote[::skip_size]\n",
    "\n",
    "len(y_train)"
   ]
  },
  {
   "cell_type": "markdown",
   "metadata": {},
   "source": [
    "### Functions Defined that will be used for analysis (Methods~)"
   ]
  },
  {
   "cell_type": "code",
   "execution_count": 14,
   "metadata": {
    "ExecuteTime": {
     "end_time": "2018-05-15T18:48:15.440070Z",
     "start_time": "2018-05-15T18:48:15.349425Z"
    },
    "collapsed": true
   },
   "outputs": [],
   "source": [
    "def classify(model,X_test,X_train,y_train):\n",
    "    \"\"\"predicts y first, classify, \"\"\"\n",
    "    y_pred = model.predict(X_test)\n",
    "    print(metrics.classification_report(y_test,y_pred))\n",
    "    print(model.score(*Xy_test))\n",
    "    print(metrics.confusion_matrix(y_test, y_pred))\n",
    "    \n",
    "\n",
    "def plot_roc_curve(model, x_test, y_test):\n",
    "\n",
    "    y_score=model.predict_proba(x_test)[:,1]\n",
    "\n",
    "    fpr, tpr,_ = roc_curve(y_test, y_score)\n",
    "    roc_auc = auc(fpr, tpr)\n",
    "\n",
    "    plt.figure()\n",
    "    # Plotting our Baseline..\n",
    "    plt.plot([0,1],[0,1])\n",
    "    plt.plot(fpr,tpr,color='green')\n",
    "    plt.xlabel('FPR')\n",
    "    plt.ylabel('TPR')\n",
    "    plt.title('ROC Curve (AUC = ' + str(roc_auc)+ ')')\n",
    "\n",
    "def analyze_coef(df_with_cols,model,num_points):\n",
    "    feat = df_with_cols.columns\n",
    "    coef = model.coef_.flatten()\n",
    "    sort_i = np.argsort(-np.abs(coef))\n",
    "\n",
    "\n",
    "    n_plot = num_points\n",
    "    ind = np.arange(n_plot)\n",
    "    plt.figure(figsize=(40,10))\n",
    "    plt.xticks(rotation=90)\n",
    "    plt.scatter(ind, coef[sort_i][:n_plot])\n",
    "    plt.xticks(ind, feat[sort_i][:n_plot], rotation=90);\n",
    "    plt.title(\"Top coefficients for CV-optimized lasso model\")\n",
    "    plt.ylabel(\"coefficient\");\n"
   ]
  },
  {
   "cell_type": "markdown",
   "metadata": {
    "ExecuteTime": {
     "end_time": "2018-05-07T01:26:45.027749Z",
     "start_time": "2018-05-07T01:26:44.802821Z"
    },
    "heading_collapsed": true
   },
   "source": [
    "### Establish Baseline"
   ]
  },
  {
   "cell_type": "code",
   "execution_count": 55,
   "metadata": {
    "ExecuteTime": {
     "end_time": "2018-05-15T18:59:29.215114Z",
     "start_time": "2018-05-15T18:59:29.205496Z"
    },
    "hidden": true
   },
   "outputs": [
    {
     "data": {
      "text/plain": [
       "0    0.727749\n",
       "1    0.272251\n",
       "Name: country_destination, dtype: float64"
      ]
     },
     "execution_count": 55,
     "metadata": {},
     "output_type": "execute_result"
    }
   ],
   "source": [
    "y_test.value_counts()/len(y_test)"
   ]
  },
  {
   "cell_type": "markdown",
   "metadata": {
    "ExecuteTime": {
     "end_time": "2018-05-04T20:05:29.764260Z",
     "start_time": "2018-05-04T20:05:29.724195Z"
    },
    "heading_collapsed": true
   },
   "source": [
    "### Put in Model (RandomForestClassifier) - Pending Grid Creation Model 1"
   ]
  },
  {
   "cell_type": "code",
   "execution_count": 16,
   "metadata": {
    "ExecuteTime": {
     "end_time": "2018-05-15T18:48:21.590075Z",
     "start_time": "2018-05-15T18:48:18.655402Z"
    },
    "hidden": true
   },
   "outputs": [
    {
     "data": {
      "text/plain": [
       "0.73827048995258526"
      ]
     },
     "execution_count": 16,
     "metadata": {},
     "output_type": "execute_result"
    }
   ],
   "source": [
    "rfc = RandomForestClassifier(max_depth=6.5,min_samples_split=48,verbose=0,max_features=60,class_weight='balanced')\n",
    "rfc.fit(X_smote,y_smote)\n",
    "rfc.score(X_test,y_test)"
   ]
  },
  {
   "cell_type": "code",
   "execution_count": 17,
   "metadata": {
    "ExecuteTime": {
     "end_time": "2018-05-15T18:48:22.480564Z",
     "start_time": "2018-05-15T18:48:22.406644Z"
    },
    "hidden": true
   },
   "outputs": [
    {
     "name": "stdout",
     "output_type": "stream",
     "text": [
      "             precision    recall  f1-score   support\n",
      "\n",
      "          0       0.85      0.78      0.81     16116\n",
      "          1       0.52      0.63      0.57      6029\n",
      "\n",
      "avg / total       0.76      0.74      0.75     22145\n",
      "\n",
      "0.738270489953\n",
      "[[12526  3590]\n",
      " [ 2206  3823]]\n"
     ]
    }
   ],
   "source": [
    "classify(rfc,X_test,X_smote,y_smote)"
   ]
  },
  {
   "cell_type": "code",
   "execution_count": 18,
   "metadata": {
    "ExecuteTime": {
     "end_time": "2018-05-15T18:48:23.642745Z",
     "start_time": "2018-05-15T18:48:23.237708Z"
    },
    "hidden": true
   },
   "outputs": [
    {
     "data": {
      "image/png": "[encoded data removed]",
      "text/plain": [
       "<matplotlib.figure.Figure at 0x1a0c7bd2b0>"
      ]
     },
     "metadata": {},
     "output_type": "display_data"
    }
   ],
   "source": [
    "plot_roc_curve(rfc,X_test,y_test)"
   ]
  },
  {
   "cell_type": "markdown",
   "metadata": {},
   "source": [
    "### Model 2,3,4"
   ]
  },
  {
   "cell_type": "code",
   "execution_count": 221,
   "metadata": {
    "ExecuteTime": {
     "end_time": "2018-05-16T15:47:22.408491Z",
     "start_time": "2018-05-16T15:47:14.485726Z"
    },
    "scrolled": false
   },
   "outputs": [
    {
     "name": "stdout",
     "output_type": "stream",
     "text": [
      "LR: 0.663041 (0.117447)\n",
      "LDA: 0.294232 (0.163272)\n"
     ]
    },
    {
     "name": "stderr",
     "output_type": "stream",
     "text": [
      "/Users/honeybadger4/anaconda3/lib/python3.6/site-packages/sklearn/discriminant_analysis.py:388: UserWarning: Variables are collinear.\n",
      "  warnings.warn(\"Variables are collinear.\")\n",
      "/Users/honeybadger4/anaconda3/lib/python3.6/site-packages/sklearn/discriminant_analysis.py:388: UserWarning: Variables are collinear.\n",
      "  warnings.warn(\"Variables are collinear.\")\n"
     ]
    },
    {
     "name": "stdout",
     "output_type": "stream",
     "text": [
      "KNN: 0.427327 (0.044699)\n"
     ]
    },
    {
     "name": "stderr",
     "output_type": "stream",
     "text": [
      "/Users/honeybadger4/anaconda3/lib/python3.6/site-packages/sklearn/ensemble/forest.py:453: UserWarning: Some inputs do not have OOB scores. This probably means too few trees were used to compute any reliable oob estimates.\n",
      "  warn(\"Some inputs do not have OOB scores. \"\n",
      "/Users/honeybadger4/anaconda3/lib/python3.6/site-packages/sklearn/ensemble/forest.py:458: RuntimeWarning: invalid value encountered in true_divide\n",
      "  predictions[k].sum(axis=1)[:, np.newaxis])\n",
      "/Users/honeybadger4/anaconda3/lib/python3.6/site-packages/sklearn/ensemble/forest.py:453: UserWarning: Some inputs do not have OOB scores. This probably means too few trees were used to compute any reliable oob estimates.\n",
      "  warn(\"Some inputs do not have OOB scores. \"\n",
      "/Users/honeybadger4/anaconda3/lib/python3.6/site-packages/sklearn/ensemble/forest.py:458: RuntimeWarning: invalid value encountered in true_divide\n",
      "  predictions[k].sum(axis=1)[:, np.newaxis])\n"
     ]
    },
    {
     "name": "stdout",
     "output_type": "stream",
     "text": [
      "RFC: 0.526807 (0.042282)\n"
     ]
    },
    {
     "data": {
      "image/png": "[encoded data removed]",
      "text/plain": [
       "<matplotlib.figure.Figure at 0x1a17880fd0>"
      ]
     },
     "metadata": {},
     "output_type": "display_data"
    }
   ],
   "source": [
    "seed = 7\n",
    "# prepare models\n",
    "models = []\n",
    "models.append(('LR', LogisticRegression(penalty='l2', class_weight='balanced')))\n",
    "models.append(('LDA', LinearDiscriminantAnalysis()))\n",
    "models.append(('KNN', KNeighborsClassifier()))\n",
    "# models.append(('SVM', SVC()))\n",
    "models.append(('RFC',\n",
    "               RandomForestClassifier(\n",
    "                   max_depth=6.5,\n",
    "                   min_samples_split=48,\n",
    "     \n",
    "                   max_features=60,\n",
    "                   oob_score=True)))\n",
    "#\n",
    "# evaluate each model in turn\n",
    "results = []\n",
    "names = []\n",
    "scoring = 'f1'\n",
    "for name, model in models:\n",
    "    kfold = model_selection.KFold(n_splits=2, random_state=seed)\n",
    "    cv_results = model_selection.cross_val_score(\n",
    "        model,\n",
    "        X_smote[::skip_size],y_smote[::skip_size],\n",
    "\n",
    "        cv=kfold,\n",
    "        scoring=scoring)\n",
    "    results.append(cv_results)\n",
    "    names.append(name)\n",
    "    msg = \"%s: %f (%f)\" % (name, cv_results.mean(), cv_results.std())\n",
    "    print(msg)\n",
    "# boxplot algorithm comparison\n",
    "fig = plt.figure()\n",
    "fig.suptitle('Algorithm Comparison')\n",
    "ax = fig.add_subplot(111)\n",
    "plt.boxplot(results)\n",
    "ax.set_xticklabels(names)\n",
    "plt.show()"
   ]
  },
  {
   "cell_type": "markdown",
   "metadata": {
    "ExecuteTime": {
     "end_time": "2018-05-11T01:36:44.340902Z",
     "start_time": "2018-05-11T01:36:44.337399Z"
    }
   },
   "source": [
    "### Model 5 MVP"
   ]
  },
  {
   "cell_type": "code",
   "execution_count": 219,
   "metadata": {
    "ExecuteTime": {
     "end_time": "2018-05-16T15:46:53.139782Z",
     "start_time": "2018-05-16T15:46:31.724966Z"
    }
   },
   "outputs": [
    {
     "name": "stdout",
     "output_type": "stream",
     "text": [
      "             precision    recall  f1-score   support\n",
      "\n",
      "          0       0.88      0.69      0.77     16116\n",
      "          1       0.47      0.74      0.58      6029\n",
      "\n",
      "avg / total       0.77      0.71      0.72     22145\n",
      "\n",
      "0.705531722737\n",
      "[[11145  4971]\n",
      " [ 1550  4479]]\n"
     ]
    }
   ],
   "source": [
    "logic_r_model=LogisticRegression(penalty='l2', class_weight='balanced')\n",
    "logic_r_model.fit(X_smote,y_smote)\n",
    "logic_r_model.score(X_test,y_test)\n",
    "classify(logic_r_model,X_test,X_smote,y_smote)"
   ]
  },
  {
   "cell_type": "code",
   "execution_count": 85,
   "metadata": {
    "ExecuteTime": {
     "end_time": "2018-05-16T04:14:10.709837Z",
     "start_time": "2018-05-16T04:14:10.325768Z"
    },
    "scrolled": true
   },
   "outputs": [
    {
     "data": {
      "image/png": "[encoded data removed]",
      "text/plain": [
       "<matplotlib.figure.Figure at 0x1a150e3278>"
      ]
     },
     "metadata": {},
     "output_type": "display_data"
    }
   ],
   "source": [
    "analyze_coef(X_trained_notscaled,logic_r_model,30)"
   ]
  },
  {
   "cell_type": "code",
   "execution_count": 150,
   "metadata": {
    "ExecuteTime": {
     "end_time": "2018-05-16T13:13:29.986145Z",
     "start_time": "2018-05-16T13:13:29.924522Z"
    },
    "collapsed": true
   },
   "outputs": [],
   "source": [
    "y_score_pr_curve=logic_r_model.predict_proba(X_test)[:,1]"
   ]
  },
  {
   "cell_type": "code",
   "execution_count": 157,
   "metadata": {
    "ExecuteTime": {
     "end_time": "2018-05-16T13:17:59.621873Z",
     "start_time": "2018-05-16T13:17:59.464862Z"
    }
   },
   "outputs": [
    {
     "data": {
      "text/plain": [
       "21799"
      ]
     },
     "execution_count": 157,
     "metadata": {},
     "output_type": "execute_result"
    },
    {
     "data": {
      "image/png": "[encoded data removed]",
      "text/plain": [
       "<matplotlib.figure.Figure at 0x1a1598dc18>"
      ]
     },
     "metadata": {},
     "output_type": "display_data"
    }
   ],
   "source": [
    "from  sklearn.metrics import precision_recall_curve\n",
    "p,r,t=precision_recall_curve(y_test,y_score_pr_curve)\n",
    "\n",
    "# adding last threshold of '1' to threshold list\n",
    "t=np.vstack([t.reshape([-1,1]),1])\n",
    "\n",
    "plt.grid()\n",
    "plt.title('Precision Recall Curve');\n",
    "plt.xlabel(\"Threshold\")\n",
    "plt.ylabel(\"Metric %\")\n",
    "plt.plot(t,p)\n",
    "plt.plot(t,r)\n",
    "plt.axvline(x=.640589566 , color='red');\n",
    "# plt.savefig('images/prec_recall_curve.jpeg',dpi=500)\n",
    "len(r)"
   ]
  },
  {
   "cell_type": "code",
   "execution_count": 165,
   "metadata": {
    "ExecuteTime": {
     "end_time": "2018-05-16T13:22:21.085264Z",
     "start_time": "2018-05-16T13:22:20.741681Z"
    }
   },
   "outputs": [
    {
     "data": {
      "image/png": "[encoded data removed]",
      "text/plain": [
       "<matplotlib.figure.Figure at 0x1a1e1166a0>"
      ]
     },
     "metadata": {},
     "output_type": "display_data"
    }
   ],
   "source": [
    "np.sum(y_test)\n",
    "n_pos = np.sum(y_test)\n",
    "true_pos = r * n_pos\n",
    "false_neg = n_pos - true_pos\n",
    "false_pos = true_pos / p - true_pos\n",
    "smeet_cost = 1.5 * true_pos - .5 * false_neg - .5 * false_pos\n",
    "\n",
    "plt.plot(t, smeet_cost)\n",
    "plt.axvline(\n",
    "    x=.3540589566, color='red')\n",
    "plt.xlabel(\"Threshold\")\n",
    "plt.title(\"Cost Function\")\n",
    "plt.ylabel(\"Profit\")\n",
    "plt.savefig('images/thresh.jpeg', dpi=500)\n",
    "\n"
   ]
  },
  {
   "cell_type": "code",
   "execution_count": 206,
   "metadata": {
    "ExecuteTime": {
     "end_time": "2018-05-16T13:42:27.627702Z",
     "start_time": "2018-05-16T13:42:26.960982Z"
    }
   },
   "outputs": [
    {
     "data": {
      "image/png": "[encoded data removed]",
      "text/plain": [
       "<matplotlib.figure.Figure at 0x1a42401160>"
      ]
     },
     "metadata": {},
     "output_type": "display_data"
    }
   ],
   "source": [
    "f, (ax1, ax2) = plt.subplots(2, 1, sharex=True)\n",
    "ax2.plot(t, smeet_cost)\n",
    "\n",
    "ax2.plot(t, smeet_cost, color='green')\n",
    "ax1.plot(t,p)\n",
    "ax1.plot(t,r)\n",
    "ax1.axvline(x=.3540589566, color='red')\n",
    "ax2.axvline(x=.3540589566, color='red')\n",
    "ax1.legend(['Precision','Recall'])\n",
    "ax1.set_title('Precision Recall Curve')\n",
    "ax2.set_title('Cost Function')\n",
    "ax2.set_xlabel(\"Threshold\")\n",
    "ax2.set_ylabel(\"Amount in $\")\n",
    "ax1.set_ylabel(\"Metric in %\")\n",
    "f.set_figheight(7)\n",
    "f.set_figwidth(7)\n",
    "f.savefig('images/first_joint.jpeg',dpi=500)"
   ]
  },
  {
   "cell_type": "code",
   "execution_count": 108,
   "metadata": {
    "ExecuteTime": {
     "end_time": "2018-05-16T04:15:12.101843Z",
     "start_time": "2018-05-16T04:15:12.097893Z"
    },
    "collapsed": true
   },
   "outputs": [],
   "source": [
    "param_grid2 = {\n",
    "    \"solver\": ['saga'],\n",
    "    \"multi_class\": ['ovr', 'multinomial']\n",
    "}\n"
   ]
  },
  {
   "cell_type": "code",
   "execution_count": 90,
   "metadata": {
    "ExecuteTime": {
     "end_time": "2018-05-16T04:14:15.259851Z",
     "start_time": "2018-05-16T04:14:15.253274Z"
    }
   },
   "outputs": [
    {
     "data": {
      "text/plain": [
       "dict_keys(['cv', 'error_score', 'estimator__C', 'estimator__class_weight', 'estimator__dual', 'estimator__fit_intercept', 'estimator__intercept_scaling', 'estimator__max_iter', 'estimator__multi_class', 'estimator__n_jobs', 'estimator__penalty', 'estimator__random_state', 'estimator__solver', 'estimator__tol', 'estimator__verbose', 'estimator__warm_start', 'estimator', 'fit_params', 'iid', 'n_jobs', 'param_grid', 'pre_dispatch', 'refit', 'return_train_score', 'scoring', 'verbose'])"
      ]
     },
     "execution_count": 90,
     "metadata": {},
     "output_type": "execute_result"
    }
   ],
   "source": [
    "rbf_grid2 = model_selection.GridSearchCV(\n",
    "    logic_r_model, param_grid2, cv=3,verbose=0, scoring='f1')\n",
    "\n",
    "rbf_grid2.get_params().keys()"
   ]
  },
  {
   "cell_type": "code",
   "execution_count": 91,
   "metadata": {
    "ExecuteTime": {
     "end_time": "2018-05-16T04:14:23.816023Z",
     "start_time": "2018-05-16T04:14:16.079987Z"
    }
   },
   "outputs": [
    {
     "name": "stderr",
     "output_type": "stream",
     "text": [
      "/Users/honeybadger4/anaconda3/lib/python3.6/site-packages/sklearn/linear_model/sag.py:326: ConvergenceWarning: The max_iter was reached which means the coef_ did not converge\n",
      "  \"the coef_ did not converge\", ConvergenceWarning)\n",
      "/Users/honeybadger4/anaconda3/lib/python3.6/site-packages/sklearn/linear_model/sag.py:326: ConvergenceWarning: The max_iter was reached which means the coef_ did not converge\n",
      "  \"the coef_ did not converge\", ConvergenceWarning)\n",
      "/Users/honeybadger4/anaconda3/lib/python3.6/site-packages/sklearn/linear_model/sag.py:326: ConvergenceWarning: The max_iter was reached which means the coef_ did not converge\n",
      "  \"the coef_ did not converge\", ConvergenceWarning)\n",
      "/Users/honeybadger4/anaconda3/lib/python3.6/site-packages/sklearn/linear_model/sag.py:326: ConvergenceWarning: The max_iter was reached which means the coef_ did not converge\n",
      "  \"the coef_ did not converge\", ConvergenceWarning)\n",
      "/Users/honeybadger4/anaconda3/lib/python3.6/site-packages/sklearn/linear_model/sag.py:326: ConvergenceWarning: The max_iter was reached which means the coef_ did not converge\n",
      "  \"the coef_ did not converge\", ConvergenceWarning)\n",
      "/Users/honeybadger4/anaconda3/lib/python3.6/site-packages/sklearn/linear_model/sag.py:326: ConvergenceWarning: The max_iter was reached which means the coef_ did not converge\n",
      "  \"the coef_ did not converge\", ConvergenceWarning)\n",
      "/Users/honeybadger4/anaconda3/lib/python3.6/site-packages/sklearn/linear_model/sag.py:326: ConvergenceWarning: The max_iter was reached which means the coef_ did not converge\n",
      "  \"the coef_ did not converge\", ConvergenceWarning)\n"
     ]
    },
    {
     "data": {
      "text/plain": [
       "GridSearchCV(cv=3, error_score='raise',\n",
       "       estimator=LogisticRegression(C=1.0, class_weight='balanced', dual=False,\n",
       "          fit_intercept=True, intercept_scaling=1, max_iter=100,\n",
       "          multi_class='ovr', n_jobs=1, penalty='l2', random_state=None,\n",
       "          solver='liblinear', tol=0.0001, verbose=0, warm_start=False),\n",
       "       fit_params=None, iid=True, n_jobs=1,\n",
       "       param_grid={'solver': ['saga'], 'multi_class': ['ovr', 'multinomial']},\n",
       "       pre_dispatch='2*n_jobs', refit=True, return_train_score='warn',\n",
       "       scoring='f1', verbose=0)"
      ]
     },
     "execution_count": 91,
     "metadata": {},
     "output_type": "execute_result"
    }
   ],
   "source": [
    "rbf_grid2.fit(X_smote_skip,y_smote_skip)\n"
   ]
  },
  {
   "cell_type": "code",
   "execution_count": 92,
   "metadata": {
    "ExecuteTime": {
     "end_time": "2018-05-16T04:14:24.608641Z",
     "start_time": "2018-05-16T04:14:24.590348Z"
    }
   },
   "outputs": [
    {
     "data": {
      "text/plain": [
       "0.73201089070400616"
      ]
     },
     "execution_count": 92,
     "metadata": {},
     "output_type": "execute_result"
    }
   ],
   "source": [
    "rbf_grid2.score(X_smote_skip,y_smote_skip)"
   ]
  },
  {
   "cell_type": "code",
   "execution_count": 93,
   "metadata": {
    "ExecuteTime": {
     "end_time": "2018-05-16T04:14:25.342131Z",
     "start_time": "2018-05-16T04:14:25.334817Z"
    }
   },
   "outputs": [
    {
     "data": {
      "text/plain": [
       "LogisticRegression(C=1.0, class_weight='balanced', dual=False,\n",
       "          fit_intercept=True, intercept_scaling=1, max_iter=100,\n",
       "          multi_class='multinomial', n_jobs=1, penalty='l2',\n",
       "          random_state=None, solver='saga', tol=0.0001, verbose=0,\n",
       "          warm_start=False)"
      ]
     },
     "execution_count": 93,
     "metadata": {},
     "output_type": "execute_result"
    }
   ],
   "source": [
    "new_model=rbf_grid2.best_estimator_\n",
    "rbf_grid2.best_estimator_"
   ]
  },
  {
   "cell_type": "code",
   "execution_count": 94,
   "metadata": {
    "ExecuteTime": {
     "end_time": "2018-05-16T04:14:27.727794Z",
     "start_time": "2018-05-16T04:14:26.072293Z"
    }
   },
   "outputs": [
    {
     "name": "stderr",
     "output_type": "stream",
     "text": [
      "/Users/honeybadger4/anaconda3/lib/python3.6/site-packages/sklearn/linear_model/sag.py:326: ConvergenceWarning: The max_iter was reached which means the coef_ did not converge\n",
      "  \"the coef_ did not converge\", ConvergenceWarning)\n"
     ]
    },
    {
     "data": {
      "text/plain": [
       "0.69884849853240005"
      ]
     },
     "execution_count": 94,
     "metadata": {},
     "output_type": "execute_result"
    }
   ],
   "source": [
    "new_model.fit(X_smote_skip,y_smote_skip)\n",
    "new_model.score(X_test,y_test)"
   ]
  },
  {
   "cell_type": "code",
   "execution_count": 95,
   "metadata": {
    "ExecuteTime": {
     "end_time": "2018-05-16T04:14:28.534104Z",
     "start_time": "2018-05-16T04:14:28.498056Z"
    }
   },
   "outputs": [
    {
     "name": "stdout",
     "output_type": "stream",
     "text": [
      "             precision    recall  f1-score   support\n",
      "\n",
      "          0       0.87      0.68      0.77     16116\n",
      "          1       0.47      0.74      0.57      6029\n",
      "\n",
      "avg / total       0.76      0.70      0.71     22145\n",
      "\n",
      "0.698848498532\n",
      "[[11022  5094]\n",
      " [ 1575  4454]]\n"
     ]
    }
   ],
   "source": [
    "classify(new_model,X_test,X_smote_skip,y_smote_skip)"
   ]
  },
  {
   "cell_type": "markdown",
   "metadata": {
    "ExecuteTime": {
     "end_time": "2018-05-15T13:35:28.701512Z",
     "start_time": "2018-05-15T13:35:28.698359Z"
    }
   },
   "source": [
    "### Predict Thresholds. "
   ]
  },
  {
   "cell_type": "code",
   "execution_count": 96,
   "metadata": {
    "ExecuteTime": {
     "end_time": "2018-05-16T04:14:29.331816Z",
     "start_time": "2018-05-16T04:14:29.314990Z"
    },
    "collapsed": true
   },
   "outputs": [],
   "source": [
    "y_predict_proba=logic_r_model.predict_proba(X_test)[:,1]"
   ]
  },
  {
   "cell_type": "code",
   "execution_count": 207,
   "metadata": {
    "ExecuteTime": {
     "end_time": "2018-05-16T14:05:05.732868Z",
     "start_time": "2018-05-16T14:05:05.715884Z"
    }
   },
   "outputs": [
    {
     "data": {
      "text/plain": [
       "array([ True,  True,  True, ..., False, False,  True], dtype=bool)"
      ]
     },
     "execution_count": 207,
     "metadata": {},
     "output_type": "execute_result"
    }
   ],
   "source": [
    "y_pred_threshold=y_predict_proba > .38\n",
    "y_pred_threshold"
   ]
  },
  {
   "cell_type": "code",
   "execution_count": 208,
   "metadata": {
    "ExecuteTime": {
     "end_time": "2018-05-16T14:05:06.839902Z",
     "start_time": "2018-05-16T14:05:06.786643Z"
    }
   },
   "outputs": [
    {
     "name": "stdout",
     "output_type": "stream",
     "text": [
      "[[9316 6800]\n",
      " [ 948 5081]]\n"
     ]
    }
   ],
   "source": [
    "t=metrics.confusion_matrix(y_test,y_pred_threshold) \n",
    "print(t)\n"
   ]
  },
  {
   "cell_type": "code",
   "execution_count": 209,
   "metadata": {
    "ExecuteTime": {
     "end_time": "2018-05-16T14:05:07.571989Z",
     "start_time": "2018-05-16T14:05:07.564460Z"
    }
   },
   "outputs": [
    {
     "data": {
      "text/plain": [
       "(5081, 6800, 9316, 948)"
      ]
     },
     "execution_count": 209,
     "metadata": {},
     "output_type": "execute_result"
    }
   ],
   "source": [
    "tn=t[0][0]\n",
    "tp=t[1][1]\n",
    "fp=t[0][1]\n",
    "fn=t[1][0]\n",
    "\n",
    "tp,fp,tn,fn"
   ]
  },
  {
   "cell_type": "code",
   "execution_count": 210,
   "metadata": {
    "ExecuteTime": {
     "end_time": "2018-05-16T14:05:08.356019Z",
     "start_time": "2018-05-16T14:05:08.352717Z"
    },
    "collapsed": true
   },
   "outputs": [],
   "source": [
    "#1226.8 .4"
   ]
  },
  {
   "cell_type": "code",
   "execution_count": 211,
   "metadata": {
    "ExecuteTime": {
     "end_time": "2018-05-16T14:05:09.087888Z",
     "start_time": "2018-05-16T14:05:09.083976Z"
    },
    "collapsed": true
   },
   "outputs": [],
   "source": [
    "net_profit=fp*(-.5)+fn*(-.5)+tp*(1.5)"
   ]
  },
  {
   "cell_type": "code",
   "execution_count": 212,
   "metadata": {
    "ExecuteTime": {
     "end_time": "2018-05-16T14:05:09.854594Z",
     "start_time": "2018-05-16T14:05:09.849666Z"
    }
   },
   "outputs": [
    {
     "data": {
      "text/plain": [
       "3747.5"
      ]
     },
     "execution_count": 212,
     "metadata": {},
     "output_type": "execute_result"
    }
   ],
   "source": [
    "net_profit"
   ]
  },
  {
   "cell_type": "code",
   "execution_count": null,
   "metadata": {
    "collapsed": true
   },
   "outputs": [],
   "source": []
  },
  {
   "cell_type": "code",
   "execution_count": 217,
   "metadata": {
    "ExecuteTime": {
     "end_time": "2018-05-16T14:11:48.479496Z",
     "start_time": "2018-05-16T14:11:48.285159Z"
    }
   },
   "outputs": [
    {
     "name": "stdout",
     "output_type": "stream",
     "text": [
      "Confusion matrix, without normalization\n",
      "[[9316 6800]\n",
      " [ 948 5081]]\n"
     ]
    },
    {
     "data": {
      "image/png": "[encoded data removed]",
      "text/plain": [
       "<matplotlib.figure.Figure at 0x1a444c78d0>"
      ]
     },
     "metadata": {},
     "output_type": "display_data"
    }
   ],
   "source": [
    "import itertools\n",
    "def plot_confusion_matrix(cm, classes,\n",
    "                          normalize=False,\n",
    "                          title='Confusion matrix',\n",
    "                          cmap=plt.cm.Blues):\n",
    "    \"\"\"\n",
    "    This function prints and plots the confusion matrix.\n",
    "    Normalization can be applied by setting `normalize=True`.\n",
    "    \"\"\"\n",
    "    if normalize:\n",
    "        cm = cm.astype('float') / cm.sum(axis=1)[:, np.newaxis]\n",
    "        print(\"Normalized confusion matrix\")\n",
    "    else:\n",
    "        print('Confusion matrix, without normalization')\n",
    "\n",
    "    print(cm)\n",
    "\n",
    "    plt.imshow(cm, interpolation='nearest', cmap=cmap)\n",
    "    plt.title(title)\n",
    "    plt.colorbar()\n",
    "    tick_marks = np.arange(len(classes))\n",
    "    plt.xticks(tick_marks, classes, rotation=45)\n",
    "    plt.yticks(tick_marks, classes)\n",
    "\n",
    "    fmt = '.2f' if normalize else 'd'\n",
    "    thresh = cm.max() / 2.\n",
    "    for i, j in itertools.product(range(cm.shape[0]), range(cm.shape[1])):\n",
    "        plt.text(j, i, format(cm[i, j], fmt),\n",
    "                 horizontalalignment=\"center\",\n",
    "                 color=\"white\" if cm[i, j] > thresh else \"black\")\n",
    "\n",
    "    plt.tight_layout()\n",
    "    plt.ylabel('True label')\n",
    "    plt.xlabel('Predicted label')\n",
    "\n",
    "    \n",
    "plot_confusion_matrix(t,[0,1])"
   ]
  },
  {
   "cell_type": "code",
   "execution_count": 215,
   "metadata": {
    "ExecuteTime": {
     "end_time": "2018-05-16T14:11:38.872186Z",
     "start_time": "2018-05-16T14:11:38.858142Z"
    }
   },
   "outputs": [
    {
     "name": "stdout",
     "output_type": "stream",
     "text": [
      "             precision    recall  f1-score   support\n",
      "\n",
      "          0       0.91      0.58      0.71     16116\n",
      "          1       0.43      0.84      0.57      6029\n",
      "\n",
      "avg / total       0.78      0.65      0.67     22145\n",
      "\n"
     ]
    }
   ],
   "source": [
    "print(metrics.classification_report(y_test,y_pred_threshold))"
   ]
  },
  {
   "cell_type": "code",
   "execution_count": null,
   "metadata": {
    "ExecuteTime": {
     "end_time": "2018-05-15T16:40:53.089049Z",
     "start_time": "2018-05-15T16:40:53.025074Z"
    },
    "collapsed": true
   },
   "outputs": [],
   "source": []
  },
  {
   "cell_type": "code",
   "execution_count": null,
   "metadata": {
    "collapsed": true
   },
   "outputs": [],
   "source": []
  },
  {
   "cell_type": "markdown",
   "metadata": {
    "heading_collapsed": true
   },
   "source": [
    "### Model 6 SVM!!"
   ]
  },
  {
   "cell_type": "code",
   "execution_count": 25,
   "metadata": {
    "ExecuteTime": {
     "end_time": "2018-05-11T16:58:14.979550Z",
     "start_time": "2018-05-11T16:58:11.092810Z"
    },
    "hidden": true
   },
   "outputs": [
    {
     "name": "stdout",
     "output_type": "stream",
     "text": [
      "             precision    recall  f1-score   support\n",
      "\n",
      "          0       0.87      0.69      0.77     16116\n",
      "          1       0.47      0.72      0.57      6029\n",
      "\n",
      "avg / total       0.76      0.70      0.72     22145\n",
      "\n",
      "0.7005193045834274\n",
      "[[11178  4938]\n",
      " [ 1694  4335]]\n"
     ]
    }
   ],
   "source": [
    "# from sklearn.svm import LinearSVC\n",
    "# model_svm4 = LinearSVC()\n",
    "# model_svm4.fit(X_smote_skip,y_smote_skip)\n",
    "# classify(model_svm4,X_test,X_smote_skip,y_smote_skip)"
   ]
  },
  {
   "cell_type": "code",
   "execution_count": 26,
   "metadata": {
    "ExecuteTime": {
     "end_time": "2018-05-11T16:59:20.284286Z",
     "start_time": "2018-05-11T16:58:15.630130Z"
    },
    "hidden": true
   },
   "outputs": [
    {
     "name": "stdout",
     "output_type": "stream",
     "text": [
      "             precision    recall  f1-score   support\n",
      "\n",
      "          0       0.86      0.74      0.80     16116\n",
      "          1       0.49      0.67      0.57      6029\n",
      "\n",
      "avg / total       0.76      0.72      0.73     22145\n",
      "\n",
      "0.7222849401670806\n",
      "[[11961  4155]\n",
      " [ 1995  4034]]\n"
     ]
    }
   ],
   "source": [
    "# from sklearn.svm import SVC\n",
    "# rbf_svm = SVC(kernel='rbf',class_weight=\"balanced\")\n",
    "# rbf_svm.fit(X_smote_skip,y_smote_skip)\n",
    "# classify(rbf_svm,X_test,X_smote_skip,y_smote_skip)"
   ]
  },
  {
   "cell_type": "code",
   "execution_count": 44,
   "metadata": {
    "ExecuteTime": {
     "end_time": "2018-05-15T00:00:39.461124Z",
     "start_time": "2018-05-15T00:00:39.457686Z"
    },
    "collapsed": true,
    "hidden": true
   },
   "outputs": [],
   "source": [
    "# param_grid = {\n",
    "#     \"C\": np.logspace(2, -5, 13),\n",
    "#     \"gamma\": np.logspace(-9,3,13),\n",
    "# }\n"
   ]
  },
  {
   "cell_type": "code",
   "execution_count": 31,
   "metadata": {
    "ExecuteTime": {
     "end_time": "2018-05-11T17:00:56.566181Z",
     "start_time": "2018-05-11T17:00:56.558801Z"
    },
    "hidden": true
   },
   "outputs": [
    {
     "data": {
      "text/plain": [
       "dict_keys(['cv', 'error_score', 'estimator__C', 'estimator__cache_size', 'estimator__class_weight', 'estimator__coef0', 'estimator__decision_function_shape', 'estimator__degree', 'estimator__gamma', 'estimator__kernel', 'estimator__max_iter', 'estimator__probability', 'estimator__random_state', 'estimator__shrinking', 'estimator__tol', 'estimator__verbose', 'estimator', 'fit_params', 'iid', 'n_iter', 'n_jobs', 'param_distributions', 'pre_dispatch', 'random_state', 'refit', 'return_train_score', 'scoring', 'verbose'])"
      ]
     },
     "execution_count": 31,
     "metadata": {},
     "output_type": "execute_result"
    }
   ],
   "source": [
    "# rbf_grid = model_selection.RandomizedSearchCV(\n",
    "#     rbf_svm, param_grid , n_jobs=-1, cv=8, n_iter=2,verbose=0)\n",
    "\n",
    "# rbf_grid.get_params().keys()"
   ]
  },
  {
   "cell_type": "code",
   "execution_count": 32,
   "metadata": {
    "ExecuteTime": {
     "end_time": "2018-05-11T17:07:28.810869Z",
     "start_time": "2018-05-11T17:01:05.001362Z"
    },
    "hidden": true
   },
   "outputs": [
    {
     "data": {
      "text/plain": [
       "RandomizedSearchCV(cv=8, error_score='raise',\n",
       "          estimator=SVC(C=1.0, cache_size=200, class_weight='balanced', coef0=0.0,\n",
       "  decision_function_shape='ovr', degree=3, gamma='auto', kernel='rbf',\n",
       "  max_iter=-1, probability=False, random_state=None, shrinking=True,\n",
       "  tol=0.001, verbose=False),\n",
       "          fit_params=None, iid=True, n_iter=2, n_jobs=-1,\n",
       "          param_distributions={'C': array([1.00000e+02, 2.61016e+01, 6.81292e+00, 1.77828e+00, 4.64159e-01,\n",
       "       1.21153e-01, 3.16228e-02, 8.25404e-03, 2.15443e-03, 5.62341e-04,\n",
       "       1.46780e-04, 3.83119e-05, 1.00000e-05]), 'gamma': array([1.e-09, 1.e-08, 1.e-07, 1.e-06, 1.e-05, 1.e-04, 1.e-03, 1.e-02,\n",
       "       1.e-01, 1.e+00, 1.e+01, 1.e+02, 1.e+03])},\n",
       "          pre_dispatch='2*n_jobs', random_state=None, refit=True,\n",
       "          return_train_score='warn', scoring=None, verbose=0)"
      ]
     },
     "execution_count": 32,
     "metadata": {},
     "output_type": "execute_result"
    }
   ],
   "source": [
    "# rbf_grid.fit(X_smote_skip,y_smote_skip)"
   ]
  },
  {
   "cell_type": "code",
   "execution_count": 33,
   "metadata": {
    "ExecuteTime": {
     "end_time": "2018-05-11T17:07:29.465140Z",
     "start_time": "2018-05-11T17:07:29.459752Z"
    },
    "hidden": true
   },
   "outputs": [
    {
     "data": {
      "text/plain": [
       "{'gamma': 0.0001, 'C': 1e-05}"
      ]
     },
     "execution_count": 33,
     "metadata": {},
     "output_type": "execute_result"
    }
   ],
   "source": [
    "# rbf_grid.best_params_"
   ]
  },
  {
   "cell_type": "code",
   "execution_count": 34,
   "metadata": {
    "ExecuteTime": {
     "end_time": "2018-05-11T17:07:30.111936Z",
     "start_time": "2018-05-11T17:07:30.108416Z"
    },
    "collapsed": true,
    "hidden": true
   },
   "outputs": [],
   "source": [
    "# rbf_model = rbf_grid.best_estimator_\n",
    "# # rbf_model.score(X_smote_skip,y_smote_skip)"
   ]
  },
  {
   "cell_type": "code",
   "execution_count": 35,
   "metadata": {
    "ExecuteTime": {
     "end_time": "2018-05-11T17:08:48.234351Z",
     "start_time": "2018-05-11T17:07:30.756211Z"
    },
    "hidden": true
   },
   "outputs": [
    {
     "name": "stderr",
     "output_type": "stream",
     "text": [
      "/home/ubuntu/miniconda3/lib/python3.6/site-packages/sklearn/metrics/classification.py:1135: UndefinedMetricWarning: Precision and F-score are ill-defined and being set to 0.0 in labels with no predicted samples.\n",
      "  'precision', 'predicted', average, warn_for)\n"
     ]
    },
    {
     "name": "stdout",
     "output_type": "stream",
     "text": [
      "             precision    recall  f1-score   support\n",
      "\n",
      "          0       0.73      1.00      0.84     16116\n",
      "          1       0.00      0.00      0.00      6029\n",
      "\n",
      "avg / total       0.53      0.73      0.61     22145\n",
      "\n",
      "0.7277489275231429\n",
      "[[16116     0]\n",
      " [ 6029     0]]\n"
     ]
    }
   ],
   "source": [
    "# classify(rbf_model,X_test,X_smote_skip,y_smote_skip)"
   ]
  },
  {
   "cell_type": "code",
   "execution_count": 47,
   "metadata": {
    "ExecuteTime": {
     "end_time": "2018-05-11T17:21:04.995638Z",
     "start_time": "2018-05-11T17:20:52.146794Z"
    },
    "hidden": true
   },
   "outputs": [
    {
     "data": {
      "text/plain": [
       "SVC(C=1.0, cache_size=200, class_weight='balanced', coef0=0.0,\n",
       "  decision_function_shape='ovr', degree=6, gamma='auto', kernel='poly',\n",
       "  max_iter=-1, probability=False, random_state=None, shrinking=True,\n",
       "  tol=0.001, verbose=False)"
      ]
     },
     "execution_count": 47,
     "metadata": {},
     "output_type": "execute_result"
    }
   ],
   "source": [
    "# from sklearn.svm import SVC\n",
    "# poly_svm = SVC(kernel='poly', gamma='auto',class_weight='balanced', degree=6)\n",
    "# poly_svm.fit(X_smote_skip,y_smote_skip)"
   ]
  },
  {
   "cell_type": "code",
   "execution_count": 48,
   "metadata": {
    "ExecuteTime": {
     "end_time": "2018-05-11T17:21:05.644932Z",
     "start_time": "2018-05-11T17:21:05.641595Z"
    },
    "collapsed": true,
    "hidden": true
   },
   "outputs": [],
   "source": [
    "# poly_svm.score(X_smote,y_smote)"
   ]
  },
  {
   "cell_type": "code",
   "execution_count": 49,
   "metadata": {
    "ExecuteTime": {
     "end_time": "2018-05-11T17:22:08.667599Z",
     "start_time": "2018-05-11T17:21:06.292414Z"
    },
    "hidden": true,
    "scrolled": true
   },
   "outputs": [
    {
     "name": "stdout",
     "output_type": "stream",
     "text": [
      "             precision    recall  f1-score   support\n",
      "\n",
      "          0       0.81      0.14      0.24     16116\n",
      "          1       0.28      0.91      0.43      6029\n",
      "\n",
      "avg / total       0.67      0.35      0.29     22145\n",
      "\n",
      "0.35204335064348613\n",
      "[[ 2305 13811]\n",
      " [  538  5491]]\n"
     ]
    }
   ],
   "source": [
    "# classify(poly_svm,X_test,X_smote,y_smote)"
   ]
  },
  {
   "cell_type": "code",
   "execution_count": 50,
   "metadata": {
    "ExecuteTime": {
     "end_time": "2018-05-11T17:22:09.318325Z",
     "start_time": "2018-05-11T17:22:09.313264Z"
    },
    "hidden": true
   },
   "outputs": [
    {
     "data": {
      "text/plain": [
       "array([1.00709695, 0.99300238])"
      ]
     },
     "execution_count": 50,
     "metadata": {},
     "output_type": "execute_result"
    }
   ],
   "source": [
    "# poly_svm.class_weight_"
   ]
  },
  {
   "cell_type": "code",
   "execution_count": 56,
   "metadata": {
    "ExecuteTime": {
     "end_time": "2018-05-11T17:53:22.715024Z",
     "start_time": "2018-05-11T17:53:22.711107Z"
    },
    "hidden": true
   },
   "outputs": [
    {
     "data": {
      "text/plain": [
       "range(1, 9)"
      ]
     },
     "execution_count": 56,
     "metadata": {},
     "output_type": "execute_result"
    }
   ],
   "source": [
    "# plot_roc_curve()"
   ]
  },
  {
   "cell_type": "code",
   "execution_count": null,
   "metadata": {
    "ExecuteTime": {
     "start_time": "2018-05-11T17:53:51.579Z"
    },
    "hidden": true
   },
   "outputs": [
    {
     "name": "stdout",
     "output_type": "stream",
     "text": [
      "             precision    recall  f1-score   support\n",
      "\n",
      "          0       0.80      0.11      0.19     16116\n",
      "          1       0.28      0.93      0.43      6029\n",
      "\n",
      "avg / total       0.66      0.33      0.26     22145\n",
      "\n",
      "0.3326710318356288\n",
      "[[ 1776 14340]\n",
      " [  438  5591]]\n",
      "None\n",
      "9\n",
      "             precision    recall  f1-score   support\n",
      "\n",
      "          0       0.80      0.11      0.19     16116\n",
      "          1       0.28      0.93      0.43      6029\n",
      "\n",
      "avg / total       0.66      0.33      0.25     22145\n",
      "\n",
      "0.3296455181756604\n",
      "[[ 1698 14418]\n",
      " [  427  5602]]\n",
      "None\n",
      "10\n",
      "             precision    recall  f1-score   support\n",
      "\n",
      "          0       0.80      0.10      0.18     16116\n",
      "          1       0.28      0.93      0.43      6029\n",
      "\n",
      "avg / total       0.66      0.33      0.25     22145\n",
      "\n",
      "0.32716188755926845\n",
      "[[ 1625 14491]\n",
      " [  409  5620]]\n",
      "None\n",
      "11\n",
      "             precision    recall  f1-score   support\n",
      "\n",
      "          0       0.80      0.10      0.17     16116\n",
      "          1       0.28      0.93      0.43      6029\n",
      "\n",
      "avg / total       0.66      0.32      0.24     22145\n",
      "\n",
      "0.32436215850079025\n",
      "[[ 1552 14564]\n",
      " [  398  5631]]\n",
      "None\n",
      "12\n",
      "             precision    recall  f1-score   support\n",
      "\n",
      "          0       0.80      0.09      0.17     16116\n",
      "          1       0.28      0.94      0.43      6029\n",
      "\n",
      "avg / total       0.65      0.32      0.24     22145\n",
      "\n",
      "0.3224204109279747\n",
      "[[ 1495 14621]\n",
      " [  384  5645]]\n",
      "None\n",
      "13\n",
      "             precision    recall  f1-score   support\n",
      "\n",
      "          0       0.79      0.09      0.16     16116\n",
      "          1       0.28      0.94      0.43      6029\n",
      "\n",
      "avg / total       0.65      0.32      0.23     22145\n",
      "\n",
      "0.32029803567396703\n",
      "[[ 1441 14675]\n",
      " [  377  5652]]\n",
      "None\n",
      "14\n",
      "             precision    recall  f1-score   support\n",
      "\n",
      "          0       0.79      0.09      0.16     16116\n",
      "          1       0.28      0.94      0.43      6029\n",
      "\n",
      "avg / total       0.65      0.32      0.23     22145\n",
      "\n",
      "0.3188981711447279\n",
      "[[ 1404 14712]\n",
      " [  371  5658]]\n",
      "None\n",
      "15\n",
      "             precision    recall  f1-score   support\n",
      "\n",
      "          0       0.79      0.08      0.15     16116\n",
      "          1       0.28      0.94      0.43      6029\n",
      "\n",
      "avg / total       0.65      0.32      0.23     22145\n",
      "\n",
      "0.3169564235719124\n",
      "[[ 1356 14760]\n",
      " [  366  5663]]\n",
      "None\n",
      "16\n",
      "             precision    recall  f1-score   support\n",
      "\n",
      "          0       0.79      0.08      0.15     16116\n",
      "          1       0.28      0.94      0.43      6029\n",
      "\n",
      "avg / total       0.65      0.32      0.22     22145\n",
      "\n",
      "0.31600812824565366\n",
      "[[ 1319 14797]\n",
      " [  350  5679]]\n",
      "None\n",
      "17\n",
      "             precision    recall  f1-score   support\n",
      "\n",
      "          0       0.79      0.08      0.14     16116\n",
      "          1       0.28      0.94      0.43      6029\n",
      "\n",
      "avg / total       0.65      0.31      0.22     22145\n",
      "\n",
      "0.31474373447730863\n",
      "[[ 1285 14831]\n",
      " [  344  5685]]\n",
      "None\n",
      "18\n"
     ]
    }
   ],
   "source": [
    "# from sklearn.svm import SVC\n",
    "# for i in range(9,26):\n",
    "#     poly_svm = SVC(kernel='poly', gamma='auto',class_weight='balanced', degree=i)\n",
    "#     poly_svm.fit(X_smote_skip,y_smote_skip)\n",
    "#     print(classify(poly_svm,X_test,X_smote,y_smote))\n",
    "#     print(i)\n",
    "\n"
   ]
  },
  {
   "cell_type": "markdown",
   "metadata": {
    "heading_collapsed": true
   },
   "source": [
    "### Overnight only!"
   ]
  },
  {
   "cell_type": "code",
   "execution_count": null,
   "metadata": {
    "ExecuteTime": {
     "end_time": "2018-05-11T16:12:06.489798Z",
     "start_time": "2018-05-11T16:11:41.119Z"
    },
    "collapsed": true,
    "hidden": true
   },
   "outputs": [],
   "source": [
    "# classify(poly_svm,X_test,X_train,y_train)"
   ]
  },
  {
   "cell_type": "code",
   "execution_count": 40,
   "metadata": {
    "ExecuteTime": {
     "end_time": "2018-05-13T18:33:28.421309Z",
     "start_time": "2018-05-13T18:33:28.418636Z"
    },
    "collapsed": true,
    "hidden": true
   },
   "outputs": [],
   "source": [
    "import sklearn.ensemble as ensemble\n",
    "import sklearn.linear_model as linear_model"
   ]
  },
  {
   "cell_type": "code",
   "execution_count": 42,
   "metadata": {
    "ExecuteTime": {
     "end_time": "2018-05-13T18:33:50.053815Z",
     "start_time": "2018-05-13T18:33:41.076105Z"
    },
    "hidden": true,
    "scrolled": false
   },
   "outputs": [
    {
     "name": "stdout",
     "output_type": "stream",
     "text": [
      "AdaBoostClassifier: 0.436353 (0.099220)\n",
      "GBC: 0.454301 (0.126727)\n",
      "LogisticRegressionCV: 0.580900 (0.298547)\n"
     ]
    },
    {
     "name": "stderr",
     "output_type": "stream",
     "text": [
      "/home/ubuntu/miniconda3/lib/python3.6/site-packages/sklearn/ensemble/forest.py:453: UserWarning: Some inputs do not have OOB scores. This probably means too few trees were used to compute any reliable oob estimates.\n",
      "  warn(\"Some inputs do not have OOB scores. \"\n",
      "/home/ubuntu/miniconda3/lib/python3.6/site-packages/sklearn/ensemble/forest.py:458: RuntimeWarning: invalid value encountered in true_divide\n",
      "  predictions[k].sum(axis=1)[:, np.newaxis])\n",
      "/home/ubuntu/miniconda3/lib/python3.6/site-packages/sklearn/ensemble/forest.py:453: UserWarning: Some inputs do not have OOB scores. This probably means too few trees were used to compute any reliable oob estimates.\n",
      "  warn(\"Some inputs do not have OOB scores. \"\n",
      "/home/ubuntu/miniconda3/lib/python3.6/site-packages/sklearn/ensemble/forest.py:458: RuntimeWarning: invalid value encountered in true_divide\n",
      "  predictions[k].sum(axis=1)[:, np.newaxis])\n"
     ]
    },
    {
     "name": "stdout",
     "output_type": "stream",
     "text": [
      "RFC: 0.567534 (0.231873)\n"
     ]
    },
    {
     "data": {
      "image/png": "[encoded data removed]",
      "text/plain": [
       "<Figure size 432x288 with 1 Axes>"
      ]
     },
     "metadata": {},
     "output_type": "display_data"
    }
   ],
   "source": [
    "seed = 7\n",
    "# prepare models\n",
    "models = []\n",
    "# models.append(('AdaBoostClassifier', ensemble.AdaBoostClassifier()))\n",
    "# models.append(('GBC', ensemble.GradientBoostingClassifier()))\n",
    "models.append(('LogisticRegressionCV',linear_model.LogisticRegressionCV()))\n",
    "# models.append(('SVM', SVC()))\n",
    "models.append(('RFC',\n",
    "               RandomForestClassifier(\n",
    "                   max_depth=6.5,\n",
    "                   min_samples_split=48,\n",
    "     \n",
    "                   max_features=60,\n",
    "                   oob_score=True)))\n",
    "#\n",
    "# evaluate each model in turn\n",
    "results = []\n",
    "names = []\n",
    "scoring = 'recall'\n",
    "for name, model in models:\n",
    "    kfold = model_selection.KFold(n_splits=2, random_state=seed)\n",
    "    cv_results = model_selection.cross_val_score(\n",
    "        model,\n",
    "        X_smote[::skip_size],y_smote[::skip_size],\n",
    "\n",
    "        cv=kfold,\n",
    "        scoring=scoring)\n",
    "    results.append(cv_results)\n",
    "    names.append(name)\n",
    "    msg = \"%s: %f (%f)\" % (name, cv_results.mean(), cv_results.std())\n",
    "    print(msg)\n",
    "# boxplot algorithm comparison\n",
    "fig = plt.figure()\n",
    "fig.suptitle('Algorithm Comparison')\n",
    "ax = fig.add_subplot(111)\n",
    "plt.boxplot(results)\n",
    "ax.set_xticklabels(names)\n",
    "plt.show()"
   ]
  },
  {
   "cell_type": "code",
   "execution_count": null,
   "metadata": {
    "ExecuteTime": {
     "end_time": "2018-05-13T18:35:36.640940Z",
     "start_time": "2018-05-13T18:35:36.637643Z"
    },
    "collapsed": true,
    "hidden": true
   },
   "outputs": [],
   "source": []
  },
  {
   "cell_type": "code",
   "execution_count": null,
   "metadata": {
    "collapsed": true,
    "hidden": true
   },
   "outputs": [],
   "source": []
  },
  {
   "cell_type": "code",
   "execution_count": null,
   "metadata": {
    "collapsed": true,
    "hidden": true
   },
   "outputs": [],
   "source": []
  },
  {
   "cell_type": "code",
   "execution_count": null,
   "metadata": {
    "collapsed": true,
    "hidden": true
   },
   "outputs": [],
   "source": []
  },
  {
   "cell_type": "code",
   "execution_count": null,
   "metadata": {
    "collapsed": true,
    "hidden": true
   },
   "outputs": [],
   "source": []
  },
  {
   "cell_type": "markdown",
   "metadata": {
    "ExecuteTime": {
     "end_time": "2018-05-11T01:45:17.954322Z",
     "start_time": "2018-05-11T01:45:17.950996Z"
    },
    "heading_collapsed": true
   },
   "source": [
    "### 3Test pending"
   ]
  },
  {
   "cell_type": "code",
   "execution_count": null,
   "metadata": {
    "collapsed": true,
    "hidden": true
   },
   "outputs": [],
   "source": []
  },
  {
   "cell_type": "code",
   "execution_count": 70,
   "metadata": {
    "ExecuteTime": {
     "end_time": "2018-05-11T01:45:25.714487Z",
     "start_time": "2018-05-11T01:45:25.634750Z"
    },
    "collapsed": true,
    "hidden": true
   },
   "outputs": [],
   "source": [
    "# import numpy as np\n",
    "\n",
    "# from sklearn.ensemble import RandomForestRegressor\n",
    "# from sklearn.tree import _tree, export_graphviz\n",
    "# from sklearn.datasets import load_boston\n",
    "\n",
    "# import matplotlib.pyplot as plt\n",
    "\n",
    "# from sklearn.utils import check_random_state\n",
    "\n",
    "\n",
    "# def leaf_depths(tree, node_id=0):\n",
    "\n",
    "#     left_child = tree.children_left[node_id]\n",
    "#     right_child = tree.children_right[node_id]\n",
    "\n",
    "#     if left_child == _tree.TREE_LEAF:\n",
    "\n",
    "#         depths = np.array([0])\n",
    "\n",
    "#     else:\n",
    "\n",
    "#         left_depths = leaf_depths(tree, left_child) + 1\n",
    "#         right_depths = leaf_depths(tree, right_child) + 1\n",
    "\n",
    "#         depths = np.append(left_depths, right_depths)\n",
    "\n",
    "#     return depths\n",
    "\n",
    "\n",
    "# def leaf_samples(tree, node_id=0):\n",
    "\n",
    "#     left_child = tree.children_left[node_id]\n",
    "#     right_child = tree.children_right[node_id]\n",
    "\n",
    "#     if left_child == _tree.TREE_LEAF:\n",
    "\n",
    "#         samples = np.array([tree.n_node_samples[node_id]])\n",
    "\n",
    "#     else:\n",
    "\n",
    "#         left_samples = leaf_samples(tree, left_child)\n",
    "#         right_samples = leaf_samples(tree, right_child)\n",
    "\n",
    "#         samples = np.append(left_samples, right_samples)\n",
    "\n",
    "#     return samples\n",
    "\n",
    "\n",
    "# def draw_tree(ensemble, tree_id=0):\n",
    "\n",
    "#     plt.figure(figsize=(8, 8))\n",
    "#     plt.subplot(211)\n",
    "\n",
    "#     tree = ensemble.estimators_[tree_id].tree_\n",
    "\n",
    "#     depths = leaf_depths(tree)\n",
    "#     plt.hist(\n",
    "#         depths,\n",
    "#         histtype='step',\n",
    "#         color='#9933ff',\n",
    "#         bins=range(min(depths),\n",
    "#                    max(depths) + 1))\n",
    "\n",
    "#     plt.xlabel(\"Depth of leaf nodes (tree %s)\" % tree_id)\n",
    "\n",
    "#     plt.subplot(212)\n",
    "\n",
    "#     samples = leaf_samples(tree)\n",
    "#     plt.hist(\n",
    "#         samples,\n",
    "#         histtype='step',\n",
    "#         color='#3399ff',\n",
    "#         bins=range(min(samples),\n",
    "#                    max(samples) + 1))\n",
    "\n",
    "#     plt.xlabel(\"Number of samples in leaf nodes (tree %s)\" % tree_id)\n",
    "\n",
    "#     plt.show()\n",
    "\n",
    "\n",
    "# def draw_ensemble(ensemble):\n",
    "\n",
    "#     plt.figure(figsize=(8, 8))\n",
    "#     plt.subplot(211)\n",
    "\n",
    "#     depths_all = np.array([], dtype=int)\n",
    "\n",
    "#     for x in ensemble.estimators:\n",
    "#         tree = x.tree_\n",
    "#         depths = leaf_depths(tree)\n",
    "#         depths_all = np.append(depths_all, depths)\n",
    "#         plt.hist(\n",
    "#             depths,\n",
    "#             histtype='step',\n",
    "#             color='#ddaaff',\n",
    "#             bins=range(min(depths),\n",
    "#                        max(depths) + 1))\n",
    "\n",
    "#     plt.hist(\n",
    "#         depths_all,\n",
    "#         histtype='step',\n",
    "#         color='#9933ff',\n",
    "#         bins=range(min(depths_all),\n",
    "#                    max(depths_all) + 1),\n",
    "#         weights=np.ones(len(depths_all)) / len(ensemble.estimators_),\n",
    "#         linewidth=2)\n",
    "#     plt.xlabel(\"Depth of leaf nodes\")\n",
    "\n",
    "#     samples_all = np.array([], dtype=int)\n",
    "\n",
    "#     plt.subplot(212)\n",
    "\n",
    "#     for x in ensemble.estimators_:\n",
    "#         tree = x.tree_\n",
    "#         samples = leaf_samples(tree)\n",
    "#         samples_all = np.append(samples_all, samples)\n",
    "#         plt.hist(\n",
    "#             samples,\n",
    "#             histtype='step',\n",
    "#             color='#aaddff',\n",
    "#             bins=range(min(samples),\n",
    "#                        max(samples) + 1))\n",
    "\n",
    "#     plt.hist(\n",
    "#         samples_all,\n",
    "#         histtype='step',\n",
    "#         color='#3399ff',\n",
    "#         bins=range(min(samples_all),\n",
    "#                    max(samples_all) + 1),\n",
    "#         weights=np.ones(len(samples_all)) / len(ensemble.estimators_),\n",
    "#         linewidth=2)\n",
    "#     plt.xlabel(\"Number of samples in leaf nodes\")\n",
    "\n",
    "#     plt.show()\n",
    "\n",
    "\n",
    "# boston = load_boston()\n",
    "# X = boston.data\n",
    "# y = boston.target\n",
    "\n",
    "# rnd = check_random_state(0)\n",
    "# skip_size\n",
    "# ensemble = RandomForestClassifier(\n",
    "#     max_depth=20,\n",
    "#     min_samples_split=48,\n",
    "#     verbose=0,\n",
    "#     max_features=60,\n",
    "#     oob_score=True,\n",
    "#     estimators_\n",
    "#     )\n",
    "# ensemble.fit(X_train[::skip_size], y_train[::skip_size])\n",
    "\n",
    "# draw_ensemble(ensemble)\n",
    "\n",
    "# # max_depth=12 indeed results in maximum depth of xx and leads to less complex trees and more samples in the leaf nodes:\n",
    "# # To validate these two helper functions, one can visualize the effect of max_depth and min_samples_leaf on underlying trees in the forest. "
   ]
  },
  {
   "cell_type": "code",
   "execution_count": null,
   "metadata": {
    "collapsed": true,
    "hidden": true
   },
   "outputs": [],
   "source": []
  },
  {
   "cell_type": "code",
   "execution_count": null,
   "metadata": {
    "collapsed": true,
    "hidden": true
   },
   "outputs": [],
   "source": []
  },
  {
   "cell_type": "code",
   "execution_count": null,
   "metadata": {
    "collapsed": true,
    "hidden": true
   },
   "outputs": [],
   "source": []
  }
 ],
 "metadata": {
  "kernelspec": {
   "display_name": "Python 3",
   "language": "python",
   "name": "python3"
  },
  "language_info": {
   "codemirror_mode": {
    "name": "ipython",
    "version": 3
   },
   "file_extension": ".py",
   "mimetype": "text/x-python",
   "name": "python",
   "nbconvert_exporter": "python",
   "pygments_lexer": "ipython3",
   "version": "3.6.3"
  },
  "varInspector": {
   "cols": {
    "lenName": 16,
    "lenType": 16,
    "lenVar": 40
   },
   "kernels_config": {
    "python": {
     "delete_cmd_postfix": "",
     "delete_cmd_prefix": "del ",
     "library": "var_list.py",
     "varRefreshCmd": "print(var_dic_list())"
    },
    "r": {
     "delete_cmd_postfix": ") ",
     "delete_cmd_prefix": "rm(",
     "library": "var_list.r",
     "varRefreshCmd": "cat(var_dic_list()) "
    }
   },
   "types_to_exclude": [
    "module",
    "function",
    "builtin_function_or_method",
    "instance",
    "_Feature"
   ],
   "window_display": false
  }
 },
 "nbformat": 4,
 "nbformat_minor": 2
}
