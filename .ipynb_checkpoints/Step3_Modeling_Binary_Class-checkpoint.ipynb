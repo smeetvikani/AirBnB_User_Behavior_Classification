{
 "cells": [
  {
   "cell_type": "markdown",
   "metadata": {},
   "source": [
    "### Import Packages"
   ]
  },
  {
   "cell_type": "code",
   "execution_count": 2,
   "metadata": {
    "ExecuteTime": {
     "end_time": "2018-05-21T19:58:18.474963Z",
     "start_time": "2018-05-21T19:58:16.465634Z"
    },
    "collapsed": true
   },
   "outputs": [],
   "source": [
    "import pandas as pd\n",
    "import seaborn\n",
    "import math\n",
    "import sklearn\n",
    "import datetime\n",
    "from sklearn.metrics import roc_curve\n",
    "from sklearn.metrics import auc\n",
    "import matplotlib.pyplot as plt\n",
    "from sklearn.ensemble import RandomForestClassifier\n",
    "from sklearn import metrics\n",
    "import pandas\n",
    "from sklearn import model_selection\n",
    "from sklearn.linear_model import LogisticRegression\n",
    "from sklearn.tree import DecisionTreeClassifier\n",
    "from sklearn.neighbors import KNeighborsClassifier\n",
    "from sklearn.discriminant_analysis import LinearDiscriminantAnalysis\n",
    "from sklearn.naive_bayes import GaussianNB\n",
    "from sklearn.svm import SVC\n",
    "\n",
    "%matplotlib inline"
   ]
  },
  {
   "cell_type": "markdown",
   "metadata": {
    "ExecuteTime": {
     "end_time": "2018-05-11T02:11:48.182430Z",
     "start_time": "2018-05-11T02:11:48.180320Z"
    }
   },
   "source": [
    "### Import Data and Prep for Modeling"
   ]
  },
  {
   "cell_type": "code",
   "execution_count": 26,
   "metadata": {
    "ExecuteTime": {
     "end_time": "2018-05-21T20:01:09.434875Z",
     "start_time": "2018-05-21T20:01:08.386911Z"
    }
   },
   "outputs": [],
   "source": [
    "model_data_v1 = pd.read_csv('data/model_data_v1.csv')\n"
   ]
  },
  {
   "cell_type": "code",
   "execution_count": 27,
   "metadata": {
    "ExecuteTime": {
     "end_time": "2018-05-21T20:01:10.470661Z",
     "start_time": "2018-05-21T20:01:10.412585Z"
    },
    "collapsed": true
   },
   "outputs": [],
   "source": [
    "model_data_v2 = model_data_v1[[\n",
    "#  'date_account_created', 'timestamp_first_active', 'date_first_booking','date_account_created',   \n",
    "#     'secs_elapsed_std','secs_elapsed_median',\n",
    "\n",
    "       'gender', 'signup_method', 'signup_flow',\n",
    "       'language', 'affiliate_channel', 'affiliate_provider',\n",
    "       'first_affiliate_tracked', 'signup_app', 'first_device_type',\n",
    "       'first_browser', 'action=other',\n",
    "       'action=update', 'action=dashboard', 'action=collections',\n",
    "       'action=confirm_email', 'action=reviews', 'action=requested',\n",
    "       'action=unavailabilities', 'action=similar_listings', 'action=active',\n",
    "       'action=show', 'action=qt2', 'action=personalize',\n",
    "       'action=social_connections', 'action=identity', 'action=header_userpic',\n",
    "       'action=search_results', 'action=create', 'action=edit',\n",
    "       'action=similar_listings_v2', 'action=index',\n",
    "       'action=ajax_refresh_subtotal', 'action=lookup', 'action=campaigns',\n",
    "       'action=track_page_view', 'action=notifications', 'action=search',\n",
    "       'action=-1', 'action_type=other', 'action_type=data',\n",
    "       'action_type=click', 'action_type=message_post',\n",
    "       'action_type=-unknown-', 'action_type=view', 'action_type=submit',\n",
    "       'action_type=-1', 'action_detail=other', 'action_detail=message_post',\n",
    "       'action_detail=edit_profile', 'action_detail=view_search_results',\n",
    "       'action_detail=dashboard', 'action_detail=message_thread',\n",
    "       'action_detail=similar_listings', 'action_detail=user_profile',\n",
    "       'action_detail=contact_host', 'action_detail=unavailable_dates',\n",
    "       'action_detail=p3', 'action_detail=create_user',\n",
    "       'action_detail=change_trip_characteristics', 'action_detail=-unknown-',\n",
    "       'action_detail=header_userpic', 'action_detail=user_social_connections',\n",
    "       'action_detail=listing_reviews',\n",
    "       'action_detail=wishlist_content_update', 'action_detail=update_listing',\n",
    "       'action_detail=confirm_email_link', 'action_detail=user_wishlists',\n",
    "       'action_detail=-1', 'device_type=other',\n",
    "       'device_type=Android App Unknown Phone/Tablet',\n",
    "       'device_type=Mac Desktop', 'device_type=-unknown-',\n",
    "       'device_type=Windows Desktop', 'device_type=Tablet',\n",
    "       'device_type=Android Phone', 'device_type=iPhone',\n",
    "       'device_type=iPad Tablet',  'Age_Over40', 'Age_31-39',\n",
    "       'Age_Under31', 'Age_unknown', 'Month_account_created']]\n"
   ]
  },
  {
   "cell_type": "code",
   "execution_count": null,
   "metadata": {
    "collapsed": true
   },
   "outputs": [],
   "source": []
  },
  {
   "cell_type": "code",
   "execution_count": 28,
   "metadata": {
    "ExecuteTime": {
     "end_time": "2018-05-21T20:01:13.093776Z",
     "start_time": "2018-05-21T20:01:11.725585Z"
    },
    "collapsed": true
   },
   "outputs": [],
   "source": [
    "model_data_v3 = model_data_v2.replace({\n",
    "    'AU': 'other',\n",
    "    'CA': 'other',\n",
    "    'DE': 'other',\n",
    "    'ES': 'other',\n",
    "    'FR': 'other',\n",
    "    'GB': 'other',\n",
    "    'IT': 'other',\n",
    "    'NL': 'other',\n",
    "    'PT': 'other',\n",
    "    'NDF': 'other'\n",
    "})"
   ]
  },
  {
   "cell_type": "code",
   "execution_count": 29,
   "metadata": {
    "ExecuteTime": {
     "end_time": "2018-05-21T20:01:14.325555Z",
     "start_time": "2018-05-21T20:01:14.245065Z"
    }
   },
   "outputs": [
    {
     "ename": "KeyError",
     "evalue": "'country_destination'",
     "output_type": "error",
     "traceback": [
      "\u001b[0;31m---------------------------------------------------------------------------\u001b[0m",
      "\u001b[0;31mKeyError\u001b[0m                                  Traceback (most recent call last)",
      "\u001b[0;32m~/anaconda3/lib/python3.6/site-packages/pandas/core/indexes/base.py\u001b[0m in \u001b[0;36mget_loc\u001b[0;34m(self, key, method, tolerance)\u001b[0m\n\u001b[1;32m   2441\u001b[0m             \u001b[0;32mtry\u001b[0m\u001b[0;34m:\u001b[0m\u001b[0;34m\u001b[0m\u001b[0m\n\u001b[0;32m-> 2442\u001b[0;31m                 \u001b[0;32mreturn\u001b[0m \u001b[0mself\u001b[0m\u001b[0;34m.\u001b[0m\u001b[0m_engine\u001b[0m\u001b[0;34m.\u001b[0m\u001b[0mget_loc\u001b[0m\u001b[0;34m(\u001b[0m\u001b[0mkey\u001b[0m\u001b[0;34m)\u001b[0m\u001b[0;34m\u001b[0m\u001b[0m\n\u001b[0m\u001b[1;32m   2443\u001b[0m             \u001b[0;32mexcept\u001b[0m \u001b[0mKeyError\u001b[0m\u001b[0;34m:\u001b[0m\u001b[0;34m\u001b[0m\u001b[0m\n",
      "\u001b[0;32mpandas/_libs/index.pyx\u001b[0m in \u001b[0;36mpandas._libs.index.IndexEngine.get_loc\u001b[0;34m()\u001b[0m\n",
      "\u001b[0;32mpandas/_libs/index.pyx\u001b[0m in \u001b[0;36mpandas._libs.index.IndexEngine.get_loc\u001b[0;34m()\u001b[0m\n",
      "\u001b[0;32mpandas/_libs/hashtable_class_helper.pxi\u001b[0m in \u001b[0;36mpandas._libs.hashtable.PyObjectHashTable.get_item\u001b[0;34m()\u001b[0m\n",
      "\u001b[0;32mpandas/_libs/hashtable_class_helper.pxi\u001b[0m in \u001b[0;36mpandas._libs.hashtable.PyObjectHashTable.get_item\u001b[0;34m()\u001b[0m\n",
      "\u001b[0;31mKeyError\u001b[0m: 'country_destination'",
      "\nDuring handling of the above exception, another exception occurred:\n",
      "\u001b[0;31mKeyError\u001b[0m                                  Traceback (most recent call last)",
      "\u001b[0;32m<ipython-input-29-64fbf2160eb6>\u001b[0m in \u001b[0;36m<module>\u001b[0;34m()\u001b[0m\n\u001b[0;32m----> 1\u001b[0;31m \u001b[0mdf_dummified_y\u001b[0m \u001b[0;34m=\u001b[0m \u001b[0mmodel_data_v3\u001b[0m\u001b[0;34m[\u001b[0m\u001b[0;34m'country_destination'\u001b[0m\u001b[0;34m]\u001b[0m\u001b[0;34m\u001b[0m\u001b[0m\n\u001b[0m\u001b[1;32m      2\u001b[0m \u001b[0mmodel_data_x_dummy_prep\u001b[0m\u001b[0;34m=\u001b[0m\u001b[0mmodel_data_v3\u001b[0m\u001b[0;34m.\u001b[0m\u001b[0mdrop\u001b[0m\u001b[0;34m(\u001b[0m\u001b[0;34m[\u001b[0m\u001b[0;34m\"country_destination\"\u001b[0m\u001b[0;34m,\u001b[0m\u001b[0;34m\"Unnamed: 0\"\u001b[0m\u001b[0;34m,\u001b[0m\u001b[0;34m'id'\u001b[0m\u001b[0;34m]\u001b[0m\u001b[0;34m,\u001b[0m \u001b[0maxis\u001b[0m\u001b[0;34m=\u001b[0m\u001b[0;36m1\u001b[0m\u001b[0;34m)\u001b[0m\u001b[0;34m\u001b[0m\u001b[0m\n",
      "\u001b[0;32m~/anaconda3/lib/python3.6/site-packages/pandas/core/frame.py\u001b[0m in \u001b[0;36m__getitem__\u001b[0;34m(self, key)\u001b[0m\n\u001b[1;32m   1962\u001b[0m             \u001b[0;32mreturn\u001b[0m \u001b[0mself\u001b[0m\u001b[0;34m.\u001b[0m\u001b[0m_getitem_multilevel\u001b[0m\u001b[0;34m(\u001b[0m\u001b[0mkey\u001b[0m\u001b[0;34m)\u001b[0m\u001b[0;34m\u001b[0m\u001b[0m\n\u001b[1;32m   1963\u001b[0m         \u001b[0;32melse\u001b[0m\u001b[0;34m:\u001b[0m\u001b[0;34m\u001b[0m\u001b[0m\n\u001b[0;32m-> 1964\u001b[0;31m             \u001b[0;32mreturn\u001b[0m \u001b[0mself\u001b[0m\u001b[0;34m.\u001b[0m\u001b[0m_getitem_column\u001b[0m\u001b[0;34m(\u001b[0m\u001b[0mkey\u001b[0m\u001b[0;34m)\u001b[0m\u001b[0;34m\u001b[0m\u001b[0m\n\u001b[0m\u001b[1;32m   1965\u001b[0m \u001b[0;34m\u001b[0m\u001b[0m\n\u001b[1;32m   1966\u001b[0m     \u001b[0;32mdef\u001b[0m \u001b[0m_getitem_column\u001b[0m\u001b[0;34m(\u001b[0m\u001b[0mself\u001b[0m\u001b[0;34m,\u001b[0m \u001b[0mkey\u001b[0m\u001b[0;34m)\u001b[0m\u001b[0;34m:\u001b[0m\u001b[0;34m\u001b[0m\u001b[0m\n",
      "\u001b[0;32m~/anaconda3/lib/python3.6/site-packages/pandas/core/frame.py\u001b[0m in \u001b[0;36m_getitem_column\u001b[0;34m(self, key)\u001b[0m\n\u001b[1;32m   1969\u001b[0m         \u001b[0;31m# get column\u001b[0m\u001b[0;34m\u001b[0m\u001b[0;34m\u001b[0m\u001b[0m\n\u001b[1;32m   1970\u001b[0m         \u001b[0;32mif\u001b[0m \u001b[0mself\u001b[0m\u001b[0;34m.\u001b[0m\u001b[0mcolumns\u001b[0m\u001b[0;34m.\u001b[0m\u001b[0mis_unique\u001b[0m\u001b[0;34m:\u001b[0m\u001b[0;34m\u001b[0m\u001b[0m\n\u001b[0;32m-> 1971\u001b[0;31m             \u001b[0;32mreturn\u001b[0m \u001b[0mself\u001b[0m\u001b[0;34m.\u001b[0m\u001b[0m_get_item_cache\u001b[0m\u001b[0;34m(\u001b[0m\u001b[0mkey\u001b[0m\u001b[0;34m)\u001b[0m\u001b[0;34m\u001b[0m\u001b[0m\n\u001b[0m\u001b[1;32m   1972\u001b[0m \u001b[0;34m\u001b[0m\u001b[0m\n\u001b[1;32m   1973\u001b[0m         \u001b[0;31m# duplicate columns & possible reduce dimensionality\u001b[0m\u001b[0;34m\u001b[0m\u001b[0;34m\u001b[0m\u001b[0m\n",
      "\u001b[0;32m~/anaconda3/lib/python3.6/site-packages/pandas/core/generic.py\u001b[0m in \u001b[0;36m_get_item_cache\u001b[0;34m(self, item)\u001b[0m\n\u001b[1;32m   1643\u001b[0m         \u001b[0mres\u001b[0m \u001b[0;34m=\u001b[0m \u001b[0mcache\u001b[0m\u001b[0;34m.\u001b[0m\u001b[0mget\u001b[0m\u001b[0;34m(\u001b[0m\u001b[0mitem\u001b[0m\u001b[0;34m)\u001b[0m\u001b[0;34m\u001b[0m\u001b[0m\n\u001b[1;32m   1644\u001b[0m         \u001b[0;32mif\u001b[0m \u001b[0mres\u001b[0m \u001b[0;32mis\u001b[0m \u001b[0;32mNone\u001b[0m\u001b[0;34m:\u001b[0m\u001b[0;34m\u001b[0m\u001b[0m\n\u001b[0;32m-> 1645\u001b[0;31m             \u001b[0mvalues\u001b[0m \u001b[0;34m=\u001b[0m \u001b[0mself\u001b[0m\u001b[0;34m.\u001b[0m\u001b[0m_data\u001b[0m\u001b[0;34m.\u001b[0m\u001b[0mget\u001b[0m\u001b[0;34m(\u001b[0m\u001b[0mitem\u001b[0m\u001b[0;34m)\u001b[0m\u001b[0;34m\u001b[0m\u001b[0m\n\u001b[0m\u001b[1;32m   1646\u001b[0m             \u001b[0mres\u001b[0m \u001b[0;34m=\u001b[0m \u001b[0mself\u001b[0m\u001b[0;34m.\u001b[0m\u001b[0m_box_item_values\u001b[0m\u001b[0;34m(\u001b[0m\u001b[0mitem\u001b[0m\u001b[0;34m,\u001b[0m \u001b[0mvalues\u001b[0m\u001b[0;34m)\u001b[0m\u001b[0;34m\u001b[0m\u001b[0m\n\u001b[1;32m   1647\u001b[0m             \u001b[0mcache\u001b[0m\u001b[0;34m[\u001b[0m\u001b[0mitem\u001b[0m\u001b[0;34m]\u001b[0m \u001b[0;34m=\u001b[0m \u001b[0mres\u001b[0m\u001b[0;34m\u001b[0m\u001b[0m\n",
      "\u001b[0;32m~/anaconda3/lib/python3.6/site-packages/pandas/core/internals.py\u001b[0m in \u001b[0;36mget\u001b[0;34m(self, item, fastpath)\u001b[0m\n\u001b[1;32m   3588\u001b[0m \u001b[0;34m\u001b[0m\u001b[0m\n\u001b[1;32m   3589\u001b[0m             \u001b[0;32mif\u001b[0m \u001b[0;32mnot\u001b[0m \u001b[0misnull\u001b[0m\u001b[0;34m(\u001b[0m\u001b[0mitem\u001b[0m\u001b[0;34m)\u001b[0m\u001b[0;34m:\u001b[0m\u001b[0;34m\u001b[0m\u001b[0m\n\u001b[0;32m-> 3590\u001b[0;31m                 \u001b[0mloc\u001b[0m \u001b[0;34m=\u001b[0m \u001b[0mself\u001b[0m\u001b[0;34m.\u001b[0m\u001b[0mitems\u001b[0m\u001b[0;34m.\u001b[0m\u001b[0mget_loc\u001b[0m\u001b[0;34m(\u001b[0m\u001b[0mitem\u001b[0m\u001b[0;34m)\u001b[0m\u001b[0;34m\u001b[0m\u001b[0m\n\u001b[0m\u001b[1;32m   3591\u001b[0m             \u001b[0;32melse\u001b[0m\u001b[0;34m:\u001b[0m\u001b[0;34m\u001b[0m\u001b[0m\n\u001b[1;32m   3592\u001b[0m                 \u001b[0mindexer\u001b[0m \u001b[0;34m=\u001b[0m \u001b[0mnp\u001b[0m\u001b[0;34m.\u001b[0m\u001b[0marange\u001b[0m\u001b[0;34m(\u001b[0m\u001b[0mlen\u001b[0m\u001b[0;34m(\u001b[0m\u001b[0mself\u001b[0m\u001b[0;34m.\u001b[0m\u001b[0mitems\u001b[0m\u001b[0;34m)\u001b[0m\u001b[0;34m)\u001b[0m\u001b[0;34m[\u001b[0m\u001b[0misnull\u001b[0m\u001b[0;34m(\u001b[0m\u001b[0mself\u001b[0m\u001b[0;34m.\u001b[0m\u001b[0mitems\u001b[0m\u001b[0;34m)\u001b[0m\u001b[0;34m]\u001b[0m\u001b[0;34m\u001b[0m\u001b[0m\n",
      "\u001b[0;32m~/anaconda3/lib/python3.6/site-packages/pandas/core/indexes/base.py\u001b[0m in \u001b[0;36mget_loc\u001b[0;34m(self, key, method, tolerance)\u001b[0m\n\u001b[1;32m   2442\u001b[0m                 \u001b[0;32mreturn\u001b[0m \u001b[0mself\u001b[0m\u001b[0;34m.\u001b[0m\u001b[0m_engine\u001b[0m\u001b[0;34m.\u001b[0m\u001b[0mget_loc\u001b[0m\u001b[0;34m(\u001b[0m\u001b[0mkey\u001b[0m\u001b[0;34m)\u001b[0m\u001b[0;34m\u001b[0m\u001b[0m\n\u001b[1;32m   2443\u001b[0m             \u001b[0;32mexcept\u001b[0m \u001b[0mKeyError\u001b[0m\u001b[0;34m:\u001b[0m\u001b[0;34m\u001b[0m\u001b[0m\n\u001b[0;32m-> 2444\u001b[0;31m                 \u001b[0;32mreturn\u001b[0m \u001b[0mself\u001b[0m\u001b[0;34m.\u001b[0m\u001b[0m_engine\u001b[0m\u001b[0;34m.\u001b[0m\u001b[0mget_loc\u001b[0m\u001b[0;34m(\u001b[0m\u001b[0mself\u001b[0m\u001b[0;34m.\u001b[0m\u001b[0m_maybe_cast_indexer\u001b[0m\u001b[0;34m(\u001b[0m\u001b[0mkey\u001b[0m\u001b[0;34m)\u001b[0m\u001b[0;34m)\u001b[0m\u001b[0;34m\u001b[0m\u001b[0m\n\u001b[0m\u001b[1;32m   2445\u001b[0m \u001b[0;34m\u001b[0m\u001b[0m\n\u001b[1;32m   2446\u001b[0m         \u001b[0mindexer\u001b[0m \u001b[0;34m=\u001b[0m \u001b[0mself\u001b[0m\u001b[0;34m.\u001b[0m\u001b[0mget_indexer\u001b[0m\u001b[0;34m(\u001b[0m\u001b[0;34m[\u001b[0m\u001b[0mkey\u001b[0m\u001b[0;34m]\u001b[0m\u001b[0;34m,\u001b[0m \u001b[0mmethod\u001b[0m\u001b[0;34m=\u001b[0m\u001b[0mmethod\u001b[0m\u001b[0;34m,\u001b[0m \u001b[0mtolerance\u001b[0m\u001b[0;34m=\u001b[0m\u001b[0mtolerance\u001b[0m\u001b[0;34m)\u001b[0m\u001b[0;34m\u001b[0m\u001b[0m\n",
      "\u001b[0;32mpandas/_libs/index.pyx\u001b[0m in \u001b[0;36mpandas._libs.index.IndexEngine.get_loc\u001b[0;34m()\u001b[0m\n",
      "\u001b[0;32mpandas/_libs/index.pyx\u001b[0m in \u001b[0;36mpandas._libs.index.IndexEngine.get_loc\u001b[0;34m()\u001b[0m\n",
      "\u001b[0;32mpandas/_libs/hashtable_class_helper.pxi\u001b[0m in \u001b[0;36mpandas._libs.hashtable.PyObjectHashTable.get_item\u001b[0;34m()\u001b[0m\n",
      "\u001b[0;32mpandas/_libs/hashtable_class_helper.pxi\u001b[0m in \u001b[0;36mpandas._libs.hashtable.PyObjectHashTable.get_item\u001b[0;34m()\u001b[0m\n",
      "\u001b[0;31mKeyError\u001b[0m: 'country_destination'"
     ]
    }
   ],
   "source": [
    "df_dummified_y = model_data_v3['country_destination']\n",
    "model_data_x_dummy_prep=model_data_v3.drop([\"country_destination\",\"Unnamed: 0\",'id'], axis=1)"
   ]
  },
  {
   "cell_type": "markdown",
   "metadata": {},
   "source": [
    "### Dimmify Features (one hot encoder) "
   ]
  },
  {
   "cell_type": "code",
   "execution_count": null,
   "metadata": {
    "ExecuteTime": {
     "end_time": "2018-05-21T20:01:14.328814Z",
     "start_time": "2018-05-21T20:01:13.204Z"
    },
    "collapsed": true
   },
   "outputs": [],
   "source": [
    "df_dummified_x = pd.get_dummies(\n",
    "    model_data_x_dummy_prep,\n",
    "    columns=['Age_Over40', 'Age_31-39',\n",
    "       'Age_Under31', 'Age_unknown', 'Month_account_created','gender', 'signup_method', 'signup_flow',\n",
    "       'language', 'affiliate_channel', 'affiliate_provider',\n",
    "       'first_affiliate_tracked', 'signup_app', 'first_device_type',\n",
    "       'first_browser'\n",
    "],\n",
    "    drop_first=True)"
   ]
  },
  {
   "cell_type": "code",
   "execution_count": null,
   "metadata": {
    "ExecuteTime": {
     "end_time": "2018-05-21T19:59:43.741468Z",
     "start_time": "2018-05-21T19:59:43.734901Z"
    }
   },
   "outputs": [],
   "source": []
  },
  {
   "cell_type": "markdown",
   "metadata": {},
   "source": [
    "### Update Syntax so model is classified as bivariate. "
   ]
  },
  {
   "cell_type": "code",
   "execution_count": 30,
   "metadata": {
    "ExecuteTime": {
     "end_time": "2018-05-21T20:01:14.522919Z",
     "start_time": "2018-05-21T20:01:14.492675Z"
    },
    "collapsed": true
   },
   "outputs": [],
   "source": [
    "df_dummified_y_2=df_dummified_y.replace({'other':0,'US':1})"
   ]
  },
  {
   "cell_type": "code",
   "execution_count": 31,
   "metadata": {
    "ExecuteTime": {
     "end_time": "2018-05-21T20:01:15.699777Z",
     "start_time": "2018-05-21T20:01:15.683017Z"
    }
   },
   "outputs": [
    {
     "data": {
      "text/plain": [
       "[0, 1]"
      ]
     },
     "execution_count": 31,
     "metadata": {},
     "output_type": "execute_result"
    }
   ],
   "source": [
    "list_col=[i for i in df_dummified_y_2.values]\n",
    "list_col2=list(set(list_col))\n",
    "list_col2"
   ]
  },
  {
   "cell_type": "markdown",
   "metadata": {},
   "source": [
    "### Split into Train and Test"
   ]
  },
  {
   "cell_type": "code",
   "execution_count": 32,
   "metadata": {
    "ExecuteTime": {
     "end_time": "2018-05-21T20:01:16.976141Z",
     "start_time": "2018-05-21T20:01:16.812871Z"
    }
   },
   "outputs": [
    {
     "data": {
      "text/plain": [
       "51670"
      ]
     },
     "execution_count": 32,
     "metadata": {},
     "output_type": "execute_result"
    }
   ],
   "source": [
    "\n",
    "X_train, X_test, y_train, y_test = model_selection.train_test_split(df_dummified_x, df_dummified_y_2, test_size=0.3, stratify=df_dummified_y,)\n",
    "X_trained_notscaled=X_train.copy()\n",
    "len(y_train)"
   ]
  },
  {
   "cell_type": "markdown",
   "metadata": {},
   "source": [
    "### Smote to fix class imbalance"
   ]
  },
  {
   "cell_type": "code",
   "execution_count": 33,
   "metadata": {
    "ExecuteTime": {
     "end_time": "2018-05-21T20:01:18.308160Z",
     "start_time": "2018-05-21T20:01:18.303649Z"
    },
    "collapsed": true
   },
   "outputs": [],
   "source": [
    "from collections import Counter\n",
    "from sklearn.datasets import make_classification\n",
    "from imblearn.over_sampling import SMOTE \n"
   ]
  },
  {
   "cell_type": "code",
   "execution_count": 34,
   "metadata": {
    "ExecuteTime": {
     "end_time": "2018-05-21T20:01:19.879442Z",
     "start_time": "2018-05-21T20:01:19.400705Z"
    }
   },
   "outputs": [
    {
     "ename": "ValueError",
     "evalue": "could not convert string to float: '6qsgq2o749'",
     "output_type": "error",
     "traceback": [
      "\u001b[0;31m---------------------------------------------------------------------------\u001b[0m",
      "\u001b[0;31mValueError\u001b[0m                                Traceback (most recent call last)",
      "\u001b[0;32m<ipython-input-34-a3644de01556>\u001b[0m in \u001b[0;36m<module>\u001b[0;34m()\u001b[0m\n\u001b[1;32m      1\u001b[0m \u001b[0msm\u001b[0m \u001b[0;34m=\u001b[0m \u001b[0mSMOTE\u001b[0m\u001b[0;34m(\u001b[0m\u001b[0mrandom_state\u001b[0m\u001b[0;34m=\u001b[0m\u001b[0;36m42\u001b[0m\u001b[0;34m)\u001b[0m\u001b[0;34m\u001b[0m\u001b[0m\n\u001b[0;32m----> 2\u001b[0;31m \u001b[0mX_smote\u001b[0m\u001b[0;34m,\u001b[0m \u001b[0my_smote\u001b[0m \u001b[0;34m=\u001b[0m \u001b[0msm\u001b[0m\u001b[0;34m.\u001b[0m\u001b[0mfit_sample\u001b[0m\u001b[0;34m(\u001b[0m\u001b[0mX_train\u001b[0m\u001b[0;34m,\u001b[0m \u001b[0my_train\u001b[0m\u001b[0;34m)\u001b[0m\u001b[0;34m\u001b[0m\u001b[0m\n\u001b[0m\u001b[1;32m      3\u001b[0m \u001b[0;34m\u001b[0m\u001b[0m\n\u001b[1;32m      4\u001b[0m \u001b[0mXy_smote\u001b[0m\u001b[0;34m=\u001b[0m\u001b[0mX_smote\u001b[0m\u001b[0;34m,\u001b[0m\u001b[0mX_smote\u001b[0m\u001b[0;34m\u001b[0m\u001b[0m\n",
      "\u001b[0;32m~/anaconda3/lib/python3.6/site-packages/imblearn/base.py\u001b[0m in \u001b[0;36mfit_sample\u001b[0;34m(self, X, y)\u001b[0m\n\u001b[1;32m     86\u001b[0m         \"\"\"\n\u001b[1;32m     87\u001b[0m \u001b[0;34m\u001b[0m\u001b[0m\n\u001b[0;32m---> 88\u001b[0;31m         \u001b[0;32mreturn\u001b[0m \u001b[0mself\u001b[0m\u001b[0;34m.\u001b[0m\u001b[0mfit\u001b[0m\u001b[0;34m(\u001b[0m\u001b[0mX\u001b[0m\u001b[0;34m,\u001b[0m \u001b[0my\u001b[0m\u001b[0;34m)\u001b[0m\u001b[0;34m.\u001b[0m\u001b[0msample\u001b[0m\u001b[0;34m(\u001b[0m\u001b[0mX\u001b[0m\u001b[0;34m,\u001b[0m \u001b[0my\u001b[0m\u001b[0;34m)\u001b[0m\u001b[0;34m\u001b[0m\u001b[0m\n\u001b[0m\u001b[1;32m     89\u001b[0m \u001b[0;34m\u001b[0m\u001b[0m\n\u001b[1;32m     90\u001b[0m     \u001b[0;34m@\u001b[0m\u001b[0mabstractmethod\u001b[0m\u001b[0;34m\u001b[0m\u001b[0m\n",
      "\u001b[0;32m~/anaconda3/lib/python3.6/site-packages/imblearn/base.py\u001b[0m in \u001b[0;36mfit\u001b[0;34m(self, X, y)\u001b[0m\n\u001b[1;32m    155\u001b[0m \u001b[0;34m\u001b[0m\u001b[0m\n\u001b[1;32m    156\u001b[0m         \"\"\"\n\u001b[0;32m--> 157\u001b[0;31m         \u001b[0mX\u001b[0m\u001b[0;34m,\u001b[0m \u001b[0my\u001b[0m \u001b[0;34m=\u001b[0m \u001b[0mcheck_X_y\u001b[0m\u001b[0;34m(\u001b[0m\u001b[0mX\u001b[0m\u001b[0;34m,\u001b[0m \u001b[0my\u001b[0m\u001b[0;34m,\u001b[0m \u001b[0maccept_sparse\u001b[0m\u001b[0;34m=\u001b[0m\u001b[0;34m[\u001b[0m\u001b[0;34m'csr'\u001b[0m\u001b[0;34m,\u001b[0m \u001b[0;34m'csc'\u001b[0m\u001b[0;34m]\u001b[0m\u001b[0;34m)\u001b[0m\u001b[0;34m\u001b[0m\u001b[0m\n\u001b[0m\u001b[1;32m    158\u001b[0m         \u001b[0my\u001b[0m \u001b[0;34m=\u001b[0m \u001b[0mcheck_target_type\u001b[0m\u001b[0;34m(\u001b[0m\u001b[0my\u001b[0m\u001b[0;34m)\u001b[0m\u001b[0;34m\u001b[0m\u001b[0m\n\u001b[1;32m    159\u001b[0m         \u001b[0mself\u001b[0m\u001b[0;34m.\u001b[0m\u001b[0mX_hash_\u001b[0m\u001b[0;34m,\u001b[0m \u001b[0mself\u001b[0m\u001b[0;34m.\u001b[0m\u001b[0my_hash_\u001b[0m \u001b[0;34m=\u001b[0m \u001b[0mhash_X_y\u001b[0m\u001b[0;34m(\u001b[0m\u001b[0mX\u001b[0m\u001b[0;34m,\u001b[0m \u001b[0my\u001b[0m\u001b[0;34m)\u001b[0m\u001b[0;34m\u001b[0m\u001b[0m\n",
      "\u001b[0;32m~/anaconda3/lib/python3.6/site-packages/sklearn/utils/validation.py\u001b[0m in \u001b[0;36mcheck_X_y\u001b[0;34m(X, y, accept_sparse, dtype, order, copy, force_all_finite, ensure_2d, allow_nd, multi_output, ensure_min_samples, ensure_min_features, y_numeric, warn_on_dtype, estimator)\u001b[0m\n\u001b[1;32m    571\u001b[0m     X = check_array(X, accept_sparse, dtype, order, copy, force_all_finite,\n\u001b[1;32m    572\u001b[0m                     \u001b[0mensure_2d\u001b[0m\u001b[0;34m,\u001b[0m \u001b[0mallow_nd\u001b[0m\u001b[0;34m,\u001b[0m \u001b[0mensure_min_samples\u001b[0m\u001b[0;34m,\u001b[0m\u001b[0;34m\u001b[0m\u001b[0m\n\u001b[0;32m--> 573\u001b[0;31m                     ensure_min_features, warn_on_dtype, estimator)\n\u001b[0m\u001b[1;32m    574\u001b[0m     \u001b[0;32mif\u001b[0m \u001b[0mmulti_output\u001b[0m\u001b[0;34m:\u001b[0m\u001b[0;34m\u001b[0m\u001b[0m\n\u001b[1;32m    575\u001b[0m         y = check_array(y, 'csr', force_all_finite=True, ensure_2d=False,\n",
      "\u001b[0;32m~/anaconda3/lib/python3.6/site-packages/sklearn/utils/validation.py\u001b[0m in \u001b[0;36mcheck_array\u001b[0;34m(array, accept_sparse, dtype, order, copy, force_all_finite, ensure_2d, allow_nd, ensure_min_samples, ensure_min_features, warn_on_dtype, estimator)\u001b[0m\n\u001b[1;32m    446\u001b[0m         \u001b[0;31m# make sure we actually converted to numeric:\u001b[0m\u001b[0;34m\u001b[0m\u001b[0;34m\u001b[0m\u001b[0m\n\u001b[1;32m    447\u001b[0m         \u001b[0;32mif\u001b[0m \u001b[0mdtype_numeric\u001b[0m \u001b[0;32mand\u001b[0m \u001b[0marray\u001b[0m\u001b[0;34m.\u001b[0m\u001b[0mdtype\u001b[0m\u001b[0;34m.\u001b[0m\u001b[0mkind\u001b[0m \u001b[0;34m==\u001b[0m \u001b[0;34m\"O\"\u001b[0m\u001b[0;34m:\u001b[0m\u001b[0;34m\u001b[0m\u001b[0m\n\u001b[0;32m--> 448\u001b[0;31m             \u001b[0marray\u001b[0m \u001b[0;34m=\u001b[0m \u001b[0marray\u001b[0m\u001b[0;34m.\u001b[0m\u001b[0mastype\u001b[0m\u001b[0;34m(\u001b[0m\u001b[0mnp\u001b[0m\u001b[0;34m.\u001b[0m\u001b[0mfloat64\u001b[0m\u001b[0;34m)\u001b[0m\u001b[0;34m\u001b[0m\u001b[0m\n\u001b[0m\u001b[1;32m    449\u001b[0m         \u001b[0;32mif\u001b[0m \u001b[0;32mnot\u001b[0m \u001b[0mallow_nd\u001b[0m \u001b[0;32mand\u001b[0m \u001b[0marray\u001b[0m\u001b[0;34m.\u001b[0m\u001b[0mndim\u001b[0m \u001b[0;34m>=\u001b[0m \u001b[0;36m3\u001b[0m\u001b[0;34m:\u001b[0m\u001b[0;34m\u001b[0m\u001b[0m\n\u001b[1;32m    450\u001b[0m             raise ValueError(\"Found array with dim %d. %s expected <= 2.\"\n",
      "\u001b[0;31mValueError\u001b[0m: could not convert string to float: '6qsgq2o749'"
     ]
    }
   ],
   "source": [
    "sm = SMOTE(random_state=42)\n",
    "X_smote, y_smote = sm.fit_sample(X_train, y_train)\n",
    "\n",
    "Xy_smote=X_smote,X_smote"
   ]
  },
  {
   "cell_type": "code",
   "execution_count": null,
   "metadata": {
    "ExecuteTime": {
     "end_time": "2018-05-21T20:01:19.882192Z",
     "start_time": "2018-05-21T20:01:18.796Z"
    }
   },
   "outputs": [],
   "source": [
    "len(y_smote)"
   ]
  },
  {
   "cell_type": "markdown",
   "metadata": {},
   "source": [
    "### Scale the Train and Dataset for LR"
   ]
  },
  {
   "cell_type": "code",
   "execution_count": null,
   "metadata": {
    "ExecuteTime": {
     "end_time": "2018-05-21T19:58:44.790661Z",
     "start_time": "2018-05-21T19:58:44.786Z"
    }
   },
   "outputs": [],
   "source": [
    "from sklearn.preprocessing import StandardScaler\n",
    "scaler = StandardScaler()\n",
    "X_smote = scaler.fit_transform(X_smote)\n",
    "X_test = scaler.transform(X_test)\n",
    "len(X_smote)"
   ]
  },
  {
   "cell_type": "markdown",
   "metadata": {},
   "source": [
    "### Tuple For Easy Reference"
   ]
  },
  {
   "cell_type": "code",
   "execution_count": 12,
   "metadata": {
    "ExecuteTime": {
     "end_time": "2018-05-21T19:58:45.737554Z",
     "start_time": "2018-05-21T19:58:45.734110Z"
    },
    "collapsed": true
   },
   "outputs": [],
   "source": [
    "skip_size = 10 # skip every n examples"
   ]
  },
  {
   "cell_type": "code",
   "execution_count": 13,
   "metadata": {
    "ExecuteTime": {
     "end_time": "2018-05-21T19:58:46.593432Z",
     "start_time": "2018-05-21T19:58:46.575779Z"
    }
   },
   "outputs": [
    {
     "ename": "NameError",
     "evalue": "name 'X_smote' is not defined",
     "output_type": "error",
     "traceback": [
      "\u001b[0;31m---------------------------------------------------------------------------\u001b[0m",
      "\u001b[0;31mNameError\u001b[0m                                 Traceback (most recent call last)",
      "\u001b[0;32m<ipython-input-13-312be8d38c70>\u001b[0m in \u001b[0;36m<module>\u001b[0;34m()\u001b[0m\n\u001b[1;32m      8\u001b[0m \u001b[0mXy_test_skip\u001b[0m\u001b[0;34m=\u001b[0m\u001b[0mX_test\u001b[0m\u001b[0;34m[\u001b[0m\u001b[0;34m:\u001b[0m\u001b[0;34m:\u001b[0m\u001b[0mskip_size\u001b[0m\u001b[0;34m]\u001b[0m\u001b[0;34m,\u001b[0m\u001b[0my_test\u001b[0m\u001b[0;34m[\u001b[0m\u001b[0;34m:\u001b[0m\u001b[0;34m:\u001b[0m\u001b[0mskip_size\u001b[0m\u001b[0;34m]\u001b[0m\u001b[0;34m\u001b[0m\u001b[0m\n\u001b[1;32m      9\u001b[0m \u001b[0;34m\u001b[0m\u001b[0m\n\u001b[0;32m---> 10\u001b[0;31m \u001b[0mX_smote_skip\u001b[0m\u001b[0;34m=\u001b[0m\u001b[0mX_smote\u001b[0m\u001b[0;34m[\u001b[0m\u001b[0;34m:\u001b[0m\u001b[0;34m:\u001b[0m\u001b[0mskip_size\u001b[0m\u001b[0;34m]\u001b[0m\u001b[0;34m\u001b[0m\u001b[0m\n\u001b[0m\u001b[1;32m     11\u001b[0m \u001b[0my_smote_skip\u001b[0m\u001b[0;34m=\u001b[0m\u001b[0my_smote\u001b[0m\u001b[0;34m[\u001b[0m\u001b[0;34m:\u001b[0m\u001b[0;34m:\u001b[0m\u001b[0mskip_size\u001b[0m\u001b[0;34m]\u001b[0m\u001b[0;34m\u001b[0m\u001b[0m\n\u001b[1;32m     12\u001b[0m \u001b[0mXy_smote_skip\u001b[0m\u001b[0;34m=\u001b[0m\u001b[0mXy_smote\u001b[0m\u001b[0;34m[\u001b[0m\u001b[0;34m:\u001b[0m\u001b[0;34m:\u001b[0m\u001b[0mskip_size\u001b[0m\u001b[0;34m]\u001b[0m\u001b[0;34m\u001b[0m\u001b[0m\n",
      "\u001b[0;31mNameError\u001b[0m: name 'X_smote' is not defined"
     ]
    }
   ],
   "source": [
    "Xy_train=X_train,y_train\n",
    "Xy_train_skip=X_train[::skip_size],y_train[::skip_size]\n",
    "\n",
    "X_train_skip=X_train[::skip_size]\n",
    "y_train_skip=y_train[::skip_size]\n",
    "\n",
    "Xy_test=X_test,y_test\n",
    "Xy_test_skip=X_test[::skip_size],y_test[::skip_size]\n",
    "\n",
    "X_smote_skip=X_smote[::skip_size]\n",
    "y_smote_skip=y_smote[::skip_size]\n",
    "Xy_smote_skip=Xy_smote[::skip_size]\n",
    "\n",
    "len(y_train)"
   ]
  },
  {
   "cell_type": "markdown",
   "metadata": {},
   "source": [
    "### Functions Defined that will be used for analysis (Methods~)"
   ]
  },
  {
   "cell_type": "code",
   "execution_count": null,
   "metadata": {
    "ExecuteTime": {
     "end_time": "2018-05-21T19:58:46.595568Z",
     "start_time": "2018-05-21T19:58:46.529Z"
    },
    "collapsed": true
   },
   "outputs": [],
   "source": [
    "def classify(model,X_test,X_train,y_train):\n",
    "    \"\"\"predicts y first, classify, \"\"\"\n",
    "    y_pred = model.predict(X_test)\n",
    "    print(metrics.classification_report(y_test,y_pred))\n",
    "    print(model.score(*Xy_test))\n",
    "    print(metrics.confusion_matrix(y_test, y_pred))\n",
    "    \n",
    "\n",
    "def plot_roc_curve(model, x_test, y_test):\n",
    "\n",
    "    y_score=model.predict_proba(x_test)[:,1]\n",
    "\n",
    "    fpr, tpr,_ = roc_curve(y_test, y_score)\n",
    "    roc_auc = auc(fpr, tpr)\n",
    "\n",
    "    plt.figure()\n",
    "    # Plotting our Baseline..\n",
    "    plt.plot([0,1],[0,1])\n",
    "    plt.plot(fpr,tpr,color='green')\n",
    "    plt.xlabel('FPR')\n",
    "    plt.ylabel('TPR')\n",
    "    plt.title('ROC Curve (AUC = ' + str(roc_auc)+ ')')\n",
    "\n",
    "def analyze_coef(df_with_cols,model,num_points):\n",
    "    feat = df_with_cols.columns\n",
    "    coef = model.coef_.flatten()\n",
    "    sort_i = np.argsort(-np.abs(coef))\n",
    "\n",
    "\n",
    "    n_plot = num_points\n",
    "    ind = np.arange(n_plot)\n",
    "    plt.figure(figsize=(40,10))\n",
    "    plt.xticks(rotation=90)\n",
    "    plt.scatter(ind, coef[sort_i][:n_plot])\n",
    "    plt.xticks(ind, feat[sort_i][:n_plot], rotation=90);\n",
    "    plt.title(\"Top coefficients for CV-optimized lasso model\")\n",
    "    plt.ylabel(\"coefficient\");\n"
   ]
  },
  {
   "cell_type": "markdown",
   "metadata": {
    "ExecuteTime": {
     "end_time": "2018-05-07T01:26:45.027749Z",
     "start_time": "2018-05-07T01:26:44.802821Z"
    }
   },
   "source": [
    "### Establish Baseline"
   ]
  },
  {
   "cell_type": "code",
   "execution_count": 14,
   "metadata": {
    "ExecuteTime": {
     "end_time": "2018-05-21T19:58:47.088036Z",
     "start_time": "2018-05-21T19:58:47.084141Z"
    },
    "collapsed": true
   },
   "outputs": [],
   "source": [
    "# y_test.value_counts()/len(y_test)"
   ]
  },
  {
   "cell_type": "markdown",
   "metadata": {
    "ExecuteTime": {
     "end_time": "2018-05-04T20:05:29.764260Z",
     "start_time": "2018-05-04T20:05:29.724195Z"
    }
   },
   "source": [
    "### Put in Model (RandomForestClassifier) - Pending Grid Creation Model 1"
   ]
  },
  {
   "cell_type": "code",
   "execution_count": 15,
   "metadata": {
    "ExecuteTime": {
     "end_time": "2018-05-21T19:58:48.181493Z",
     "start_time": "2018-05-21T19:58:48.169415Z"
    }
   },
   "outputs": [
    {
     "ename": "NameError",
     "evalue": "name 'X_smote' is not defined",
     "output_type": "error",
     "traceback": [
      "\u001b[0;31m---------------------------------------------------------------------------\u001b[0m",
      "\u001b[0;31mNameError\u001b[0m                                 Traceback (most recent call last)",
      "\u001b[0;32m<ipython-input-15-ee5813a9fcd0>\u001b[0m in \u001b[0;36m<module>\u001b[0;34m()\u001b[0m\n\u001b[1;32m      1\u001b[0m \u001b[0mrfc\u001b[0m \u001b[0;34m=\u001b[0m \u001b[0mRandomForestClassifier\u001b[0m\u001b[0;34m(\u001b[0m\u001b[0mmax_depth\u001b[0m\u001b[0;34m=\u001b[0m\u001b[0;36m6.5\u001b[0m\u001b[0;34m,\u001b[0m\u001b[0mmin_samples_split\u001b[0m\u001b[0;34m=\u001b[0m\u001b[0;36m48\u001b[0m\u001b[0;34m,\u001b[0m\u001b[0mverbose\u001b[0m\u001b[0;34m=\u001b[0m\u001b[0;36m0\u001b[0m\u001b[0;34m,\u001b[0m\u001b[0mmax_features\u001b[0m\u001b[0;34m=\u001b[0m\u001b[0;36m60\u001b[0m\u001b[0;34m,\u001b[0m\u001b[0mclass_weight\u001b[0m\u001b[0;34m=\u001b[0m\u001b[0;34m'balanced'\u001b[0m\u001b[0;34m)\u001b[0m\u001b[0;34m\u001b[0m\u001b[0m\n\u001b[0;32m----> 2\u001b[0;31m \u001b[0mrfc\u001b[0m\u001b[0;34m.\u001b[0m\u001b[0mfit\u001b[0m\u001b[0;34m(\u001b[0m\u001b[0mX_smote\u001b[0m\u001b[0;34m,\u001b[0m\u001b[0my_smote\u001b[0m\u001b[0;34m)\u001b[0m\u001b[0;34m\u001b[0m\u001b[0m\n\u001b[0m\u001b[1;32m      3\u001b[0m \u001b[0mrfc\u001b[0m\u001b[0;34m.\u001b[0m\u001b[0mscore\u001b[0m\u001b[0;34m(\u001b[0m\u001b[0mX_test\u001b[0m\u001b[0;34m,\u001b[0m\u001b[0my_test\u001b[0m\u001b[0;34m)\u001b[0m\u001b[0;34m\u001b[0m\u001b[0m\n",
      "\u001b[0;31mNameError\u001b[0m: name 'X_smote' is not defined"
     ]
    }
   ],
   "source": [
    "rfc = RandomForestClassifier(max_depth=6.5,min_samples_split=48,verbose=0,max_features=60,class_weight='balanced')\n",
    "rfc.fit(X_smote,y_smote)\n",
    "rfc.score(X_test,y_test)"
   ]
  },
  {
   "cell_type": "code",
   "execution_count": null,
   "metadata": {
    "ExecuteTime": {
     "end_time": "2018-05-21T19:58:48.184222Z",
     "start_time": "2018-05-21T19:58:47.964Z"
    }
   },
   "outputs": [],
   "source": [
    "classify(rfc,X_test,X_smote,y_smote)"
   ]
  },
  {
   "cell_type": "code",
   "execution_count": 16,
   "metadata": {
    "ExecuteTime": {
     "end_time": "2018-05-21T19:58:48.516122Z",
     "start_time": "2018-05-21T19:58:48.503998Z"
    }
   },
   "outputs": [
    {
     "ename": "NameError",
     "evalue": "name 'plot_roc_curve' is not defined",
     "output_type": "error",
     "traceback": [
      "\u001b[0;31m---------------------------------------------------------------------------\u001b[0m",
      "\u001b[0;31mNameError\u001b[0m                                 Traceback (most recent call last)",
      "\u001b[0;32m<ipython-input-16-8fe7579ed7b3>\u001b[0m in \u001b[0;36m<module>\u001b[0;34m()\u001b[0m\n\u001b[0;32m----> 1\u001b[0;31m \u001b[0mplot_roc_curve\u001b[0m\u001b[0;34m(\u001b[0m\u001b[0mrfc\u001b[0m\u001b[0;34m,\u001b[0m\u001b[0mX_test\u001b[0m\u001b[0;34m,\u001b[0m\u001b[0my_test\u001b[0m\u001b[0;34m)\u001b[0m\u001b[0;34m\u001b[0m\u001b[0m\n\u001b[0m",
      "\u001b[0;31mNameError\u001b[0m: name 'plot_roc_curve' is not defined"
     ]
    }
   ],
   "source": [
    "plot_roc_curve(rfc,X_test,y_test)"
   ]
  },
  {
   "cell_type": "markdown",
   "metadata": {},
   "source": [
    "### Model 2,3,4"
   ]
  },
  {
   "cell_type": "code",
   "execution_count": 54,
   "metadata": {
    "ExecuteTime": {
     "end_time": "2018-05-15T01:17:04.229646Z",
     "start_time": "2018-05-15T01:16:56.338898Z"
    },
    "scrolled": false
   },
   "outputs": [
    {
     "name": "stdout",
     "output_type": "stream",
     "text": [
      "LR: 0.656290 (0.123718)\n",
      "LDA: 0.293916 (0.178253)\n"
     ]
    },
    {
     "name": "stderr",
     "output_type": "stream",
     "text": [
      "/Users/honeybadger4/anaconda3/lib/python3.6/site-packages/sklearn/discriminant_analysis.py:388: UserWarning: Variables are collinear.\n",
      "  warnings.warn(\"Variables are collinear.\")\n",
      "/Users/honeybadger4/anaconda3/lib/python3.6/site-packages/sklearn/discriminant_analysis.py:388: UserWarning: Variables are collinear.\n",
      "  warnings.warn(\"Variables are collinear.\")\n"
     ]
    },
    {
     "name": "stdout",
     "output_type": "stream",
     "text": [
      "KNN: 0.432107 (0.041947)\n"
     ]
    },
    {
     "name": "stderr",
     "output_type": "stream",
     "text": [
      "/Users/honeybadger4/anaconda3/lib/python3.6/site-packages/sklearn/ensemble/forest.py:453: UserWarning: Some inputs do not have OOB scores. This probably means too few trees were used to compute any reliable oob estimates.\n",
      "  warn(\"Some inputs do not have OOB scores. \"\n",
      "/Users/honeybadger4/anaconda3/lib/python3.6/site-packages/sklearn/ensemble/forest.py:458: RuntimeWarning: invalid value encountered in true_divide\n",
      "  predictions[k].sum(axis=1)[:, np.newaxis])\n",
      "/Users/honeybadger4/anaconda3/lib/python3.6/site-packages/sklearn/ensemble/forest.py:453: UserWarning: Some inputs do not have OOB scores. This probably means too few trees were used to compute any reliable oob estimates.\n",
      "  warn(\"Some inputs do not have OOB scores. \"\n",
      "/Users/honeybadger4/anaconda3/lib/python3.6/site-packages/sklearn/ensemble/forest.py:458: RuntimeWarning: invalid value encountered in true_divide\n",
      "  predictions[k].sum(axis=1)[:, np.newaxis])\n"
     ]
    },
    {
     "name": "stdout",
     "output_type": "stream",
     "text": [
      "RFC: 0.505960 (0.047477)\n"
     ]
    },
    {
     "data": {
      "image/png": "[encoded data removed]",
      "text/plain": [
       "<matplotlib.figure.Figure at 0x1a185adc88>"
      ]
     },
     "metadata": {},
     "output_type": "display_data"
    }
   ],
   "source": [
    "seed = 7\n",
    "# prepare models\n",
    "models = []\n",
    "models.append(('LR', LogisticRegression(penalty='l2', class_weight='balanced')))\n",
    "models.append(('LDA', LinearDiscriminantAnalysis()))\n",
    "models.append(('KNN', KNeighborsClassifier()))\n",
    "# models.append(('SVM', SVC()))\n",
    "models.append(('RFC',\n",
    "               RandomForestClassifier(\n",
    "                   max_depth=6.5,\n",
    "                   min_samples_split=48,\n",
    "     \n",
    "                   max_features=60,\n",
    "                   oob_score=True)))\n",
    "#\n",
    "# evaluate each model in turn\n",
    "results = []\n",
    "names = []\n",
    "scoring = 'f1'\n",
    "for name, model in models:\n",
    "    kfold = model_selection.KFold(n_splits=2, random_state=seed)\n",
    "    cv_results = model_selection.cross_val_score(\n",
    "        model,\n",
    "        X_smote[::skip_size],y_smote[::skip_size],\n",
    "\n",
    "        cv=kfold,\n",
    "        scoring=scoring)\n",
    "    results.append(cv_results)\n",
    "    names.append(name)\n",
    "    msg = \"%s: %f (%f)\" % (name, cv_results.mean(), cv_results.std())\n",
    "    print(msg)\n",
    "# boxplot algorithm comparison\n",
    "fig = plt.figure()\n",
    "fig.suptitle('Algorithm Comparison')\n",
    "ax = fig.add_subplot(111)\n",
    "plt.boxplot(results)\n",
    "ax.set_xticklabels(names)\n",
    "plt.show()"
   ]
  },
  {
   "cell_type": "markdown",
   "metadata": {
    "ExecuteTime": {
     "end_time": "2018-05-11T01:36:44.340902Z",
     "start_time": "2018-05-11T01:36:44.337399Z"
    }
   },
   "source": [
    "### Model 5"
   ]
  },
  {
   "cell_type": "code",
   "execution_count": 67,
   "metadata": {
    "ExecuteTime": {
     "end_time": "2018-05-15T01:39:49.678246Z",
     "start_time": "2018-05-15T01:39:28.930319Z"
    }
   },
   "outputs": [
    {
     "name": "stdout",
     "output_type": "stream",
     "text": [
      "             precision    recall  f1-score   support\n",
      "\n",
      "          0       0.88      0.69      0.77     16116\n",
      "          1       0.47      0.74      0.58      6029\n",
      "\n",
      "avg / total       0.77      0.71      0.72     22145\n",
      "\n",
      "0.705034996613\n",
      "[[11150  4966]\n",
      " [ 1566  4463]]\n"
     ]
    }
   ],
   "source": [
    "logic_r_model=LogisticRegression(penalty='l2', class_weight='balanced')\n",
    "logic_r_model.fit(X_smote,y_smote)\n",
    "logic_r_model.score(X_test,y_test)\n",
    "classify(logic_r_model,X_test,X_smote,y_smote)"
   ]
  },
  {
   "cell_type": "code",
   "execution_count": 26,
   "metadata": {
    "ExecuteTime": {
     "end_time": "2018-05-14T23:44:47.318098Z",
     "start_time": "2018-05-14T23:44:46.948409Z"
    },
    "scrolled": true
   },
   "outputs": [
    {
     "data": {
      "image/png": "[encoded data removed]",
      "text/plain": [
       "<matplotlib.figure.Figure at 0x1035c2048>"
      ]
     },
     "metadata": {},
     "output_type": "display_data"
    }
   ],
   "source": [
    "analyze_coef(X_trained_notscaled,logic_r_model,30)"
   ]
  },
  {
   "cell_type": "code",
   "execution_count": 29,
   "metadata": {
    "ExecuteTime": {
     "end_time": "2018-05-14T23:50:51.629850Z",
     "start_time": "2018-05-14T23:50:51.621414Z"
    },
    "collapsed": true
   },
   "outputs": [],
   "source": [
    "y_score_pr_curve=logic_r_model.predict_proba(X_test)[:,1]"
   ]
  },
  {
   "cell_type": "code",
   "execution_count": 100,
   "metadata": {
    "ExecuteTime": {
     "end_time": "2018-05-15T13:00:54.620022Z",
     "start_time": "2018-05-15T13:00:54.489122Z"
    }
   },
   "outputs": [
    {
     "data": {
      "image/png": "[encoded data removed]",
      "text/plain": [
       "<matplotlib.figure.Figure at 0x1a0f59b438>"
      ]
     },
     "metadata": {},
     "output_type": "display_data"
    }
   ],
   "source": [
    "from  sklearn.metrics import precision_recall_curve\n",
    "p,r,t=precision_recall_curve(y_test,y_score_pr_curve)\n",
    "\n",
    "# adding last threshold of '1' to threshold list\n",
    "t=np.vstack([t.reshape([-1,1]),1])\n",
    "\n",
    "plt.plot(t,p)\n",
    "plt.plot(t,r);\n",
    "plt.grid()\n",
    "plt.title('Precision Recall Curve');"
   ]
  },
  {
   "cell_type": "code",
   "execution_count": 92,
   "metadata": {
    "ExecuteTime": {
     "end_time": "2018-05-15T01:49:26.714394Z",
     "start_time": "2018-05-15T01:49:26.710467Z"
    },
    "collapsed": true
   },
   "outputs": [],
   "source": [
    "param_grid2 = {\n",
    "    \"solver\": ['saga'],\n",
    "    \"multi_class\": ['ovr', 'multinomial']\n",
    "}\n"
   ]
  },
  {
   "cell_type": "code",
   "execution_count": 93,
   "metadata": {
    "ExecuteTime": {
     "end_time": "2018-05-15T01:49:27.592458Z",
     "start_time": "2018-05-15T01:49:27.584280Z"
    }
   },
   "outputs": [
    {
     "data": {
      "text/plain": [
       "dict_keys(['cv', 'error_score', 'estimator__C', 'estimator__class_weight', 'estimator__dual', 'estimator__fit_intercept', 'estimator__intercept_scaling', 'estimator__max_iter', 'estimator__multi_class', 'estimator__n_jobs', 'estimator__penalty', 'estimator__random_state', 'estimator__solver', 'estimator__tol', 'estimator__verbose', 'estimator__warm_start', 'estimator', 'fit_params', 'iid', 'n_jobs', 'param_grid', 'pre_dispatch', 'refit', 'return_train_score', 'scoring', 'verbose'])"
      ]
     },
     "execution_count": 93,
     "metadata": {},
     "output_type": "execute_result"
    }
   ],
   "source": [
    "rbf_grid2 = model_selection.GridSearchCV(\n",
    "    logic_r_model, param_grid2, cv=3,verbose=0, scoring='f1')\n",
    "\n",
    "rbf_grid2.get_params().keys()"
   ]
  },
  {
   "cell_type": "code",
   "execution_count": 94,
   "metadata": {
    "ExecuteTime": {
     "end_time": "2018-05-15T01:49:35.251463Z",
     "start_time": "2018-05-15T01:49:28.383127Z"
    }
   },
   "outputs": [
    {
     "name": "stderr",
     "output_type": "stream",
     "text": [
      "/Users/honeybadger4/anaconda3/lib/python3.6/site-packages/sklearn/linear_model/sag.py:326: ConvergenceWarning: The max_iter was reached which means the coef_ did not converge\n",
      "  \"the coef_ did not converge\", ConvergenceWarning)\n",
      "/Users/honeybadger4/anaconda3/lib/python3.6/site-packages/sklearn/linear_model/sag.py:326: ConvergenceWarning: The max_iter was reached which means the coef_ did not converge\n",
      "  \"the coef_ did not converge\", ConvergenceWarning)\n",
      "/Users/honeybadger4/anaconda3/lib/python3.6/site-packages/sklearn/linear_model/sag.py:326: ConvergenceWarning: The max_iter was reached which means the coef_ did not converge\n",
      "  \"the coef_ did not converge\", ConvergenceWarning)\n",
      "/Users/honeybadger4/anaconda3/lib/python3.6/site-packages/sklearn/linear_model/sag.py:326: ConvergenceWarning: The max_iter was reached which means the coef_ did not converge\n",
      "  \"the coef_ did not converge\", ConvergenceWarning)\n",
      "/Users/honeybadger4/anaconda3/lib/python3.6/site-packages/sklearn/linear_model/sag.py:326: ConvergenceWarning: The max_iter was reached which means the coef_ did not converge\n",
      "  \"the coef_ did not converge\", ConvergenceWarning)\n",
      "/Users/honeybadger4/anaconda3/lib/python3.6/site-packages/sklearn/linear_model/sag.py:326: ConvergenceWarning: The max_iter was reached which means the coef_ did not converge\n",
      "  \"the coef_ did not converge\", ConvergenceWarning)\n",
      "/Users/honeybadger4/anaconda3/lib/python3.6/site-packages/sklearn/linear_model/sag.py:326: ConvergenceWarning: The max_iter was reached which means the coef_ did not converge\n",
      "  \"the coef_ did not converge\", ConvergenceWarning)\n"
     ]
    },
    {
     "data": {
      "text/plain": [
       "GridSearchCV(cv=3, error_score='raise',\n",
       "       estimator=LogisticRegression(C=1.0, class_weight='balanced', dual=False,\n",
       "          fit_intercept=True, intercept_scaling=1, max_iter=100,\n",
       "          multi_class='ovr', n_jobs=1, penalty='l2', random_state=None,\n",
       "          solver='liblinear', tol=0.0001, verbose=0, warm_start=False),\n",
       "       fit_params=None, iid=True, n_jobs=1,\n",
       "       param_grid={'solver': ['saga'], 'multi_class': ['ovr', 'multinomial']},\n",
       "       pre_dispatch='2*n_jobs', refit=True, return_train_score='warn',\n",
       "       scoring='f1', verbose=0)"
      ]
     },
     "execution_count": 94,
     "metadata": {},
     "output_type": "execute_result"
    }
   ],
   "source": [
    "rbf_grid2.fit(X_smote_skip,y_smote_skip)\n"
   ]
  },
  {
   "cell_type": "code",
   "execution_count": 95,
   "metadata": {
    "ExecuteTime": {
     "end_time": "2018-05-15T01:49:36.081276Z",
     "start_time": "2018-05-15T01:49:36.061350Z"
    }
   },
   "outputs": [
    {
     "data": {
      "text/plain": [
       "0.72455479006889389"
      ]
     },
     "execution_count": 95,
     "metadata": {},
     "output_type": "execute_result"
    }
   ],
   "source": [
    "rbf_grid2.score(X_smote_skip,y_smote_skip)"
   ]
  },
  {
   "cell_type": "code",
   "execution_count": 96,
   "metadata": {
    "ExecuteTime": {
     "end_time": "2018-05-15T01:49:37.080844Z",
     "start_time": "2018-05-15T01:49:37.074101Z"
    }
   },
   "outputs": [
    {
     "data": {
      "text/plain": [
       "LogisticRegression(C=1.0, class_weight='balanced', dual=False,\n",
       "          fit_intercept=True, intercept_scaling=1, max_iter=100,\n",
       "          multi_class='ovr', n_jobs=1, penalty='l2', random_state=None,\n",
       "          solver='saga', tol=0.0001, verbose=0, warm_start=False)"
      ]
     },
     "execution_count": 96,
     "metadata": {},
     "output_type": "execute_result"
    }
   ],
   "source": [
    "new_model=rbf_grid2.best_estimator_\n",
    "rbf_grid2.best_estimator_"
   ]
  },
  {
   "cell_type": "code",
   "execution_count": 97,
   "metadata": {
    "ExecuteTime": {
     "end_time": "2018-05-15T01:49:39.211019Z",
     "start_time": "2018-05-15T01:49:38.039694Z"
    }
   },
   "outputs": [
    {
     "name": "stderr",
     "output_type": "stream",
     "text": [
      "/Users/honeybadger4/anaconda3/lib/python3.6/site-packages/sklearn/linear_model/sag.py:326: ConvergenceWarning: The max_iter was reached which means the coef_ did not converge\n",
      "  \"the coef_ did not converge\", ConvergenceWarning)\n"
     ]
    },
    {
     "data": {
      "text/plain": [
       "0.70002257846014904"
      ]
     },
     "execution_count": 97,
     "metadata": {},
     "output_type": "execute_result"
    }
   ],
   "source": [
    "new_model.fit(X_smote_skip,y_smote_skip)\n",
    "new_model.score(X_test,y_test)"
   ]
  },
  {
   "cell_type": "code",
   "execution_count": 98,
   "metadata": {
    "ExecuteTime": {
     "end_time": "2018-05-15T01:49:40.919683Z",
     "start_time": "2018-05-15T01:49:40.885748Z"
    }
   },
   "outputs": [
    {
     "name": "stdout",
     "output_type": "stream",
     "text": [
      "             precision    recall  f1-score   support\n",
      "\n",
      "          0       0.87      0.69      0.77     16116\n",
      "          1       0.47      0.74      0.57      6029\n",
      "\n",
      "avg / total       0.76      0.70      0.72     22145\n",
      "\n",
      "0.70002257846\n",
      "[[11054  5062]\n",
      " [ 1581  4448]]\n"
     ]
    }
   ],
   "source": [
    "classify(new_model,X_test,X_smote_skip,y_smote_skip)"
   ]
  },
  {
   "cell_type": "markdown",
   "metadata": {
    "ExecuteTime": {
     "end_time": "2018-05-15T13:35:28.701512Z",
     "start_time": "2018-05-15T13:35:28.698359Z"
    }
   },
   "source": [
    "### Predict Thrusolds. "
   ]
  },
  {
   "cell_type": "code",
   "execution_count": 203,
   "metadata": {
    "ExecuteTime": {
     "end_time": "2018-05-15T16:54:49.999069Z",
     "start_time": "2018-05-15T16:54:49.990773Z"
    },
    "collapsed": true
   },
   "outputs": [],
   "source": [
    "y_predict_proba=logic_r_model.predict_proba(X_test)[:,1]"
   ]
  },
  {
   "cell_type": "code",
   "execution_count": 204,
   "metadata": {
    "ExecuteTime": {
     "end_time": "2018-05-15T16:54:50.911829Z",
     "start_time": "2018-05-15T16:54:50.906889Z"
    }
   },
   "outputs": [
    {
     "data": {
      "text/plain": [
       "array([ True, False,  True, ..., False, False,  True], dtype=bool)"
      ]
     },
     "execution_count": 204,
     "metadata": {},
     "output_type": "execute_result"
    }
   ],
   "source": [
    "y_pred_threshold=y_predict_proba > .55\n",
    "y_pred_threshold"
   ]
  },
  {
   "cell_type": "code",
   "execution_count": 205,
   "metadata": {
    "ExecuteTime": {
     "end_time": "2018-05-15T16:54:51.729475Z",
     "start_time": "2018-05-15T16:54:51.676790Z"
    }
   },
   "outputs": [
    {
     "name": "stdout",
     "output_type": "stream",
     "text": [
      "[[11958  4158]\n",
      " [ 1952  4077]]\n"
     ]
    }
   ],
   "source": [
    "t=metrics.confusion_matrix(y_test,y_pred_threshold) \n",
    "print(t)\n"
   ]
  },
  {
   "cell_type": "code",
   "execution_count": 206,
   "metadata": {
    "ExecuteTime": {
     "end_time": "2018-05-15T16:54:52.677277Z",
     "start_time": "2018-05-15T16:54:52.495041Z"
    }
   },
   "outputs": [
    {
     "name": "stdout",
     "output_type": "stream",
     "text": [
      "Confusion matrix, without normalization\n",
      "[[11958  4158]\n",
      " [ 1952  4077]]\n"
     ]
    },
    {
     "data": {
      "image/png": "[encoded data removed]",
      "text/plain": [
       "<matplotlib.figure.Figure at 0x1a18411c50>"
      ]
     },
     "metadata": {},
     "output_type": "display_data"
    }
   ],
   "source": [
    "import itertools\n",
    "def plot_confusion_matrix(cm, classes,\n",
    "                          normalize=False,\n",
    "                          title='Confusion matrix',\n",
    "                          cmap=plt.cm.Blues):\n",
    "    \"\"\"\n",
    "    This function prints and plots the confusion matrix.\n",
    "    Normalization can be applied by setting `normalize=True`.\n",
    "    \"\"\"\n",
    "    if normalize:\n",
    "        cm = cm.astype('float') / cm.sum(axis=1)[:, np.newaxis]\n",
    "        print(\"Normalized confusion matrix\")\n",
    "    else:\n",
    "        print('Confusion matrix, without normalization')\n",
    "\n",
    "    print(cm)\n",
    "\n",
    "    plt.imshow(cm, interpolation='nearest', cmap=cmap)\n",
    "    plt.title(title)\n",
    "    plt.colorbar()\n",
    "    tick_marks = np.arange(len(classes))\n",
    "    plt.xticks(tick_marks, classes, rotation=45)\n",
    "    plt.yticks(tick_marks, classes)\n",
    "\n",
    "    fmt = '.2f' if normalize else 'd'\n",
    "    thresh = cm.max() / 2.\n",
    "    for i, j in itertools.product(range(cm.shape[0]), range(cm.shape[1])):\n",
    "        plt.text(j, i, format(cm[i, j], fmt),\n",
    "                 horizontalalignment=\"center\",\n",
    "                 color=\"white\" if cm[i, j] > thresh else \"black\")\n",
    "\n",
    "    plt.tight_layout()\n",
    "    plt.ylabel('True label')\n",
    "    plt.xlabel('Predicted label')\n",
    "    \n",
    "plot_confusion_matrix(t,[0,1])"
   ]
  },
  {
   "cell_type": "code",
   "execution_count": 207,
   "metadata": {
    "ExecuteTime": {
     "end_time": "2018-05-15T16:54:53.512118Z",
     "start_time": "2018-05-15T16:54:53.501610Z"
    }
   },
   "outputs": [
    {
     "name": "stdout",
     "output_type": "stream",
     "text": [
      "             precision    recall  f1-score   support\n",
      "\n",
      "          0       0.86      0.74      0.80     16116\n",
      "          1       0.50      0.68      0.57      6029\n",
      "\n",
      "avg / total       0.76      0.72      0.74     22145\n",
      "\n"
     ]
    }
   ],
   "source": [
    "print(metrics.classification_report(y_test,y_pred_threshold))"
   ]
  },
  {
   "cell_type": "code",
   "execution_count": null,
   "metadata": {
    "ExecuteTime": {
     "end_time": "2018-05-15T16:40:53.089049Z",
     "start_time": "2018-05-15T16:40:53.025074Z"
    },
    "collapsed": true
   },
   "outputs": [],
   "source": []
  },
  {
   "cell_type": "code",
   "execution_count": null,
   "metadata": {
    "collapsed": true
   },
   "outputs": [],
   "source": []
  },
  {
   "cell_type": "markdown",
   "metadata": {
    "heading_collapsed": true
   },
   "source": [
    "### Model 6 SVM!!"
   ]
  },
  {
   "cell_type": "code",
   "execution_count": 25,
   "metadata": {
    "ExecuteTime": {
     "end_time": "2018-05-11T16:58:14.979550Z",
     "start_time": "2018-05-11T16:58:11.092810Z"
    },
    "hidden": true
   },
   "outputs": [
    {
     "name": "stdout",
     "output_type": "stream",
     "text": [
      "             precision    recall  f1-score   support\n",
      "\n",
      "          0       0.87      0.69      0.77     16116\n",
      "          1       0.47      0.72      0.57      6029\n",
      "\n",
      "avg / total       0.76      0.70      0.72     22145\n",
      "\n",
      "0.7005193045834274\n",
      "[[11178  4938]\n",
      " [ 1694  4335]]\n"
     ]
    }
   ],
   "source": [
    "# from sklearn.svm import LinearSVC\n",
    "# model_svm4 = LinearSVC()\n",
    "# model_svm4.fit(X_smote_skip,y_smote_skip)\n",
    "# classify(model_svm4,X_test,X_smote_skip,y_smote_skip)"
   ]
  },
  {
   "cell_type": "code",
   "execution_count": 26,
   "metadata": {
    "ExecuteTime": {
     "end_time": "2018-05-11T16:59:20.284286Z",
     "start_time": "2018-05-11T16:58:15.630130Z"
    },
    "hidden": true
   },
   "outputs": [
    {
     "name": "stdout",
     "output_type": "stream",
     "text": [
      "             precision    recall  f1-score   support\n",
      "\n",
      "          0       0.86      0.74      0.80     16116\n",
      "          1       0.49      0.67      0.57      6029\n",
      "\n",
      "avg / total       0.76      0.72      0.73     22145\n",
      "\n",
      "0.7222849401670806\n",
      "[[11961  4155]\n",
      " [ 1995  4034]]\n"
     ]
    }
   ],
   "source": [
    "# from sklearn.svm import SVC\n",
    "# rbf_svm = SVC(kernel='rbf',class_weight=\"balanced\")\n",
    "# rbf_svm.fit(X_smote_skip,y_smote_skip)\n",
    "# classify(rbf_svm,X_test,X_smote_skip,y_smote_skip)"
   ]
  },
  {
   "cell_type": "code",
   "execution_count": 44,
   "metadata": {
    "ExecuteTime": {
     "end_time": "2018-05-15T00:00:39.461124Z",
     "start_time": "2018-05-15T00:00:39.457686Z"
    },
    "collapsed": true,
    "hidden": true
   },
   "outputs": [],
   "source": [
    "# param_grid = {\n",
    "#     \"C\": np.logspace(2, -5, 13),\n",
    "#     \"gamma\": np.logspace(-9,3,13),\n",
    "# }\n"
   ]
  },
  {
   "cell_type": "code",
   "execution_count": 31,
   "metadata": {
    "ExecuteTime": {
     "end_time": "2018-05-11T17:00:56.566181Z",
     "start_time": "2018-05-11T17:00:56.558801Z"
    },
    "hidden": true
   },
   "outputs": [
    {
     "data": {
      "text/plain": [
       "dict_keys(['cv', 'error_score', 'estimator__C', 'estimator__cache_size', 'estimator__class_weight', 'estimator__coef0', 'estimator__decision_function_shape', 'estimator__degree', 'estimator__gamma', 'estimator__kernel', 'estimator__max_iter', 'estimator__probability', 'estimator__random_state', 'estimator__shrinking', 'estimator__tol', 'estimator__verbose', 'estimator', 'fit_params', 'iid', 'n_iter', 'n_jobs', 'param_distributions', 'pre_dispatch', 'random_state', 'refit', 'return_train_score', 'scoring', 'verbose'])"
      ]
     },
     "execution_count": 31,
     "metadata": {},
     "output_type": "execute_result"
    }
   ],
   "source": [
    "# rbf_grid = model_selection.RandomizedSearchCV(\n",
    "#     rbf_svm, param_grid , n_jobs=-1, cv=8, n_iter=2,verbose=0)\n",
    "\n",
    "# rbf_grid.get_params().keys()"
   ]
  },
  {
   "cell_type": "code",
   "execution_count": 32,
   "metadata": {
    "ExecuteTime": {
     "end_time": "2018-05-11T17:07:28.810869Z",
     "start_time": "2018-05-11T17:01:05.001362Z"
    },
    "hidden": true
   },
   "outputs": [
    {
     "data": {
      "text/plain": [
       "RandomizedSearchCV(cv=8, error_score='raise',\n",
       "          estimator=SVC(C=1.0, cache_size=200, class_weight='balanced', coef0=0.0,\n",
       "  decision_function_shape='ovr', degree=3, gamma='auto', kernel='rbf',\n",
       "  max_iter=-1, probability=False, random_state=None, shrinking=True,\n",
       "  tol=0.001, verbose=False),\n",
       "          fit_params=None, iid=True, n_iter=2, n_jobs=-1,\n",
       "          param_distributions={'C': array([1.00000e+02, 2.61016e+01, 6.81292e+00, 1.77828e+00, 4.64159e-01,\n",
       "       1.21153e-01, 3.16228e-02, 8.25404e-03, 2.15443e-03, 5.62341e-04,\n",
       "       1.46780e-04, 3.83119e-05, 1.00000e-05]), 'gamma': array([1.e-09, 1.e-08, 1.e-07, 1.e-06, 1.e-05, 1.e-04, 1.e-03, 1.e-02,\n",
       "       1.e-01, 1.e+00, 1.e+01, 1.e+02, 1.e+03])},\n",
       "          pre_dispatch='2*n_jobs', random_state=None, refit=True,\n",
       "          return_train_score='warn', scoring=None, verbose=0)"
      ]
     },
     "execution_count": 32,
     "metadata": {},
     "output_type": "execute_result"
    }
   ],
   "source": [
    "# rbf_grid.fit(X_smote_skip,y_smote_skip)"
   ]
  },
  {
   "cell_type": "code",
   "execution_count": 33,
   "metadata": {
    "ExecuteTime": {
     "end_time": "2018-05-11T17:07:29.465140Z",
     "start_time": "2018-05-11T17:07:29.459752Z"
    },
    "hidden": true
   },
   "outputs": [
    {
     "data": {
      "text/plain": [
       "{'gamma': 0.0001, 'C': 1e-05}"
      ]
     },
     "execution_count": 33,
     "metadata": {},
     "output_type": "execute_result"
    }
   ],
   "source": [
    "# rbf_grid.best_params_"
   ]
  },
  {
   "cell_type": "code",
   "execution_count": 34,
   "metadata": {
    "ExecuteTime": {
     "end_time": "2018-05-11T17:07:30.111936Z",
     "start_time": "2018-05-11T17:07:30.108416Z"
    },
    "collapsed": true,
    "hidden": true
   },
   "outputs": [],
   "source": [
    "# rbf_model = rbf_grid.best_estimator_\n",
    "# # rbf_model.score(X_smote_skip,y_smote_skip)"
   ]
  },
  {
   "cell_type": "code",
   "execution_count": 35,
   "metadata": {
    "ExecuteTime": {
     "end_time": "2018-05-11T17:08:48.234351Z",
     "start_time": "2018-05-11T17:07:30.756211Z"
    },
    "hidden": true
   },
   "outputs": [
    {
     "name": "stderr",
     "output_type": "stream",
     "text": [
      "/home/ubuntu/miniconda3/lib/python3.6/site-packages/sklearn/metrics/classification.py:1135: UndefinedMetricWarning: Precision and F-score are ill-defined and being set to 0.0 in labels with no predicted samples.\n",
      "  'precision', 'predicted', average, warn_for)\n"
     ]
    },
    {
     "name": "stdout",
     "output_type": "stream",
     "text": [
      "             precision    recall  f1-score   support\n",
      "\n",
      "          0       0.73      1.00      0.84     16116\n",
      "          1       0.00      0.00      0.00      6029\n",
      "\n",
      "avg / total       0.53      0.73      0.61     22145\n",
      "\n",
      "0.7277489275231429\n",
      "[[16116     0]\n",
      " [ 6029     0]]\n"
     ]
    }
   ],
   "source": [
    "# classify(rbf_model,X_test,X_smote_skip,y_smote_skip)"
   ]
  },
  {
   "cell_type": "code",
   "execution_count": 47,
   "metadata": {
    "ExecuteTime": {
     "end_time": "2018-05-11T17:21:04.995638Z",
     "start_time": "2018-05-11T17:20:52.146794Z"
    },
    "hidden": true
   },
   "outputs": [
    {
     "data": {
      "text/plain": [
       "SVC(C=1.0, cache_size=200, class_weight='balanced', coef0=0.0,\n",
       "  decision_function_shape='ovr', degree=6, gamma='auto', kernel='poly',\n",
       "  max_iter=-1, probability=False, random_state=None, shrinking=True,\n",
       "  tol=0.001, verbose=False)"
      ]
     },
     "execution_count": 47,
     "metadata": {},
     "output_type": "execute_result"
    }
   ],
   "source": [
    "# from sklearn.svm import SVC\n",
    "# poly_svm = SVC(kernel='poly', gamma='auto',class_weight='balanced', degree=6)\n",
    "# poly_svm.fit(X_smote_skip,y_smote_skip)"
   ]
  },
  {
   "cell_type": "code",
   "execution_count": 48,
   "metadata": {
    "ExecuteTime": {
     "end_time": "2018-05-11T17:21:05.644932Z",
     "start_time": "2018-05-11T17:21:05.641595Z"
    },
    "collapsed": true,
    "hidden": true
   },
   "outputs": [],
   "source": [
    "# poly_svm.score(X_smote,y_smote)"
   ]
  },
  {
   "cell_type": "code",
   "execution_count": 49,
   "metadata": {
    "ExecuteTime": {
     "end_time": "2018-05-11T17:22:08.667599Z",
     "start_time": "2018-05-11T17:21:06.292414Z"
    },
    "hidden": true,
    "scrolled": true
   },
   "outputs": [
    {
     "name": "stdout",
     "output_type": "stream",
     "text": [
      "             precision    recall  f1-score   support\n",
      "\n",
      "          0       0.81      0.14      0.24     16116\n",
      "          1       0.28      0.91      0.43      6029\n",
      "\n",
      "avg / total       0.67      0.35      0.29     22145\n",
      "\n",
      "0.35204335064348613\n",
      "[[ 2305 13811]\n",
      " [  538  5491]]\n"
     ]
    }
   ],
   "source": [
    "# classify(poly_svm,X_test,X_smote,y_smote)"
   ]
  },
  {
   "cell_type": "code",
   "execution_count": 50,
   "metadata": {
    "ExecuteTime": {
     "end_time": "2018-05-11T17:22:09.318325Z",
     "start_time": "2018-05-11T17:22:09.313264Z"
    },
    "hidden": true
   },
   "outputs": [
    {
     "data": {
      "text/plain": [
       "array([1.00709695, 0.99300238])"
      ]
     },
     "execution_count": 50,
     "metadata": {},
     "output_type": "execute_result"
    }
   ],
   "source": [
    "# poly_svm.class_weight_"
   ]
  },
  {
   "cell_type": "code",
   "execution_count": 56,
   "metadata": {
    "ExecuteTime": {
     "end_time": "2018-05-11T17:53:22.715024Z",
     "start_time": "2018-05-11T17:53:22.711107Z"
    },
    "hidden": true
   },
   "outputs": [
    {
     "data": {
      "text/plain": [
       "range(1, 9)"
      ]
     },
     "execution_count": 56,
     "metadata": {},
     "output_type": "execute_result"
    }
   ],
   "source": [
    "# plot_roc_curve()"
   ]
  },
  {
   "cell_type": "code",
   "execution_count": null,
   "metadata": {
    "ExecuteTime": {
     "start_time": "2018-05-11T17:53:51.579Z"
    },
    "hidden": true
   },
   "outputs": [
    {
     "name": "stdout",
     "output_type": "stream",
     "text": [
      "             precision    recall  f1-score   support\n",
      "\n",
      "          0       0.80      0.11      0.19     16116\n",
      "          1       0.28      0.93      0.43      6029\n",
      "\n",
      "avg / total       0.66      0.33      0.26     22145\n",
      "\n",
      "0.3326710318356288\n",
      "[[ 1776 14340]\n",
      " [  438  5591]]\n",
      "None\n",
      "9\n",
      "             precision    recall  f1-score   support\n",
      "\n",
      "          0       0.80      0.11      0.19     16116\n",
      "          1       0.28      0.93      0.43      6029\n",
      "\n",
      "avg / total       0.66      0.33      0.25     22145\n",
      "\n",
      "0.3296455181756604\n",
      "[[ 1698 14418]\n",
      " [  427  5602]]\n",
      "None\n",
      "10\n",
      "             precision    recall  f1-score   support\n",
      "\n",
      "          0       0.80      0.10      0.18     16116\n",
      "          1       0.28      0.93      0.43      6029\n",
      "\n",
      "avg / total       0.66      0.33      0.25     22145\n",
      "\n",
      "0.32716188755926845\n",
      "[[ 1625 14491]\n",
      " [  409  5620]]\n",
      "None\n",
      "11\n",
      "             precision    recall  f1-score   support\n",
      "\n",
      "          0       0.80      0.10      0.17     16116\n",
      "          1       0.28      0.93      0.43      6029\n",
      "\n",
      "avg / total       0.66      0.32      0.24     22145\n",
      "\n",
      "0.32436215850079025\n",
      "[[ 1552 14564]\n",
      " [  398  5631]]\n",
      "None\n",
      "12\n",
      "             precision    recall  f1-score   support\n",
      "\n",
      "          0       0.80      0.09      0.17     16116\n",
      "          1       0.28      0.94      0.43      6029\n",
      "\n",
      "avg / total       0.65      0.32      0.24     22145\n",
      "\n",
      "0.3224204109279747\n",
      "[[ 1495 14621]\n",
      " [  384  5645]]\n",
      "None\n",
      "13\n",
      "             precision    recall  f1-score   support\n",
      "\n",
      "          0       0.79      0.09      0.16     16116\n",
      "          1       0.28      0.94      0.43      6029\n",
      "\n",
      "avg / total       0.65      0.32      0.23     22145\n",
      "\n",
      "0.32029803567396703\n",
      "[[ 1441 14675]\n",
      " [  377  5652]]\n",
      "None\n",
      "14\n",
      "             precision    recall  f1-score   support\n",
      "\n",
      "          0       0.79      0.09      0.16     16116\n",
      "          1       0.28      0.94      0.43      6029\n",
      "\n",
      "avg / total       0.65      0.32      0.23     22145\n",
      "\n",
      "0.3188981711447279\n",
      "[[ 1404 14712]\n",
      " [  371  5658]]\n",
      "None\n",
      "15\n",
      "             precision    recall  f1-score   support\n",
      "\n",
      "          0       0.79      0.08      0.15     16116\n",
      "          1       0.28      0.94      0.43      6029\n",
      "\n",
      "avg / total       0.65      0.32      0.23     22145\n",
      "\n",
      "0.3169564235719124\n",
      "[[ 1356 14760]\n",
      " [  366  5663]]\n",
      "None\n",
      "16\n",
      "             precision    recall  f1-score   support\n",
      "\n",
      "          0       0.79      0.08      0.15     16116\n",
      "          1       0.28      0.94      0.43      6029\n",
      "\n",
      "avg / total       0.65      0.32      0.22     22145\n",
      "\n",
      "0.31600812824565366\n",
      "[[ 1319 14797]\n",
      " [  350  5679]]\n",
      "None\n",
      "17\n",
      "             precision    recall  f1-score   support\n",
      "\n",
      "          0       0.79      0.08      0.14     16116\n",
      "          1       0.28      0.94      0.43      6029\n",
      "\n",
      "avg / total       0.65      0.31      0.22     22145\n",
      "\n",
      "0.31474373447730863\n",
      "[[ 1285 14831]\n",
      " [  344  5685]]\n",
      "None\n",
      "18\n"
     ]
    }
   ],
   "source": [
    "# from sklearn.svm import SVC\n",
    "# for i in range(9,26):\n",
    "#     poly_svm = SVC(kernel='poly', gamma='auto',class_weight='balanced', degree=i)\n",
    "#     poly_svm.fit(X_smote_skip,y_smote_skip)\n",
    "#     print(classify(poly_svm,X_test,X_smote,y_smote))\n",
    "#     print(i)\n",
    "\n"
   ]
  },
  {
   "cell_type": "markdown",
   "metadata": {
    "heading_collapsed": true
   },
   "source": [
    "### Overnight only!"
   ]
  },
  {
   "cell_type": "code",
   "execution_count": null,
   "metadata": {
    "ExecuteTime": {
     "end_time": "2018-05-11T16:12:06.489798Z",
     "start_time": "2018-05-11T16:11:41.119Z"
    },
    "collapsed": true,
    "hidden": true
   },
   "outputs": [],
   "source": [
    "# classify(poly_svm,X_test,X_train,y_train)"
   ]
  },
  {
   "cell_type": "code",
   "execution_count": 40,
   "metadata": {
    "ExecuteTime": {
     "end_time": "2018-05-13T18:33:28.421309Z",
     "start_time": "2018-05-13T18:33:28.418636Z"
    },
    "collapsed": true,
    "hidden": true
   },
   "outputs": [],
   "source": [
    "import sklearn.ensemble as ensemble\n",
    "import sklearn.linear_model as linear_model"
   ]
  },
  {
   "cell_type": "code",
   "execution_count": 42,
   "metadata": {
    "ExecuteTime": {
     "end_time": "2018-05-13T18:33:50.053815Z",
     "start_time": "2018-05-13T18:33:41.076105Z"
    },
    "hidden": true,
    "scrolled": false
   },
   "outputs": [
    {
     "name": "stdout",
     "output_type": "stream",
     "text": [
      "AdaBoostClassifier: 0.436353 (0.099220)\n",
      "GBC: 0.454301 (0.126727)\n",
      "LogisticRegressionCV: 0.580900 (0.298547)\n"
     ]
    },
    {
     "name": "stderr",
     "output_type": "stream",
     "text": [
      "/home/ubuntu/miniconda3/lib/python3.6/site-packages/sklearn/ensemble/forest.py:453: UserWarning: Some inputs do not have OOB scores. This probably means too few trees were used to compute any reliable oob estimates.\n",
      "  warn(\"Some inputs do not have OOB scores. \"\n",
      "/home/ubuntu/miniconda3/lib/python3.6/site-packages/sklearn/ensemble/forest.py:458: RuntimeWarning: invalid value encountered in true_divide\n",
      "  predictions[k].sum(axis=1)[:, np.newaxis])\n",
      "/home/ubuntu/miniconda3/lib/python3.6/site-packages/sklearn/ensemble/forest.py:453: UserWarning: Some inputs do not have OOB scores. This probably means too few trees were used to compute any reliable oob estimates.\n",
      "  warn(\"Some inputs do not have OOB scores. \"\n",
      "/home/ubuntu/miniconda3/lib/python3.6/site-packages/sklearn/ensemble/forest.py:458: RuntimeWarning: invalid value encountered in true_divide\n",
      "  predictions[k].sum(axis=1)[:, np.newaxis])\n"
     ]
    },
    {
     "name": "stdout",
     "output_type": "stream",
     "text": [
      "RFC: 0.567534 (0.231873)\n"
     ]
    },
    {
     "data": {
      "image/png": "[encoded data removed]",
      "text/plain": [
       "<Figure size 432x288 with 1 Axes>"
      ]
     },
     "metadata": {},
     "output_type": "display_data"
    }
   ],
   "source": [
    "seed = 7\n",
    "# prepare models\n",
    "models = []\n",
    "# models.append(('AdaBoostClassifier', ensemble.AdaBoostClassifier()))\n",
    "# models.append(('GBC', ensemble.GradientBoostingClassifier()))\n",
    "models.append(('LogisticRegressionCV',linear_model.LogisticRegressionCV()))\n",
    "# models.append(('SVM', SVC()))\n",
    "models.append(('RFC',\n",
    "               RandomForestClassifier(\n",
    "                   max_depth=6.5,\n",
    "                   min_samples_split=48,\n",
    "     \n",
    "                   max_features=60,\n",
    "                   oob_score=True)))\n",
    "#\n",
    "# evaluate each model in turn\n",
    "results = []\n",
    "names = []\n",
    "scoring = 'recall'\n",
    "for name, model in models:\n",
    "    kfold = model_selection.KFold(n_splits=2, random_state=seed)\n",
    "    cv_results = model_selection.cross_val_score(\n",
    "        model,\n",
    "        X_smote[::skip_size],y_smote[::skip_size],\n",
    "\n",
    "        cv=kfold,\n",
    "        scoring=scoring)\n",
    "    results.append(cv_results)\n",
    "    names.append(name)\n",
    "    msg = \"%s: %f (%f)\" % (name, cv_results.mean(), cv_results.std())\n",
    "    print(msg)\n",
    "# boxplot algorithm comparison\n",
    "fig = plt.figure()\n",
    "fig.suptitle('Algorithm Comparison')\n",
    "ax = fig.add_subplot(111)\n",
    "plt.boxplot(results)\n",
    "ax.set_xticklabels(names)\n",
    "plt.show()"
   ]
  },
  {
   "cell_type": "code",
   "execution_count": null,
   "metadata": {
    "ExecuteTime": {
     "end_time": "2018-05-13T18:35:36.640940Z",
     "start_time": "2018-05-13T18:35:36.637643Z"
    },
    "collapsed": true,
    "hidden": true
   },
   "outputs": [],
   "source": []
  },
  {
   "cell_type": "code",
   "execution_count": null,
   "metadata": {
    "collapsed": true,
    "hidden": true
   },
   "outputs": [],
   "source": []
  },
  {
   "cell_type": "code",
   "execution_count": null,
   "metadata": {
    "collapsed": true,
    "hidden": true
   },
   "outputs": [],
   "source": []
  },
  {
   "cell_type": "code",
   "execution_count": null,
   "metadata": {
    "collapsed": true,
    "hidden": true
   },
   "outputs": [],
   "source": []
  },
  {
   "cell_type": "code",
   "execution_count": null,
   "metadata": {
    "collapsed": true,
    "hidden": true
   },
   "outputs": [],
   "source": []
  },
  {
   "cell_type": "markdown",
   "metadata": {
    "ExecuteTime": {
     "end_time": "2018-05-11T01:45:17.954322Z",
     "start_time": "2018-05-11T01:45:17.950996Z"
    },
    "heading_collapsed": true
   },
   "source": [
    "### 3Test pending"
   ]
  },
  {
   "cell_type": "code",
   "execution_count": null,
   "metadata": {
    "collapsed": true,
    "hidden": true
   },
   "outputs": [],
   "source": []
  },
  {
   "cell_type": "code",
   "execution_count": 70,
   "metadata": {
    "ExecuteTime": {
     "end_time": "2018-05-11T01:45:25.714487Z",
     "start_time": "2018-05-11T01:45:25.634750Z"
    },
    "collapsed": true,
    "hidden": true
   },
   "outputs": [],
   "source": [
    "# import numpy as np\n",
    "\n",
    "# from sklearn.ensemble import RandomForestRegressor\n",
    "# from sklearn.tree import _tree, export_graphviz\n",
    "# from sklearn.datasets import load_boston\n",
    "\n",
    "# import matplotlib.pyplot as plt\n",
    "\n",
    "# from sklearn.utils import check_random_state\n",
    "\n",
    "\n",
    "# def leaf_depths(tree, node_id=0):\n",
    "\n",
    "#     left_child = tree.children_left[node_id]\n",
    "#     right_child = tree.children_right[node_id]\n",
    "\n",
    "#     if left_child == _tree.TREE_LEAF:\n",
    "\n",
    "#         depths = np.array([0])\n",
    "\n",
    "#     else:\n",
    "\n",
    "#         left_depths = leaf_depths(tree, left_child) + 1\n",
    "#         right_depths = leaf_depths(tree, right_child) + 1\n",
    "\n",
    "#         depths = np.append(left_depths, right_depths)\n",
    "\n",
    "#     return depths\n",
    "\n",
    "\n",
    "# def leaf_samples(tree, node_id=0):\n",
    "\n",
    "#     left_child = tree.children_left[node_id]\n",
    "#     right_child = tree.children_right[node_id]\n",
    "\n",
    "#     if left_child == _tree.TREE_LEAF:\n",
    "\n",
    "#         samples = np.array([tree.n_node_samples[node_id]])\n",
    "\n",
    "#     else:\n",
    "\n",
    "#         left_samples = leaf_samples(tree, left_child)\n",
    "#         right_samples = leaf_samples(tree, right_child)\n",
    "\n",
    "#         samples = np.append(left_samples, right_samples)\n",
    "\n",
    "#     return samples\n",
    "\n",
    "\n",
    "# def draw_tree(ensemble, tree_id=0):\n",
    "\n",
    "#     plt.figure(figsize=(8, 8))\n",
    "#     plt.subplot(211)\n",
    "\n",
    "#     tree = ensemble.estimators_[tree_id].tree_\n",
    "\n",
    "#     depths = leaf_depths(tree)\n",
    "#     plt.hist(\n",
    "#         depths,\n",
    "#         histtype='step',\n",
    "#         color='#9933ff',\n",
    "#         bins=range(min(depths),\n",
    "#                    max(depths) + 1))\n",
    "\n",
    "#     plt.xlabel(\"Depth of leaf nodes (tree %s)\" % tree_id)\n",
    "\n",
    "#     plt.subplot(212)\n",
    "\n",
    "#     samples = leaf_samples(tree)\n",
    "#     plt.hist(\n",
    "#         samples,\n",
    "#         histtype='step',\n",
    "#         color='#3399ff',\n",
    "#         bins=range(min(samples),\n",
    "#                    max(samples) + 1))\n",
    "\n",
    "#     plt.xlabel(\"Number of samples in leaf nodes (tree %s)\" % tree_id)\n",
    "\n",
    "#     plt.show()\n",
    "\n",
    "\n",
    "# def draw_ensemble(ensemble):\n",
    "\n",
    "#     plt.figure(figsize=(8, 8))\n",
    "#     plt.subplot(211)\n",
    "\n",
    "#     depths_all = np.array([], dtype=int)\n",
    "\n",
    "#     for x in ensemble.estimators:\n",
    "#         tree = x.tree_\n",
    "#         depths = leaf_depths(tree)\n",
    "#         depths_all = np.append(depths_all, depths)\n",
    "#         plt.hist(\n",
    "#             depths,\n",
    "#             histtype='step',\n",
    "#             color='#ddaaff',\n",
    "#             bins=range(min(depths),\n",
    "#                        max(depths) + 1))\n",
    "\n",
    "#     plt.hist(\n",
    "#         depths_all,\n",
    "#         histtype='step',\n",
    "#         color='#9933ff',\n",
    "#         bins=range(min(depths_all),\n",
    "#                    max(depths_all) + 1),\n",
    "#         weights=np.ones(len(depths_all)) / len(ensemble.estimators_),\n",
    "#         linewidth=2)\n",
    "#     plt.xlabel(\"Depth of leaf nodes\")\n",
    "\n",
    "#     samples_all = np.array([], dtype=int)\n",
    "\n",
    "#     plt.subplot(212)\n",
    "\n",
    "#     for x in ensemble.estimators_:\n",
    "#         tree = x.tree_\n",
    "#         samples = leaf_samples(tree)\n",
    "#         samples_all = np.append(samples_all, samples)\n",
    "#         plt.hist(\n",
    "#             samples,\n",
    "#             histtype='step',\n",
    "#             color='#aaddff',\n",
    "#             bins=range(min(samples),\n",
    "#                        max(samples) + 1))\n",
    "\n",
    "#     plt.hist(\n",
    "#         samples_all,\n",
    "#         histtype='step',\n",
    "#         color='#3399ff',\n",
    "#         bins=range(min(samples_all),\n",
    "#                    max(samples_all) + 1),\n",
    "#         weights=np.ones(len(samples_all)) / len(ensemble.estimators_),\n",
    "#         linewidth=2)\n",
    "#     plt.xlabel(\"Number of samples in leaf nodes\")\n",
    "\n",
    "#     plt.show()\n",
    "\n",
    "\n",
    "# boston = load_boston()\n",
    "# X = boston.data\n",
    "# y = boston.target\n",
    "\n",
    "# rnd = check_random_state(0)\n",
    "# skip_size\n",
    "# ensemble = RandomForestClassifier(\n",
    "#     max_depth=20,\n",
    "#     min_samples_split=48,\n",
    "#     verbose=0,\n",
    "#     max_features=60,\n",
    "#     oob_score=True,\n",
    "#     estimators_\n",
    "#     )\n",
    "# ensemble.fit(X_train[::skip_size], y_train[::skip_size])\n",
    "\n",
    "# draw_ensemble(ensemble)\n",
    "\n",
    "# # max_depth=12 indeed results in maximum depth of xx and leads to less complex trees and more samples in the leaf nodes:\n",
    "# # To validate these two helper functions, one can visualize the effect of max_depth and min_samples_leaf on underlying trees in the forest. "
   ]
  },
  {
   "cell_type": "code",
   "execution_count": null,
   "metadata": {
    "collapsed": true,
    "hidden": true
   },
   "outputs": [],
   "source": []
  },
  {
   "cell_type": "code",
   "execution_count": null,
   "metadata": {
    "collapsed": true,
    "hidden": true
   },
   "outputs": [],
   "source": []
  },
  {
   "cell_type": "code",
   "execution_count": null,
   "metadata": {
    "collapsed": true,
    "hidden": true
   },
   "outputs": [],
   "source": []
  }
 ],
 "metadata": {
  "kernelspec": {
   "display_name": "Python 3",
   "language": "python",
   "name": "python3"
  },
  "language_info": {
   "codemirror_mode": {
    "name": "ipython",
    "version": 3
   },
   "file_extension": ".py",
   "mimetype": "text/x-python",
   "name": "python",
   "nbconvert_exporter": "python",
   "pygments_lexer": "ipython3",
   "version": "3.6.3"
  },
  "varInspector": {
   "cols": {
    "lenName": 16,
    "lenType": 16,
    "lenVar": 40
   },
   "kernels_config": {
    "python": {
     "delete_cmd_postfix": "",
     "delete_cmd_prefix": "del ",
     "library": "var_list.py",
     "varRefreshCmd": "print(var_dic_list())"
    },
    "r": {
     "delete_cmd_postfix": ") ",
     "delete_cmd_prefix": "rm(",
     "library": "var_list.r",
     "varRefreshCmd": "cat(var_dic_list()) "
    }
   },
   "types_to_exclude": [
    "module",
    "function",
    "builtin_function_or_method",
    "instance",
    "_Feature"
   ],
   "window_display": false
  }
 },
 "nbformat": 4,
 "nbformat_minor": 2
}
