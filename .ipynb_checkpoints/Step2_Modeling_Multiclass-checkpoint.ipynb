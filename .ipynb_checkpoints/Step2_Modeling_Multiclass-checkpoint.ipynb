{
 "cells": [
  {
   "cell_type": "markdown",
   "metadata": {},
   "source": [
    "# Modeling Multiclass Dataset"
   ]
  },
  {
   "cell_type": "markdown",
   "metadata": {},
   "source": [
    "### Import Packages"
   ]
  },
  {
   "cell_type": "code",
   "execution_count": 65,
   "metadata": {
    "ExecuteTime": {
     "end_time": "2018-05-21T19:28:44.380527Z",
     "start_time": "2018-05-21T19:28:44.370509Z"
    },
    "collapsed": true
   },
   "outputs": [],
   "source": [
    "import pandas as pd\n",
    "import seaborn\n",
    "import math\n",
    "import sklearn\n",
    "import datetime\n",
    "from sklearn import model_selection"
   ]
  },
  {
   "cell_type": "markdown",
   "metadata": {
    "ExecuteTime": {
     "end_time": "2018-05-04T19:52:54.108412Z",
     "start_time": "2018-05-04T19:52:54.103229Z"
    }
   },
   "source": [
    "### Import Raw SQL Data\n",
    "-Static User Data\n",
    "\n",
    "-Dynamic Sessions Data (Features)"
   ]
  },
  {
   "cell_type": "code",
   "execution_count": 77,
   "metadata": {
    "ExecuteTime": {
     "end_time": "2018-05-21T19:56:51.429132Z",
     "start_time": "2018-05-21T19:56:49.700290Z"
    },
    "scrolled": true
   },
   "outputs": [],
   "source": [
    "Train_Users=pd.DataFrame(pd.read_csv(\"data/train_users_2.csv\"))\n",
    "\n",
    "Feature_sessions=pd.read_csv('data/session_features.csv')\n"
   ]
  },
  {
   "cell_type": "code",
   "execution_count": 78,
   "metadata": {
    "ExecuteTime": {
     "end_time": "2018-05-21T19:56:52.595063Z",
     "start_time": "2018-05-21T19:56:52.571331Z"
    }
   },
   "outputs": [
    {
     "data": {
      "text/html": [
       "<div>\n",
       "<style>\n",
       "    .dataframe thead tr:only-child th {\n",
       "        text-align: right;\n",
       "    }\n",
       "\n",
       "    .dataframe thead th {\n",
       "        text-align: left;\n",
       "    }\n",
       "\n",
       "    .dataframe tbody tr th {\n",
       "        vertical-align: top;\n",
       "    }\n",
       "</style>\n",
       "<table border=\"1\" class=\"dataframe\">\n",
       "  <thead>\n",
       "    <tr style=\"text-align: right;\">\n",
       "      <th></th>\n",
       "      <th>user_id</th>\n",
       "      <th>action=other</th>\n",
       "      <th>action=update</th>\n",
       "      <th>action=dashboard</th>\n",
       "      <th>action=collections</th>\n",
       "      <th>action=confirm_email</th>\n",
       "      <th>action=reviews</th>\n",
       "      <th>action=requested</th>\n",
       "      <th>action=unavailabilities</th>\n",
       "      <th>action=similar_listings</th>\n",
       "      <th>...</th>\n",
       "      <th>device_type=-unknown-</th>\n",
       "      <th>device_type=Windows Desktop</th>\n",
       "      <th>device_type=Tablet</th>\n",
       "      <th>device_type=Android Phone</th>\n",
       "      <th>device_type=iPhone</th>\n",
       "      <th>device_type=iPad Tablet</th>\n",
       "      <th>secs_elapsed_mean</th>\n",
       "      <th>secs_elapsed_std</th>\n",
       "      <th>secs_elapsed_median</th>\n",
       "      <th>secs_elapsed_skew</th>\n",
       "    </tr>\n",
       "  </thead>\n",
       "  <tbody>\n",
       "    <tr>\n",
       "      <th>0</th>\n",
       "      <td>00023iyk9l</td>\n",
       "      <td>4</td>\n",
       "      <td>0</td>\n",
       "      <td>4</td>\n",
       "      <td>0</td>\n",
       "      <td>1</td>\n",
       "      <td>0</td>\n",
       "      <td>5</td>\n",
       "      <td>0</td>\n",
       "      <td>3</td>\n",
       "      <td>...</td>\n",
       "      <td>0</td>\n",
       "      <td>0</td>\n",
       "      <td>0</td>\n",
       "      <td>0</td>\n",
       "      <td>4</td>\n",
       "      <td>0</td>\n",
       "      <td>21697.375000</td>\n",
       "      <td>91120.253083</td>\n",
       "      <td>843.0</td>\n",
       "      <td>5.604319</td>\n",
       "    </tr>\n",
       "    <tr>\n",
       "      <th>1</th>\n",
       "      <td>0010k6l0om</td>\n",
       "      <td>3</td>\n",
       "      <td>0</td>\n",
       "      <td>2</td>\n",
       "      <td>0</td>\n",
       "      <td>0</td>\n",
       "      <td>0</td>\n",
       "      <td>0</td>\n",
       "      <td>0</td>\n",
       "      <td>0</td>\n",
       "      <td>...</td>\n",
       "      <td>0</td>\n",
       "      <td>0</td>\n",
       "      <td>0</td>\n",
       "      <td>0</td>\n",
       "      <td>0</td>\n",
       "      <td>0</td>\n",
       "      <td>9310.190476</td>\n",
       "      <td>22598.464587</td>\n",
       "      <td>847.0</td>\n",
       "      <td>3.550714</td>\n",
       "    </tr>\n",
       "  </tbody>\n",
       "</table>\n",
       "<p>2 rows × 72 columns</p>\n",
       "</div>"
      ],
      "text/plain": [
       "      user_id  action=other  action=update  action=dashboard  \\\n",
       "0  00023iyk9l             4              0                 4   \n",
       "1  0010k6l0om             3              0                 2   \n",
       "\n",
       "   action=collections  action=confirm_email  action=reviews  action=requested  \\\n",
       "0                   0                     1               0                 5   \n",
       "1                   0                     0               0                 0   \n",
       "\n",
       "   action=unavailabilities  action=similar_listings        ...          \\\n",
       "0                        0                        3        ...           \n",
       "1                        0                        0        ...           \n",
       "\n",
       "   device_type=-unknown-  device_type=Windows Desktop  device_type=Tablet  \\\n",
       "0                      0                            0                   0   \n",
       "1                      0                            0                   0   \n",
       "\n",
       "   device_type=Android Phone  device_type=iPhone  device_type=iPad Tablet  \\\n",
       "0                          0                   4                        0   \n",
       "1                          0                   0                        0   \n",
       "\n",
       "   secs_elapsed_mean  secs_elapsed_std  secs_elapsed_median  secs_elapsed_skew  \n",
       "0       21697.375000      91120.253083                843.0           5.604319  \n",
       "1        9310.190476      22598.464587                847.0           3.550714  \n",
       "\n",
       "[2 rows x 72 columns]"
      ]
     },
     "execution_count": 78,
     "metadata": {},
     "output_type": "execute_result"
    }
   ],
   "source": [
    "Feature_sessions.head(2)"
   ]
  },
  {
   "cell_type": "markdown",
   "metadata": {
    "ExecuteTime": {
     "end_time": "2018-05-16T02:15:39.505177Z",
     "start_time": "2018-05-16T02:15:39.497771Z"
    }
   },
   "source": [
    "### Join Static and Dynamic Data"
   ]
  },
  {
   "cell_type": "code",
   "execution_count": 79,
   "metadata": {
    "ExecuteTime": {
     "end_time": "2018-05-21T19:56:53.871289Z",
     "start_time": "2018-05-21T19:56:53.630632Z"
    },
    "collapsed": true
   },
   "outputs": [],
   "source": [
    "User_Session_df=pd.merge(Train_Users, Feature_sessions, left_on = 'id', right_on = 'user_id')"
   ]
  },
  {
   "cell_type": "code",
   "execution_count": 80,
   "metadata": {
    "ExecuteTime": {
     "end_time": "2018-05-21T19:56:54.964051Z",
     "start_time": "2018-05-21T19:56:54.960916Z"
    },
    "collapsed": true
   },
   "outputs": [],
   "source": [
    "# User_Session_df.to_csv('EDA_DATA.csv')"
   ]
  },
  {
   "cell_type": "code",
   "execution_count": 81,
   "metadata": {
    "ExecuteTime": {
     "end_time": "2018-05-21T19:56:56.119657Z",
     "start_time": "2018-05-21T19:56:56.021209Z"
    }
   },
   "outputs": [
    {
     "data": {
      "text/plain": [
       "country_destination\n",
       "AU    152\n",
       "CA    440\n",
       "DE    250\n",
       "Name: country_destination, dtype: int64"
      ]
     },
     "execution_count": 81,
     "metadata": {},
     "output_type": "execute_result"
    }
   ],
   "source": [
    "#Validate Columns:\n",
    "User_Session_df.groupby('country_destination')['country_destination'].count().head(3)"
   ]
  },
  {
   "cell_type": "markdown",
   "metadata": {},
   "source": [
    "### Replace Nulls and Invalid Values"
   ]
  },
  {
   "cell_type": "code",
   "execution_count": 82,
   "metadata": {
    "ExecuteTime": {
     "end_time": "2018-05-21T19:56:57.962246Z",
     "start_time": "2018-05-21T19:56:57.355811Z"
    },
    "scrolled": true
   },
   "outputs": [
    {
     "data": {
      "text/plain": [
       "73815"
      ]
     },
     "execution_count": 82,
     "metadata": {},
     "output_type": "execute_result"
    }
   ],
   "source": [
    "User_Session_df_v1=User_Session_df.replace({'-unknown-':np.nan,'OTHER':np.nan}).copy()\n",
    "#clean up age\n",
    "len(User_Session_df_v1)"
   ]
  },
  {
   "cell_type": "markdown",
   "metadata": {},
   "source": [
    "### Declare Date_Time Objects\n"
   ]
  },
  {
   "cell_type": "code",
   "execution_count": 31,
   "metadata": {
    "ExecuteTime": {
     "end_time": "2018-05-21T18:18:58.787086Z",
     "start_time": "2018-05-21T18:18:58.684262Z"
    },
    "collapsed": true
   },
   "outputs": [],
   "source": [
    "#Update timeseries object. \n",
    "User_Session_df_v1['date_first_booking'] = pd.to_datetime(User_Session_df_v1['date_first_booking'], errors='coerce')\n",
    "User_Session_df_v1['date_account_created'] = pd.to_datetime(User_Session_df_v1['date_account_created'], errors='coerce')\n",
    "User_Session_df_v1['timestamp_first_active'] = pd.to_datetime(User_Session_df_v1['timestamp_first_active'], errors='coerce')"
   ]
  },
  {
   "cell_type": "markdown",
   "metadata": {},
   "source": [
    "### Generate additional Features:"
   ]
  },
  {
   "cell_type": "code",
   "execution_count": 32,
   "metadata": {
    "ExecuteTime": {
     "end_time": "2018-05-21T18:18:59.466434Z",
     "start_time": "2018-05-21T18:18:59.442290Z"
    },
    "collapsed": true
   },
   "outputs": [],
   "source": [
    "User_Session_df_v1['Age_Over40'] = (User_Session_df_v1.age >39).map({True:1,False:0})\n",
    "User_Session_df_v1['Age_31-39'] = ((User_Session_df_v1.age<40) & (User_Session_df_v1.age>30)).map({True:1,False:0})\n",
    "User_Session_df_v1['Age_Under31'] = (User_Session_df_v1.age <31).map({True:1,False:0})\n",
    "User_Session_df_v1['Age_unknown'] = (User_Session_df_v1.age.isnull()).map({True:1,False:0})"
   ]
  },
  {
   "cell_type": "code",
   "execution_count": 33,
   "metadata": {
    "ExecuteTime": {
     "end_time": "2018-05-21T18:19:00.144907Z",
     "start_time": "2018-05-21T18:19:00.137084Z"
    },
    "collapsed": true
   },
   "outputs": [],
   "source": [
    "User_Session_df_v1['Month_account_created']=pd.DatetimeIndex(User_Session_df_v1['date_account_created']).month"
   ]
  },
  {
   "cell_type": "code",
   "execution_count": 34,
   "metadata": {
    "ExecuteTime": {
     "end_time": "2018-05-21T18:19:01.761021Z",
     "start_time": "2018-05-21T18:19:01.637049Z"
    },
    "collapsed": true
   },
   "outputs": [],
   "source": [
    "User_Session_df_v2=User_Session_df_v1.copy()\n"
   ]
  },
  {
   "cell_type": "markdown",
   "metadata": {},
   "source": [
    "### Prep Data for Modeling"
   ]
  },
  {
   "cell_type": "code",
   "execution_count": 87,
   "metadata": {
    "ExecuteTime": {
     "end_time": "2018-05-21T20:06:34.779230Z",
     "start_time": "2018-05-21T20:06:34.750873Z"
    }
   },
   "outputs": [
    {
     "data": {
      "text/html": [
       "<div>\n",
       "<style>\n",
       "    .dataframe thead tr:only-child th {\n",
       "        text-align: right;\n",
       "    }\n",
       "\n",
       "    .dataframe thead th {\n",
       "        text-align: left;\n",
       "    }\n",
       "\n",
       "    .dataframe tbody tr th {\n",
       "        vertical-align: top;\n",
       "    }\n",
       "</style>\n",
       "<table border=\"1\" class=\"dataframe\">\n",
       "  <thead>\n",
       "    <tr style=\"text-align: right;\">\n",
       "      <th></th>\n",
       "      <th>id</th>\n",
       "      <th>date_account_created</th>\n",
       "      <th>timestamp_first_active</th>\n",
       "      <th>date_first_booking</th>\n",
       "      <th>gender</th>\n",
       "      <th>age</th>\n",
       "      <th>signup_method</th>\n",
       "      <th>signup_flow</th>\n",
       "      <th>language</th>\n",
       "      <th>affiliate_channel</th>\n",
       "      <th>...</th>\n",
       "      <th>device_type=iPad Tablet</th>\n",
       "      <th>secs_elapsed_mean</th>\n",
       "      <th>secs_elapsed_std</th>\n",
       "      <th>secs_elapsed_median</th>\n",
       "      <th>secs_elapsed_skew</th>\n",
       "      <th>Age_Over40</th>\n",
       "      <th>Age_31-39</th>\n",
       "      <th>Age_Under31</th>\n",
       "      <th>Age_unknown</th>\n",
       "      <th>Month_account_created</th>\n",
       "    </tr>\n",
       "  </thead>\n",
       "  <tbody>\n",
       "    <tr>\n",
       "      <th>0</th>\n",
       "      <td>d1mm9tcy42</td>\n",
       "      <td>2014-01-01</td>\n",
       "      <td>1970-01-01 05:35:40.101000936</td>\n",
       "      <td>2014-01-04</td>\n",
       "      <td>MALE</td>\n",
       "      <td>62.0</td>\n",
       "      <td>basic</td>\n",
       "      <td>0</td>\n",
       "      <td>en</td>\n",
       "      <td>sem-non-brand</td>\n",
       "      <td>...</td>\n",
       "      <td>0</td>\n",
       "      <td>26988.409449</td>\n",
       "      <td>69127.594623</td>\n",
       "      <td>947.0</td>\n",
       "      <td>5.346696</td>\n",
       "      <td>1</td>\n",
       "      <td>0</td>\n",
       "      <td>0</td>\n",
       "      <td>0</td>\n",
       "      <td>1</td>\n",
       "    </tr>\n",
       "    <tr>\n",
       "      <th>1</th>\n",
       "      <td>yo8nz8bqcq</td>\n",
       "      <td>2014-01-01</td>\n",
       "      <td>1970-01-01 05:35:40.101001558</td>\n",
       "      <td>NaT</td>\n",
       "      <td>NaN</td>\n",
       "      <td>NaN</td>\n",
       "      <td>basic</td>\n",
       "      <td>0</td>\n",
       "      <td>en</td>\n",
       "      <td>direct</td>\n",
       "      <td>...</td>\n",
       "      <td>0</td>\n",
       "      <td>23093.444444</td>\n",
       "      <td>37975.250115</td>\n",
       "      <td>4080.0</td>\n",
       "      <td>1.857508</td>\n",
       "      <td>0</td>\n",
       "      <td>0</td>\n",
       "      <td>0</td>\n",
       "      <td>1</td>\n",
       "      <td>1</td>\n",
       "    </tr>\n",
       "    <tr>\n",
       "      <th>2</th>\n",
       "      <td>4grx6yxeby</td>\n",
       "      <td>2014-01-01</td>\n",
       "      <td>1970-01-01 05:35:40.101001639</td>\n",
       "      <td>NaT</td>\n",
       "      <td>NaN</td>\n",
       "      <td>NaN</td>\n",
       "      <td>basic</td>\n",
       "      <td>0</td>\n",
       "      <td>en</td>\n",
       "      <td>sem-brand</td>\n",
       "      <td>...</td>\n",
       "      <td>0</td>\n",
       "      <td>70965.187500</td>\n",
       "      <td>91377.272402</td>\n",
       "      <td>60587.5</td>\n",
       "      <td>1.641905</td>\n",
       "      <td>0</td>\n",
       "      <td>0</td>\n",
       "      <td>0</td>\n",
       "      <td>1</td>\n",
       "      <td>1</td>\n",
       "    </tr>\n",
       "    <tr>\n",
       "      <th>3</th>\n",
       "      <td>ncf87guaf0</td>\n",
       "      <td>2014-01-01</td>\n",
       "      <td>1970-01-01 05:35:40.101002146</td>\n",
       "      <td>NaT</td>\n",
       "      <td>NaN</td>\n",
       "      <td>NaN</td>\n",
       "      <td>basic</td>\n",
       "      <td>0</td>\n",
       "      <td>en</td>\n",
       "      <td>direct</td>\n",
       "      <td>...</td>\n",
       "      <td>0</td>\n",
       "      <td>24704.598684</td>\n",
       "      <td>84140.107158</td>\n",
       "      <td>1569.5</td>\n",
       "      <td>5.527073</td>\n",
       "      <td>0</td>\n",
       "      <td>0</td>\n",
       "      <td>0</td>\n",
       "      <td>1</td>\n",
       "      <td>1</td>\n",
       "    </tr>\n",
       "    <tr>\n",
       "      <th>4</th>\n",
       "      <td>4rvqpxoh3h</td>\n",
       "      <td>2014-01-01</td>\n",
       "      <td>1970-01-01 05:35:40.101002619</td>\n",
       "      <td>2014-01-02</td>\n",
       "      <td>NaN</td>\n",
       "      <td>NaN</td>\n",
       "      <td>basic</td>\n",
       "      <td>25</td>\n",
       "      <td>en</td>\n",
       "      <td>direct</td>\n",
       "      <td>...</td>\n",
       "      <td>0</td>\n",
       "      <td>319.250000</td>\n",
       "      <td>325.353324</td>\n",
       "      <td>195.5</td>\n",
       "      <td>0.810504</td>\n",
       "      <td>0</td>\n",
       "      <td>0</td>\n",
       "      <td>0</td>\n",
       "      <td>1</td>\n",
       "      <td>1</td>\n",
       "    </tr>\n",
       "  </tbody>\n",
       "</table>\n",
       "<p>5 rows × 93 columns</p>\n",
       "</div>"
      ],
      "text/plain": [
       "           id date_account_created        timestamp_first_active  \\\n",
       "0  d1mm9tcy42           2014-01-01 1970-01-01 05:35:40.101000936   \n",
       "1  yo8nz8bqcq           2014-01-01 1970-01-01 05:35:40.101001558   \n",
       "2  4grx6yxeby           2014-01-01 1970-01-01 05:35:40.101001639   \n",
       "3  ncf87guaf0           2014-01-01 1970-01-01 05:35:40.101002146   \n",
       "4  4rvqpxoh3h           2014-01-01 1970-01-01 05:35:40.101002619   \n",
       "\n",
       "  date_first_booking gender   age signup_method  signup_flow language  \\\n",
       "0         2014-01-04   MALE  62.0         basic            0       en   \n",
       "1                NaT    NaN   NaN         basic            0       en   \n",
       "2                NaT    NaN   NaN         basic            0       en   \n",
       "3                NaT    NaN   NaN         basic            0       en   \n",
       "4         2014-01-02    NaN   NaN         basic           25       en   \n",
       "\n",
       "  affiliate_channel          ...           device_type=iPad Tablet  \\\n",
       "0     sem-non-brand          ...                                 0   \n",
       "1            direct          ...                                 0   \n",
       "2         sem-brand          ...                                 0   \n",
       "3            direct          ...                                 0   \n",
       "4            direct          ...                                 0   \n",
       "\n",
       "  secs_elapsed_mean secs_elapsed_std secs_elapsed_median secs_elapsed_skew  \\\n",
       "0      26988.409449     69127.594623               947.0          5.346696   \n",
       "1      23093.444444     37975.250115              4080.0          1.857508   \n",
       "2      70965.187500     91377.272402             60587.5          1.641905   \n",
       "3      24704.598684     84140.107158              1569.5          5.527073   \n",
       "4        319.250000       325.353324               195.5          0.810504   \n",
       "\n",
       "  Age_Over40 Age_31-39  Age_Under31  Age_unknown  Month_account_created  \n",
       "0          1         0            0            0                      1  \n",
       "1          0         0            0            1                      1  \n",
       "2          0         0            0            1                      1  \n",
       "3          0         0            0            1                      1  \n",
       "4          0         0            0            1                      1  \n",
       "\n",
       "[5 rows x 93 columns]"
      ]
     },
     "execution_count": 87,
     "metadata": {},
     "output_type": "execute_result"
    }
   ],
   "source": [
    "model_data=User_Session_df_v2\n",
    "model_data.head()"
   ]
  },
  {
   "cell_type": "code",
   "execution_count": 88,
   "metadata": {
    "ExecuteTime": {
     "end_time": "2018-05-21T20:06:47.245551Z",
     "start_time": "2018-05-21T20:06:44.105552Z"
    },
    "collapsed": true
   },
   "outputs": [],
   "source": [
    "## Export Model Data for Future Analysis:\n",
    "model_data.to_csv('data/model_data_v1.csv',index=False)"
   ]
  },
  {
   "cell_type": "code",
   "execution_count": 89,
   "metadata": {
    "ExecuteTime": {
     "end_time": "2018-05-21T20:06:49.179926Z",
     "start_time": "2018-05-21T20:06:48.282543Z"
    }
   },
   "outputs": [
    {
     "data": {
      "text/html": [
       "<div>\n",
       "<style>\n",
       "    .dataframe thead tr:only-child th {\n",
       "        text-align: right;\n",
       "    }\n",
       "\n",
       "    .dataframe thead th {\n",
       "        text-align: left;\n",
       "    }\n",
       "\n",
       "    .dataframe tbody tr th {\n",
       "        vertical-align: top;\n",
       "    }\n",
       "</style>\n",
       "<table border=\"1\" class=\"dataframe\">\n",
       "  <thead>\n",
       "    <tr style=\"text-align: right;\">\n",
       "      <th></th>\n",
       "      <th>id</th>\n",
       "      <th>date_account_created</th>\n",
       "      <th>timestamp_first_active</th>\n",
       "      <th>date_first_booking</th>\n",
       "      <th>gender</th>\n",
       "      <th>age</th>\n",
       "      <th>signup_method</th>\n",
       "      <th>signup_flow</th>\n",
       "      <th>language</th>\n",
       "      <th>affiliate_channel</th>\n",
       "      <th>...</th>\n",
       "      <th>device_type=iPad Tablet</th>\n",
       "      <th>secs_elapsed_mean</th>\n",
       "      <th>secs_elapsed_std</th>\n",
       "      <th>secs_elapsed_median</th>\n",
       "      <th>secs_elapsed_skew</th>\n",
       "      <th>Age_Over40</th>\n",
       "      <th>Age_31-39</th>\n",
       "      <th>Age_Under31</th>\n",
       "      <th>Age_unknown</th>\n",
       "      <th>Month_account_created</th>\n",
       "    </tr>\n",
       "  </thead>\n",
       "  <tbody>\n",
       "    <tr>\n",
       "      <th>0</th>\n",
       "      <td>d1mm9tcy42</td>\n",
       "      <td>2014-01-01 00:00:00.000000000</td>\n",
       "      <td>1970-01-01 05:35:40.101000936</td>\n",
       "      <td>2014-01-04 00:00:00.000000000</td>\n",
       "      <td>MALE</td>\n",
       "      <td>62.0</td>\n",
       "      <td>basic</td>\n",
       "      <td>0</td>\n",
       "      <td>en</td>\n",
       "      <td>sem-non-brand</td>\n",
       "      <td>...</td>\n",
       "      <td>0</td>\n",
       "      <td>26988.409449</td>\n",
       "      <td>69127.594623</td>\n",
       "      <td>947.0</td>\n",
       "      <td>5.346696</td>\n",
       "      <td>1</td>\n",
       "      <td>0</td>\n",
       "      <td>0</td>\n",
       "      <td>0</td>\n",
       "      <td>1</td>\n",
       "    </tr>\n",
       "    <tr>\n",
       "      <th>1</th>\n",
       "      <td>yo8nz8bqcq</td>\n",
       "      <td>2014-01-01 00:00:00.000000000</td>\n",
       "      <td>1970-01-01 05:35:40.101001558</td>\n",
       "      <td>NaN</td>\n",
       "      <td>NaN</td>\n",
       "      <td>NaN</td>\n",
       "      <td>basic</td>\n",
       "      <td>0</td>\n",
       "      <td>en</td>\n",
       "      <td>direct</td>\n",
       "      <td>...</td>\n",
       "      <td>0</td>\n",
       "      <td>23093.444444</td>\n",
       "      <td>37975.250115</td>\n",
       "      <td>4080.0</td>\n",
       "      <td>1.857508</td>\n",
       "      <td>0</td>\n",
       "      <td>0</td>\n",
       "      <td>0</td>\n",
       "      <td>1</td>\n",
       "      <td>1</td>\n",
       "    </tr>\n",
       "    <tr>\n",
       "      <th>2</th>\n",
       "      <td>4grx6yxeby</td>\n",
       "      <td>2014-01-01 00:00:00.000000000</td>\n",
       "      <td>1970-01-01 05:35:40.101001639</td>\n",
       "      <td>NaN</td>\n",
       "      <td>NaN</td>\n",
       "      <td>NaN</td>\n",
       "      <td>basic</td>\n",
       "      <td>0</td>\n",
       "      <td>en</td>\n",
       "      <td>sem-brand</td>\n",
       "      <td>...</td>\n",
       "      <td>0</td>\n",
       "      <td>70965.187500</td>\n",
       "      <td>91377.272402</td>\n",
       "      <td>60587.5</td>\n",
       "      <td>1.641905</td>\n",
       "      <td>0</td>\n",
       "      <td>0</td>\n",
       "      <td>0</td>\n",
       "      <td>1</td>\n",
       "      <td>1</td>\n",
       "    </tr>\n",
       "    <tr>\n",
       "      <th>3</th>\n",
       "      <td>ncf87guaf0</td>\n",
       "      <td>2014-01-01 00:00:00.000000000</td>\n",
       "      <td>1970-01-01 05:35:40.101002146</td>\n",
       "      <td>NaN</td>\n",
       "      <td>NaN</td>\n",
       "      <td>NaN</td>\n",
       "      <td>basic</td>\n",
       "      <td>0</td>\n",
       "      <td>en</td>\n",
       "      <td>direct</td>\n",
       "      <td>...</td>\n",
       "      <td>0</td>\n",
       "      <td>24704.598684</td>\n",
       "      <td>84140.107158</td>\n",
       "      <td>1569.5</td>\n",
       "      <td>5.527073</td>\n",
       "      <td>0</td>\n",
       "      <td>0</td>\n",
       "      <td>0</td>\n",
       "      <td>1</td>\n",
       "      <td>1</td>\n",
       "    </tr>\n",
       "    <tr>\n",
       "      <th>4</th>\n",
       "      <td>4rvqpxoh3h</td>\n",
       "      <td>2014-01-01 00:00:00.000000000</td>\n",
       "      <td>1970-01-01 05:35:40.101002619</td>\n",
       "      <td>2014-01-02 00:00:00.000000000</td>\n",
       "      <td>NaN</td>\n",
       "      <td>NaN</td>\n",
       "      <td>basic</td>\n",
       "      <td>25</td>\n",
       "      <td>en</td>\n",
       "      <td>direct</td>\n",
       "      <td>...</td>\n",
       "      <td>0</td>\n",
       "      <td>319.250000</td>\n",
       "      <td>325.353324</td>\n",
       "      <td>195.5</td>\n",
       "      <td>0.810504</td>\n",
       "      <td>0</td>\n",
       "      <td>0</td>\n",
       "      <td>0</td>\n",
       "      <td>1</td>\n",
       "      <td>1</td>\n",
       "    </tr>\n",
       "  </tbody>\n",
       "</table>\n",
       "<p>5 rows × 93 columns</p>\n",
       "</div>"
      ],
      "text/plain": [
       "           id           date_account_created         timestamp_first_active  \\\n",
       "0  d1mm9tcy42  2014-01-01 00:00:00.000000000  1970-01-01 05:35:40.101000936   \n",
       "1  yo8nz8bqcq  2014-01-01 00:00:00.000000000  1970-01-01 05:35:40.101001558   \n",
       "2  4grx6yxeby  2014-01-01 00:00:00.000000000  1970-01-01 05:35:40.101001639   \n",
       "3  ncf87guaf0  2014-01-01 00:00:00.000000000  1970-01-01 05:35:40.101002146   \n",
       "4  4rvqpxoh3h  2014-01-01 00:00:00.000000000  1970-01-01 05:35:40.101002619   \n",
       "\n",
       "              date_first_booking gender   age signup_method  signup_flow  \\\n",
       "0  2014-01-04 00:00:00.000000000   MALE  62.0         basic            0   \n",
       "1                            NaN    NaN   NaN         basic            0   \n",
       "2                            NaN    NaN   NaN         basic            0   \n",
       "3                            NaN    NaN   NaN         basic            0   \n",
       "4  2014-01-02 00:00:00.000000000    NaN   NaN         basic           25   \n",
       "\n",
       "  language affiliate_channel          ...           device_type=iPad Tablet  \\\n",
       "0       en     sem-non-brand          ...                                 0   \n",
       "1       en            direct          ...                                 0   \n",
       "2       en         sem-brand          ...                                 0   \n",
       "3       en            direct          ...                                 0   \n",
       "4       en            direct          ...                                 0   \n",
       "\n",
       "  secs_elapsed_mean secs_elapsed_std secs_elapsed_median secs_elapsed_skew  \\\n",
       "0      26988.409449     69127.594623               947.0          5.346696   \n",
       "1      23093.444444     37975.250115              4080.0          1.857508   \n",
       "2      70965.187500     91377.272402             60587.5          1.641905   \n",
       "3      24704.598684     84140.107158              1569.5          5.527073   \n",
       "4        319.250000       325.353324               195.5          0.810504   \n",
       "\n",
       "  Age_Over40 Age_31-39  Age_Under31  Age_unknown  Month_account_created  \n",
       "0          1         0            0            0                      1  \n",
       "1          0         0            0            1                      1  \n",
       "2          0         0            0            1                      1  \n",
       "3          0         0            0            1                      1  \n",
       "4          0         0            0            1                      1  \n",
       "\n",
       "[5 rows x 93 columns]"
      ]
     },
     "execution_count": 89,
     "metadata": {},
     "output_type": "execute_result"
    }
   ],
   "source": [
    "pd.read_csv('data/model_data_v1.csv').head()"
   ]
  },
  {
   "cell_type": "markdown",
   "metadata": {},
   "source": [
    "### Handselect Features for First Model"
   ]
  },
  {
   "cell_type": "code",
   "execution_count": 39,
   "metadata": {
    "ExecuteTime": {
     "end_time": "2018-05-21T18:20:58.077506Z",
     "start_time": "2018-05-21T18:20:57.989731Z"
    },
    "collapsed": true
   },
   "outputs": [],
   "source": [
    "model_data_v2 = model_data[[\n",
    "#  'date_account_created', 'timestamp_first_active', 'date_first_booking','date_account_created',   \n",
    "#     'secs_elapsed_std','secs_elapsed_median',\n",
    "\n",
    "       'gender', 'signup_method', 'signup_flow',\n",
    "       'language', 'affiliate_channel', 'affiliate_provider',\n",
    "       'first_affiliate_tracked', 'signup_app', 'first_device_type',\n",
    "       'first_browser', 'action=other',\n",
    "       'action=update', 'action=dashboard', 'action=collections',\n",
    "       'action=confirm_email', 'action=reviews', 'action=requested',\n",
    "       'action=unavailabilities', 'action=similar_listings', 'action=active',\n",
    "       'action=show', 'action=qt2', 'action=personalize',\n",
    "       'action=social_connections', 'action=identity', 'action=header_userpic',\n",
    "       'action=search_results', 'action=create', 'action=edit',\n",
    "       'action=similar_listings_v2', 'action=index',\n",
    "       'action=ajax_refresh_subtotal', 'action=lookup', 'action=campaigns',\n",
    "       'action=track_page_view', 'action=notifications', 'action=search',\n",
    "       'action=-1', 'action_type=other', 'action_type=data',\n",
    "       'action_type=click', 'action_type=message_post',\n",
    "       'action_type=-unknown-', 'action_type=view', 'action_type=submit',\n",
    "       'action_type=-1', 'action_detail=other', 'action_detail=message_post',\n",
    "       'action_detail=edit_profile', 'action_detail=view_search_results',\n",
    "       'action_detail=dashboard', 'action_detail=message_thread',\n",
    "       'action_detail=similar_listings', 'action_detail=user_profile',\n",
    "       'action_detail=contact_host', 'action_detail=unavailable_dates',\n",
    "       'action_detail=p3', 'action_detail=create_user',\n",
    "       'action_detail=change_trip_characteristics', 'action_detail=-unknown-',\n",
    "       'action_detail=header_userpic', 'action_detail=user_social_connections',\n",
    "       'action_detail=listing_reviews',\n",
    "       'action_detail=wishlist_content_update', 'action_detail=update_listing',\n",
    "       'action_detail=confirm_email_link', 'action_detail=user_wishlists',\n",
    "       'action_detail=-1', 'device_type=other',\n",
    "       'device_type=Android App Unknown Phone/Tablet',\n",
    "       'device_type=Mac Desktop', 'device_type=-unknown-',\n",
    "       'device_type=Windows Desktop', 'device_type=Tablet',\n",
    "       'device_type=Android Phone', 'device_type=iPhone',\n",
    "       'device_type=iPad Tablet',  'Age_Over40', 'Age_31-39',\n",
    "       'Age_Under31', 'Age_unknown', 'Month_account_created']]\n"
   ]
  },
  {
   "cell_type": "code",
   "execution_count": 73,
   "metadata": {
    "ExecuteTime": {
     "end_time": "2018-05-21T19:45:45.523096Z",
     "start_time": "2018-05-21T19:45:42.937184Z"
    }
   },
   "outputs": [],
   "source": [
    "# ## Export Model Data for Future Analysis:\n",
    "# model_data_v2.to_csv('data/)"
   ]
  },
  {
   "cell_type": "code",
   "execution_count": null,
   "metadata": {
    "ExecuteTime": {
     "end_time": "2018-05-21T19:31:11.569060Z",
     "start_time": "2018-05-21T19:31:11.437664Z"
    }
   },
   "outputs": [],
   "source": []
  },
  {
   "cell_type": "markdown",
   "metadata": {},
   "source": [
    "### Dummify Features (Change Categoricals Features to Binary ) "
   ]
  },
  {
   "cell_type": "code",
   "execution_count": 41,
   "metadata": {
    "ExecuteTime": {
     "end_time": "2018-05-21T18:22:41.569739Z",
     "start_time": "2018-05-21T18:22:41.375066Z"
    }
   },
   "outputs": [
    {
     "name": "stdout",
     "output_type": "stream",
     "text": [
      "<class 'pandas.core.frame.DataFrame'>\n",
      "Int64Index: 73815 entries, 0 to 73814\n",
      "Columns: 181 entries, action=other to first_browser_wOSBrowser\n",
      "dtypes: int64(67), uint8(114)\n",
      "memory usage: 46.3 MB\n"
     ]
    }
   ],
   "source": [
    "df_dummified_x = pd.get_dummies(\n",
    "    model_data_v2,\n",
    "    columns=['Age_Over40', 'Age_31-39',\n",
    "       'Age_Under31', 'Age_unknown', 'Month_account_created','gender', 'signup_method', 'signup_flow',\n",
    "       'language', 'affiliate_channel', 'affiliate_provider',\n",
    "       'first_affiliate_tracked', 'signup_app', 'first_device_type',\n",
    "       'first_browser'],drop_first=True)\n",
    "df_dummified_y = model_data['country_destination']\n",
    "#check veriable length.\n",
    "len(df_dummified_y) == len(df_dummified_x)\n",
    "df_dummified_x.info()"
   ]
  },
  {
   "cell_type": "code",
   "execution_count": null,
   "metadata": {
    "ExecuteTime": {
     "end_time": "2018-05-21T19:53:30.199653Z",
     "start_time": "2018-05-21T19:53:24.159307Z"
    },
    "collapsed": true
   },
   "outputs": [],
   "source": []
  },
  {
   "cell_type": "markdown",
   "metadata": {},
   "source": [
    "### Split into Train and Test"
   ]
  },
  {
   "cell_type": "code",
   "execution_count": 43,
   "metadata": {
    "ExecuteTime": {
     "end_time": "2018-05-21T18:23:52.334179Z",
     "start_time": "2018-05-21T18:23:52.195295Z"
    },
    "collapsed": true
   },
   "outputs": [],
   "source": [
    "X_train, X_test, y_train, y_test = model_selection.train_test_split(df_dummified_x, df_dummified_y, test_size=0.3, stratify=df_dummified_y)\n",
    "Xy_train=X_train,y_train"
   ]
  },
  {
   "cell_type": "markdown",
   "metadata": {},
   "source": [
    "### Tuple Variables for Model Input"
   ]
  },
  {
   "cell_type": "code",
   "execution_count": 44,
   "metadata": {
    "ExecuteTime": {
     "end_time": "2018-05-21T18:24:29.138536Z",
     "start_time": "2018-05-21T18:24:29.122904Z"
    }
   },
   "outputs": [
    {
     "data": {
      "text/plain": [
       "51670"
      ]
     },
     "execution_count": 44,
     "metadata": {},
     "output_type": "execute_result"
    }
   ],
   "source": [
    "skip_size = 10 # skip every n examples for SVM Models. \n",
    "Xy_train_skip=X_train[::skip_size],y_train[::skip_size]\n",
    "\n",
    "Xy_test=X_test,y_test\n",
    "Xy_test_skip=X_test[::skip_size],y_test[::skip_size]\n",
    "\n",
    "len(Xy_train[0])\n",
    "\n"
   ]
  },
  {
   "cell_type": "markdown",
   "metadata": {
    "ExecuteTime": {
     "end_time": "2018-05-07T01:26:45.027749Z",
     "start_time": "2018-05-07T01:26:44.802821Z"
    }
   },
   "source": [
    "### Establish Baseline"
   ]
  },
  {
   "cell_type": "code",
   "execution_count": 45,
   "metadata": {
    "ExecuteTime": {
     "end_time": "2018-05-21T18:24:59.419355Z",
     "start_time": "2018-05-21T18:24:59.408878Z"
    }
   },
   "outputs": [
    {
     "data": {
      "text/plain": [
       "NDF      0.610205\n",
       "US       0.272251\n",
       "other    0.049492\n",
       "FR       0.019417\n",
       "IT       0.013276\n",
       "GB       0.009889\n",
       "ES       0.009573\n",
       "CA       0.005961\n",
       "DE       0.003387\n",
       "NL       0.003342\n",
       "AU       0.002077\n",
       "PT       0.001129\n",
       "Name: country_destination, dtype: float64"
      ]
     },
     "execution_count": 45,
     "metadata": {},
     "output_type": "execute_result"
    }
   ],
   "source": [
    "#Baseline is 61%\n",
    "y_test.value_counts()/len(y_test)"
   ]
  },
  {
   "cell_type": "markdown",
   "metadata": {
    "ExecuteTime": {
     "end_time": "2018-05-04T20:05:29.764260Z",
     "start_time": "2018-05-04T20:05:29.724195Z"
    }
   },
   "source": [
    "### Fit and Test Random Forest Classifier "
   ]
  },
  {
   "cell_type": "code",
   "execution_count": 46,
   "metadata": {
    "ExecuteTime": {
     "end_time": "2018-05-21T18:25:52.875641Z",
     "start_time": "2018-05-21T18:25:52.712459Z"
    },
    "collapsed": true
   },
   "outputs": [],
   "source": [
    "from sklearn.ensemble import RandomForestClassifier\n",
    "rfc = RandomForestClassifier(max_depth=10,warm_start=True)"
   ]
  },
  {
   "cell_type": "code",
   "execution_count": 47,
   "metadata": {
    "ExecuteTime": {
     "end_time": "2018-05-21T18:25:54.781295Z",
     "start_time": "2018-05-21T18:25:54.035939Z"
    }
   },
   "outputs": [
    {
     "data": {
      "text/plain": [
       "RandomForestClassifier(bootstrap=True, class_weight=None, criterion='gini',\n",
       "            max_depth=10, max_features='auto', max_leaf_nodes=None,\n",
       "            min_impurity_decrease=0.0, min_impurity_split=None,\n",
       "            min_samples_leaf=1, min_samples_split=2,\n",
       "            min_weight_fraction_leaf=0.0, n_estimators=10, n_jobs=1,\n",
       "            oob_score=False, random_state=None, verbose=0, warm_start=True)"
      ]
     },
     "execution_count": 47,
     "metadata": {},
     "output_type": "execute_result"
    }
   ],
   "source": [
    "rfc.fit(*Xy_train)"
   ]
  },
  {
   "cell_type": "code",
   "execution_count": 48,
   "metadata": {
    "ExecuteTime": {
     "end_time": "2018-05-21T18:25:56.009509Z",
     "start_time": "2018-05-21T18:25:55.805790Z"
    }
   },
   "outputs": [
    {
     "data": {
      "text/plain": [
       "0.69932262434681636"
      ]
     },
     "execution_count": 48,
     "metadata": {},
     "output_type": "execute_result"
    }
   ],
   "source": [
    "rfc.score(*Xy_train)"
   ]
  },
  {
   "cell_type": "code",
   "execution_count": 49,
   "metadata": {
    "ExecuteTime": {
     "end_time": "2018-05-21T18:25:57.094422Z",
     "start_time": "2018-05-21T18:25:57.009140Z"
    }
   },
   "outputs": [
    {
     "data": {
      "text/plain": [
       "0.67861819823888014"
      ]
     },
     "execution_count": 49,
     "metadata": {},
     "output_type": "execute_result"
    }
   ],
   "source": [
    "rfc.score(*Xy_test)"
   ]
  },
  {
   "cell_type": "markdown",
   "metadata": {},
   "source": [
    "### Fit and Test Random Logistic Regression"
   ]
  },
  {
   "cell_type": "code",
   "execution_count": 50,
   "metadata": {
    "ExecuteTime": {
     "end_time": "2018-05-21T18:27:20.677947Z",
     "start_time": "2018-05-21T18:27:20.546983Z"
    },
    "collapsed": true
   },
   "outputs": [],
   "source": [
    "from sklearn import linear_model\n",
    "lr_logistical=linear_model.LogisticRegression()\n",
    "lr_logistical2=linear_model.LogisticRegression()\n"
   ]
  },
  {
   "cell_type": "code",
   "execution_count": 51,
   "metadata": {
    "ExecuteTime": {
     "end_time": "2018-05-21T18:29:28.236308Z",
     "start_time": "2018-05-21T18:27:29.566271Z"
    }
   },
   "outputs": [
    {
     "data": {
      "text/plain": [
       "0.68633636539578091"
      ]
     },
     "execution_count": 51,
     "metadata": {},
     "output_type": "execute_result"
    }
   ],
   "source": [
    "import numpy as np\n",
    "lr_logistical.fit(*Xy_train)\n",
    "lr_logistical.score(*Xy_train)"
   ]
  },
  {
   "cell_type": "code",
   "execution_count": 52,
   "metadata": {
    "ExecuteTime": {
     "end_time": "2018-05-21T18:29:29.442450Z",
     "start_time": "2018-05-21T18:29:29.369364Z"
    }
   },
   "outputs": [
    {
     "data": {
      "text/plain": [
       "0.68597877624745995"
      ]
     },
     "execution_count": 52,
     "metadata": {},
     "output_type": "execute_result"
    }
   ],
   "source": [
    "lr_logistical.score(*Xy_test)"
   ]
  },
  {
   "cell_type": "code",
   "execution_count": null,
   "metadata": {
    "collapsed": true
   },
   "outputs": [],
   "source": []
  },
  {
   "cell_type": "markdown",
   "metadata": {},
   "source": [
    "### Declare Classify Function to quantify Model Performance "
   ]
  },
  {
   "cell_type": "code",
   "execution_count": 56,
   "metadata": {
    "ExecuteTime": {
     "end_time": "2018-05-21T18:33:41.438030Z",
     "start_time": "2018-05-21T18:33:41.431855Z"
    },
    "collapsed": true
   },
   "outputs": [],
   "source": [
    "from sklearn import metrics\n",
    "def classify(model,X_test,X_train,y_train):\n",
    "    \"\"\"predicts y first, classify, \"\"\"\n",
    "    y_pred = model.predict(X_test)\n",
    "    print(metrics.classification_report(y_test,y_pred))\n",
    "    print(model.score(*Xy_test))\n",
    "#     print(metrics.confusion_matrix(y_test, y_pred))"
   ]
  },
  {
   "cell_type": "code",
   "execution_count": 57,
   "metadata": {
    "ExecuteTime": {
     "end_time": "2018-05-21T18:33:42.842292Z",
     "start_time": "2018-05-21T18:33:42.584201Z"
    },
    "scrolled": false
   },
   "outputs": [
    {
     "name": "stdout",
     "output_type": "stream",
     "text": [
      "             precision    recall  f1-score   support\n",
      "\n",
      "         AU       0.00      0.00      0.00        46\n",
      "         CA       0.00      0.00      0.00       132\n",
      "         DE       0.00      0.00      0.00        75\n",
      "         ES       0.00      0.00      0.00       212\n",
      "         FR       0.00      0.00      0.00       430\n",
      "         GB       0.00      0.00      0.00       219\n",
      "         IT       0.00      0.00      0.00       294\n",
      "        NDF       0.71      0.93      0.80     13513\n",
      "         NL       0.00      0.00      0.00        74\n",
      "         PT       0.00      0.00      0.00        25\n",
      "         US       0.57      0.40      0.47      6029\n",
      "      other       0.00      0.00      0.00      1096\n",
      "\n",
      "avg / total       0.58      0.68      0.62     22145\n",
      "\n",
      "0.678618198239\n"
     ]
    },
    {
     "name": "stderr",
     "output_type": "stream",
     "text": [
      "/Users/honeybadger4/anaconda3/lib/python3.6/site-packages/sklearn/metrics/classification.py:1135: UndefinedMetricWarning: Precision and F-score are ill-defined and being set to 0.0 in labels with no predicted samples.\n",
      "  'precision', 'predicted', average, warn_for)\n"
     ]
    }
   ],
   "source": [
    "classify(rfc,X_test,X_train,y_train)"
   ]
  },
  {
   "cell_type": "markdown",
   "metadata": {},
   "source": [
    "## Compare Various Models: "
   ]
  },
  {
   "cell_type": "code",
   "execution_count": 62,
   "metadata": {
    "ExecuteTime": {
     "end_time": "2018-05-21T19:26:37.406201Z",
     "start_time": "2018-05-21T19:26:16.978458Z"
    }
   },
   "outputs": [
    {
     "name": "stdout",
     "output_type": "stream",
     "text": [
      "LR: 0.678729 (0.007804)\n",
      "KNN: 0.610798 (0.009172)\n",
      "SVM: 0.636926 (0.005876)\n",
      "RFC: 0.683181 (0.002964)\n"
     ]
    },
    {
     "name": "stderr",
     "output_type": "stream",
     "text": [
      "/Users/honeybadger4/anaconda3/lib/python3.6/site-packages/sklearn/ensemble/forest.py:453: UserWarning: Some inputs do not have OOB scores. This probably means too few trees were used to compute any reliable oob estimates.\n",
      "  warn(\"Some inputs do not have OOB scores. \"\n",
      "/Users/honeybadger4/anaconda3/lib/python3.6/site-packages/sklearn/ensemble/forest.py:458: RuntimeWarning: invalid value encountered in true_divide\n",
      "  predictions[k].sum(axis=1)[:, np.newaxis])\n",
      "/Users/honeybadger4/anaconda3/lib/python3.6/site-packages/sklearn/ensemble/forest.py:453: UserWarning: Some inputs do not have OOB scores. This probably means too few trees were used to compute any reliable oob estimates.\n",
      "  warn(\"Some inputs do not have OOB scores. \"\n",
      "/Users/honeybadger4/anaconda3/lib/python3.6/site-packages/sklearn/ensemble/forest.py:458: RuntimeWarning: invalid value encountered in true_divide\n",
      "  predictions[k].sum(axis=1)[:, np.newaxis])\n",
      "/Users/honeybadger4/anaconda3/lib/python3.6/site-packages/matplotlib/cbook/deprecation.py:106: MatplotlibDeprecationWarning: Adding an axes using the same arguments as a previous axes currently reuses the earlier instance.  In a future version, a new instance will always be created and returned.  Meanwhile, this warning can be suppressed, and the future behavior ensured, by passing a unique label to each axes instance.\n",
      "  warnings.warn(message, mplDeprecation, stacklevel=1)\n"
     ]
    },
    {
     "data": {
      "image/png": "[encoded data removed]",
      "text/plain": [
       "<matplotlib.figure.Figure at 0x10271b908>"
      ]
     },
     "metadata": {},
     "output_type": "display_data"
    }
   ],
   "source": [
    "import pandas\n",
    "import matplotlib.pyplot as plt\n",
    "from sklearn import model_selection\n",
    "from sklearn.linear_model import LogisticRegression\n",
    "from sklearn.tree import DecisionTreeClassifier\n",
    "from sklearn.neighbors import KNeighborsClassifier\n",
    "from sklearn.discriminant_analysis import LinearDiscriminantAnalysis\n",
    "from sklearn.naive_bayes import GaussianNB\n",
    "from sklearn.svm import SVC\n",
    "# load dataset\n",
    "# url = \"https://raw.githubusercontent.com/jbrownlee/Datasets/master/pima-indians-diabetes.data.csv\"\n",
    "# names = list_col2\n",
    "# dataframe = pandas.read_csv(url, names=names)\n",
    "# array = dataframe.values\n",
    "# X = array[:,0:8]\n",
    "# Y = array[:,8]\n",
    "# prepare configuration for cross validation test harness\n",
    "seed = 7\n",
    "\n",
    "# prepare models\n",
    "models = []\n",
    "models.append(('LR', LogisticRegression()))\n",
    "# models.append(('LDA', LinearDiscriminantAnalysis()))\n",
    "models.append(('KNN', KNeighborsClassifier()))\n",
    "models.append(('SVM', SVC()))\n",
    "models.append(('RFC', RandomForestClassifier(max_depth=6.5,min_samples_split=48,verbose=0,max_features=60,oob_score=True)))\n",
    "# \n",
    "# evaluate each model in turn\n",
    "results = []\n",
    "names = []\n",
    "scoring = 'accuracy'\n",
    "for name, model in models:\n",
    "\tkfold = model_selection.KFold(n_splits=2, random_state=seed)\n",
    "\tcv_results = model_selection.cross_val_score(model, X_train[::skip_size], y_train[::skip_size], cv=kfold, scoring=scoring)\n",
    "\tresults.append(cv_results)\n",
    "\tnames.append(name)\n",
    "\tmsg = \"%s: %f (%f)\" % (name, cv_results.mean(), cv_results.std())\n",
    "\tprint(msg)\n",
    "# boxplot algorithm comparison\n",
    "\n",
    "import seaborn\n",
    "fig = plt.figure(figsize=(12,8))\n",
    "plt.grid()\n",
    "plt.ylabel(\"accuracy\")\n",
    "fig.suptitle('Algorithm Comparison')\n",
    "ax = fig.add_subplot(111)\n",
    "plt.boxplot(results)\n",
    "ax.set_xticklabels(names)\n",
    "# fig.savefig('compare.jpeg', format='jpeg', dpi=400)\n",
    "plt.show()\n"
   ]
  },
  {
   "cell_type": "markdown",
   "metadata": {
    "ExecuteTime": {
     "end_time": "2018-05-21T18:34:18.710508Z",
     "start_time": "2018-05-21T18:34:18.707129Z"
    }
   },
   "source": [
    "### Visualize Random Forest Parameters"
   ]
  },
  {
   "cell_type": "code",
   "execution_count": 55,
   "metadata": {
    "ExecuteTime": {
     "end_time": "2018-05-21T18:33:23.154085Z",
     "start_time": "2018-05-21T18:33:21.743945Z"
    }
   },
   "outputs": [
    {
     "name": "stderr",
     "output_type": "stream",
     "text": [
      "/Users/honeybadger4/anaconda3/lib/python3.6/site-packages/sklearn/ensemble/forest.py:453: UserWarning: Some inputs do not have OOB scores. This probably means too few trees were used to compute any reliable oob estimates.\n",
      "  warn(\"Some inputs do not have OOB scores. \"\n",
      "/Users/honeybadger4/anaconda3/lib/python3.6/site-packages/sklearn/ensemble/forest.py:458: RuntimeWarning: invalid value encountered in true_divide\n",
      "  predictions[k].sum(axis=1)[:, np.newaxis])\n"
     ]
    },
    {
     "data": {
      "image/png": "[encoded data removed]",
      "text/plain": [
       "<matplotlib.figure.Figure at 0x1a0c3046a0>"
      ]
     },
     "metadata": {},
     "output_type": "display_data"
    }
   ],
   "source": [
    "import numpy as np\n",
    "\n",
    "from sklearn.ensemble import RandomForestRegressor\n",
    "from sklearn.tree import _tree, export_graphviz\n",
    "from sklearn.datasets import load_boston\n",
    "\n",
    "import matplotlib.pyplot as plt\n",
    "\n",
    "from sklearn.utils import check_random_state\n",
    "\n",
    "\n",
    "def leaf_depths(tree, node_id=0):\n",
    "\n",
    "    left_child = tree.children_left[node_id]\n",
    "    right_child = tree.children_right[node_id]\n",
    "\n",
    "    if left_child == _tree.TREE_LEAF:\n",
    "\n",
    "        depths = np.array([0])\n",
    "\n",
    "    else:\n",
    "\n",
    "        left_depths = leaf_depths(tree, left_child) + 1\n",
    "        right_depths = leaf_depths(tree, right_child) + 1\n",
    "\n",
    "        depths = np.append(left_depths, right_depths)\n",
    "\n",
    "    return depths\n",
    "\n",
    "\n",
    "def leaf_samples(tree, node_id=0):\n",
    "\n",
    "    left_child = tree.children_left[node_id]\n",
    "    right_child = tree.children_right[node_id]\n",
    "\n",
    "    if left_child == _tree.TREE_LEAF:\n",
    "\n",
    "        samples = np.array([tree.n_node_samples[node_id]])\n",
    "\n",
    "    else:\n",
    "\n",
    "        left_samples = leaf_samples(tree, left_child)\n",
    "        right_samples = leaf_samples(tree, right_child)\n",
    "\n",
    "        samples = np.append(left_samples, right_samples)\n",
    "\n",
    "    return samples\n",
    "\n",
    "\n",
    "def draw_tree(ensemble, tree_id=0):\n",
    "\n",
    "    plt.figure(figsize=(8, 8))\n",
    "    plt.subplot(211)\n",
    "\n",
    "    tree = ensemble.estimators_[tree_id].tree_\n",
    "\n",
    "    depths = leaf_depths(tree)\n",
    "    plt.hist(\n",
    "        depths,\n",
    "        histtype='step',\n",
    "        color='#9933ff',\n",
    "        bins=range(min(depths),\n",
    "                   max(depths) + 1))\n",
    "\n",
    "    plt.xlabel(\"Depth of leaf nodes (tree %s)\" % tree_id)\n",
    "\n",
    "    plt.subplot(212)\n",
    "\n",
    "    samples = leaf_samples(tree)\n",
    "    plt.hist(\n",
    "        samples,\n",
    "        histtype='step',\n",
    "        color='#3399ff',\n",
    "        bins=range(min(samples),\n",
    "                   max(samples) + 1))\n",
    "\n",
    "    plt.xlabel(\"Number of samples in leaf nodes (tree %s)\" % tree_id)\n",
    "\n",
    "    plt.show()\n",
    "\n",
    "\n",
    "def draw_ensemble(ensemble):\n",
    "\n",
    "    plt.figure(figsize=(8, 8))\n",
    "    plt.subplot(211)\n",
    "\n",
    "    depths_all = np.array([], dtype=int)\n",
    "\n",
    "    for x in ensemble.estimators_:\n",
    "        tree = x.tree_\n",
    "        depths = leaf_depths(tree)\n",
    "        depths_all = np.append(depths_all, depths)\n",
    "        plt.hist(\n",
    "            depths,\n",
    "            histtype='step',\n",
    "            color='#ddaaff',\n",
    "            bins=range(min(depths),\n",
    "                       max(depths) + 1))\n",
    "\n",
    "    plt.hist(\n",
    "        depths_all,\n",
    "        histtype='step',\n",
    "        color='#9933ff',\n",
    "        bins=range(min(depths_all),\n",
    "                   max(depths_all) + 1),\n",
    "        weights=np.ones(len(depths_all)) / len(ensemble.estimators_),\n",
    "        linewidth=2)\n",
    "    plt.xlabel(\"Depth of leaf nodes\")\n",
    "\n",
    "    samples_all = np.array([], dtype=int)\n",
    "\n",
    "    plt.subplot(212)\n",
    "\n",
    "    for x in ensemble.estimators_:\n",
    "        tree = x.tree_\n",
    "        samples = leaf_samples(tree)\n",
    "        samples_all = np.append(samples_all, samples)\n",
    "        plt.hist(\n",
    "            samples,\n",
    "            histtype='step',\n",
    "            color='#aaddff',\n",
    "            bins=range(min(samples),\n",
    "                       max(samples) + 1))\n",
    "\n",
    "    plt.hist(\n",
    "        samples_all,\n",
    "        histtype='step',\n",
    "        color='#3399ff',\n",
    "        bins=range(min(samples_all),\n",
    "                   max(samples_all) + 1),\n",
    "        weights=np.ones(len(samples_all)) / len(ensemble.estimators_),\n",
    "        linewidth=2)\n",
    "    plt.xlabel(\"Number of samples in leaf nodes\")\n",
    "\n",
    "    plt.show()\n",
    "\n",
    "\n",
    "boston = load_boston()\n",
    "X = boston.data\n",
    "y = boston.target\n",
    "\n",
    "rnd = check_random_state(0)\n",
    "skip_size\n",
    "ensemble = RandomForestClassifier(\n",
    "    max_depth=20,\n",
    "    min_samples_split=48,\n",
    "    verbose=0,\n",
    "    max_features=60,\n",
    "    oob_score=True)\n",
    "ensemble.fit(X_train[::skip_size], y_train[::skip_size])\n",
    "\n",
    "draw_ensemble(ensemble)\n",
    "\n",
    "# max_depth=12 indeed results in maximum depth of xx and leads to less complex trees and more samples in the leaf nodes:\n",
    "# To validate these two helper functions, one can visualize the effect of max_depth and min_samples_leaf on underlying trees in the forest. "
   ]
  },
  {
   "cell_type": "code",
   "execution_count": null,
   "metadata": {
    "collapsed": true
   },
   "outputs": [],
   "source": []
  },
  {
   "cell_type": "code",
   "execution_count": null,
   "metadata": {
    "collapsed": true
   },
   "outputs": [],
   "source": []
  },
  {
   "cell_type": "code",
   "execution_count": null,
   "metadata": {
    "collapsed": true
   },
   "outputs": [],
   "source": []
  }
 ],
 "metadata": {
  "kernelspec": {
   "display_name": "Python 3",
   "language": "python",
   "name": "python3"
  },
  "language_info": {
   "codemirror_mode": {
    "name": "ipython",
    "version": 3
   },
   "file_extension": ".py",
   "mimetype": "text/x-python",
   "name": "python",
   "nbconvert_exporter": "python",
   "pygments_lexer": "ipython3",
   "version": "3.6.3"
  },
  "varInspector": {
   "cols": {
    "lenName": 16,
    "lenType": 16,
    "lenVar": 40
   },
   "kernels_config": {
    "python": {
     "delete_cmd_postfix": "",
     "delete_cmd_prefix": "del ",
     "library": "var_list.py",
     "varRefreshCmd": "print(var_dic_list())"
    },
    "r": {
     "delete_cmd_postfix": ") ",
     "delete_cmd_prefix": "rm(",
     "library": "var_list.r",
     "varRefreshCmd": "cat(var_dic_list()) "
    }
   },
   "types_to_exclude": [
    "module",
    "function",
    "builtin_function_or_method",
    "instance",
    "_Feature"
   ],
   "window_display": false
  }
 },
 "nbformat": 4,
 "nbformat_minor": 2
}
